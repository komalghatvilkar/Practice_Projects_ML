{
 "cells": [
  {
   "cell_type": "markdown",
   "id": "5800bc4e",
   "metadata": {},
   "source": [
    "# Sales Channel Prediction Case Study - "
   ]
  },
  {
   "cell_type": "code",
   "execution_count": 1,
   "id": "fa64d92d",
   "metadata": {},
   "outputs": [],
   "source": [
    "import numpy as np\n",
    "import pandas as pd"
   ]
  },
  {
   "cell_type": "code",
   "execution_count": 2,
   "id": "a293e20f",
   "metadata": {
    "scrolled": true
   },
   "outputs": [
    {
     "data": {
      "text/html": [
       "<div>\n",
       "<style scoped>\n",
       "    .dataframe tbody tr th:only-of-type {\n",
       "        vertical-align: middle;\n",
       "    }\n",
       "\n",
       "    .dataframe tbody tr th {\n",
       "        vertical-align: top;\n",
       "    }\n",
       "\n",
       "    .dataframe thead th {\n",
       "        text-align: right;\n",
       "    }\n",
       "</style>\n",
       "<table border=\"1\" class=\"dataframe\">\n",
       "  <thead>\n",
       "    <tr style=\"text-align: right;\">\n",
       "      <th></th>\n",
       "      <th>Unnamed: 0</th>\n",
       "      <th>TV</th>\n",
       "      <th>radio</th>\n",
       "      <th>newspaper</th>\n",
       "      <th>sales</th>\n",
       "    </tr>\n",
       "  </thead>\n",
       "  <tbody>\n",
       "    <tr>\n",
       "      <th>0</th>\n",
       "      <td>1</td>\n",
       "      <td>230.1</td>\n",
       "      <td>37.8</td>\n",
       "      <td>69.2</td>\n",
       "      <td>22.1</td>\n",
       "    </tr>\n",
       "    <tr>\n",
       "      <th>1</th>\n",
       "      <td>2</td>\n",
       "      <td>44.5</td>\n",
       "      <td>39.3</td>\n",
       "      <td>45.1</td>\n",
       "      <td>10.4</td>\n",
       "    </tr>\n",
       "    <tr>\n",
       "      <th>2</th>\n",
       "      <td>3</td>\n",
       "      <td>17.2</td>\n",
       "      <td>45.9</td>\n",
       "      <td>69.3</td>\n",
       "      <td>9.3</td>\n",
       "    </tr>\n",
       "    <tr>\n",
       "      <th>3</th>\n",
       "      <td>4</td>\n",
       "      <td>151.5</td>\n",
       "      <td>41.3</td>\n",
       "      <td>58.5</td>\n",
       "      <td>18.5</td>\n",
       "    </tr>\n",
       "    <tr>\n",
       "      <th>4</th>\n",
       "      <td>5</td>\n",
       "      <td>180.8</td>\n",
       "      <td>10.8</td>\n",
       "      <td>58.4</td>\n",
       "      <td>12.9</td>\n",
       "    </tr>\n",
       "    <tr>\n",
       "      <th>...</th>\n",
       "      <td>...</td>\n",
       "      <td>...</td>\n",
       "      <td>...</td>\n",
       "      <td>...</td>\n",
       "      <td>...</td>\n",
       "    </tr>\n",
       "    <tr>\n",
       "      <th>195</th>\n",
       "      <td>196</td>\n",
       "      <td>38.2</td>\n",
       "      <td>3.7</td>\n",
       "      <td>13.8</td>\n",
       "      <td>7.6</td>\n",
       "    </tr>\n",
       "    <tr>\n",
       "      <th>196</th>\n",
       "      <td>197</td>\n",
       "      <td>94.2</td>\n",
       "      <td>4.9</td>\n",
       "      <td>8.1</td>\n",
       "      <td>9.7</td>\n",
       "    </tr>\n",
       "    <tr>\n",
       "      <th>197</th>\n",
       "      <td>198</td>\n",
       "      <td>177.0</td>\n",
       "      <td>9.3</td>\n",
       "      <td>6.4</td>\n",
       "      <td>12.8</td>\n",
       "    </tr>\n",
       "    <tr>\n",
       "      <th>198</th>\n",
       "      <td>199</td>\n",
       "      <td>283.6</td>\n",
       "      <td>42.0</td>\n",
       "      <td>66.2</td>\n",
       "      <td>25.5</td>\n",
       "    </tr>\n",
       "    <tr>\n",
       "      <th>199</th>\n",
       "      <td>200</td>\n",
       "      <td>232.1</td>\n",
       "      <td>8.6</td>\n",
       "      <td>8.7</td>\n",
       "      <td>13.4</td>\n",
       "    </tr>\n",
       "  </tbody>\n",
       "</table>\n",
       "<p>200 rows × 5 columns</p>\n",
       "</div>"
      ],
      "text/plain": [
       "     Unnamed: 0     TV  radio  newspaper  sales\n",
       "0             1  230.1   37.8       69.2   22.1\n",
       "1             2   44.5   39.3       45.1   10.4\n",
       "2             3   17.2   45.9       69.3    9.3\n",
       "3             4  151.5   41.3       58.5   18.5\n",
       "4             5  180.8   10.8       58.4   12.9\n",
       "..          ...    ...    ...        ...    ...\n",
       "195         196   38.2    3.7       13.8    7.6\n",
       "196         197   94.2    4.9        8.1    9.7\n",
       "197         198  177.0    9.3        6.4   12.8\n",
       "198         199  283.6   42.0       66.2   25.5\n",
       "199         200  232.1    8.6        8.7   13.4\n",
       "\n",
       "[200 rows x 5 columns]"
      ]
     },
     "execution_count": 2,
     "metadata": {},
     "output_type": "execute_result"
    }
   ],
   "source": [
    "df = pd.read_csv(r'C:\\Users\\HP\\Desktop\\Advertising.csv')\n",
    "df"
   ]
  },
  {
   "cell_type": "code",
   "execution_count": 3,
   "id": "e6cfa6e8",
   "metadata": {
    "scrolled": false
   },
   "outputs": [
    {
     "name": "stdout",
     "output_type": "stream",
     "text": [
      "<class 'pandas.core.frame.DataFrame'>\n",
      "RangeIndex: 200 entries, 0 to 199\n",
      "Data columns (total 5 columns):\n",
      " #   Column      Non-Null Count  Dtype  \n",
      "---  ------      --------------  -----  \n",
      " 0   Unnamed: 0  200 non-null    int64  \n",
      " 1   TV          200 non-null    float64\n",
      " 2   radio       200 non-null    float64\n",
      " 3   newspaper   200 non-null    float64\n",
      " 4   sales       200 non-null    float64\n",
      "dtypes: float64(4), int64(1)\n",
      "memory usage: 7.9 KB\n"
     ]
    }
   ],
   "source": [
    "df.info()"
   ]
  },
  {
   "cell_type": "code",
   "execution_count": 4,
   "id": "8469c3de",
   "metadata": {},
   "outputs": [],
   "source": [
    "df=df.drop('Unnamed: 0',axis=1)"
   ]
  },
  {
   "cell_type": "code",
   "execution_count": 5,
   "id": "c8554629",
   "metadata": {},
   "outputs": [
    {
     "data": {
      "text/html": [
       "<div>\n",
       "<style scoped>\n",
       "    .dataframe tbody tr th:only-of-type {\n",
       "        vertical-align: middle;\n",
       "    }\n",
       "\n",
       "    .dataframe tbody tr th {\n",
       "        vertical-align: top;\n",
       "    }\n",
       "\n",
       "    .dataframe thead th {\n",
       "        text-align: right;\n",
       "    }\n",
       "</style>\n",
       "<table border=\"1\" class=\"dataframe\">\n",
       "  <thead>\n",
       "    <tr style=\"text-align: right;\">\n",
       "      <th></th>\n",
       "      <th>TV</th>\n",
       "      <th>radio</th>\n",
       "      <th>newspaper</th>\n",
       "      <th>sales</th>\n",
       "    </tr>\n",
       "  </thead>\n",
       "  <tbody>\n",
       "    <tr>\n",
       "      <th>count</th>\n",
       "      <td>200.000000</td>\n",
       "      <td>200.000000</td>\n",
       "      <td>200.000000</td>\n",
       "      <td>200.000000</td>\n",
       "    </tr>\n",
       "    <tr>\n",
       "      <th>mean</th>\n",
       "      <td>147.042500</td>\n",
       "      <td>23.264000</td>\n",
       "      <td>30.554000</td>\n",
       "      <td>14.022500</td>\n",
       "    </tr>\n",
       "    <tr>\n",
       "      <th>std</th>\n",
       "      <td>85.854236</td>\n",
       "      <td>14.846809</td>\n",
       "      <td>21.778621</td>\n",
       "      <td>5.217457</td>\n",
       "    </tr>\n",
       "    <tr>\n",
       "      <th>min</th>\n",
       "      <td>0.700000</td>\n",
       "      <td>0.000000</td>\n",
       "      <td>0.300000</td>\n",
       "      <td>1.600000</td>\n",
       "    </tr>\n",
       "    <tr>\n",
       "      <th>25%</th>\n",
       "      <td>74.375000</td>\n",
       "      <td>9.975000</td>\n",
       "      <td>12.750000</td>\n",
       "      <td>10.375000</td>\n",
       "    </tr>\n",
       "    <tr>\n",
       "      <th>50%</th>\n",
       "      <td>149.750000</td>\n",
       "      <td>22.900000</td>\n",
       "      <td>25.750000</td>\n",
       "      <td>12.900000</td>\n",
       "    </tr>\n",
       "    <tr>\n",
       "      <th>75%</th>\n",
       "      <td>218.825000</td>\n",
       "      <td>36.525000</td>\n",
       "      <td>45.100000</td>\n",
       "      <td>17.400000</td>\n",
       "    </tr>\n",
       "    <tr>\n",
       "      <th>max</th>\n",
       "      <td>296.400000</td>\n",
       "      <td>49.600000</td>\n",
       "      <td>114.000000</td>\n",
       "      <td>27.000000</td>\n",
       "    </tr>\n",
       "  </tbody>\n",
       "</table>\n",
       "</div>"
      ],
      "text/plain": [
       "               TV       radio   newspaper       sales\n",
       "count  200.000000  200.000000  200.000000  200.000000\n",
       "mean   147.042500   23.264000   30.554000   14.022500\n",
       "std     85.854236   14.846809   21.778621    5.217457\n",
       "min      0.700000    0.000000    0.300000    1.600000\n",
       "25%     74.375000    9.975000   12.750000   10.375000\n",
       "50%    149.750000   22.900000   25.750000   12.900000\n",
       "75%    218.825000   36.525000   45.100000   17.400000\n",
       "max    296.400000   49.600000  114.000000   27.000000"
      ]
     },
     "execution_count": 5,
     "metadata": {},
     "output_type": "execute_result"
    }
   ],
   "source": [
    "df.describe()"
   ]
  },
  {
   "cell_type": "code",
   "execution_count": 6,
   "id": "aa4099a2",
   "metadata": {},
   "outputs": [
    {
     "data": {
      "text/plain": [
       "TV           0\n",
       "radio        0\n",
       "newspaper    0\n",
       "sales        0\n",
       "dtype: int64"
      ]
     },
     "execution_count": 6,
     "metadata": {},
     "output_type": "execute_result"
    }
   ],
   "source": [
    "df.isnull().sum()"
   ]
  },
  {
   "cell_type": "code",
   "execution_count": 7,
   "id": "7a18e4f4",
   "metadata": {},
   "outputs": [
    {
     "data": {
      "text/html": [
       "<div>\n",
       "<style scoped>\n",
       "    .dataframe tbody tr th:only-of-type {\n",
       "        vertical-align: middle;\n",
       "    }\n",
       "\n",
       "    .dataframe tbody tr th {\n",
       "        vertical-align: top;\n",
       "    }\n",
       "\n",
       "    .dataframe thead th {\n",
       "        text-align: right;\n",
       "    }\n",
       "</style>\n",
       "<table border=\"1\" class=\"dataframe\">\n",
       "  <thead>\n",
       "    <tr style=\"text-align: right;\">\n",
       "      <th></th>\n",
       "      <th>TV</th>\n",
       "      <th>radio</th>\n",
       "      <th>newspaper</th>\n",
       "      <th>sales</th>\n",
       "    </tr>\n",
       "  </thead>\n",
       "  <tbody>\n",
       "    <tr>\n",
       "      <th>TV</th>\n",
       "      <td>1.000000</td>\n",
       "      <td>0.054809</td>\n",
       "      <td>0.056648</td>\n",
       "      <td>0.782224</td>\n",
       "    </tr>\n",
       "    <tr>\n",
       "      <th>radio</th>\n",
       "      <td>0.054809</td>\n",
       "      <td>1.000000</td>\n",
       "      <td>0.354104</td>\n",
       "      <td>0.576223</td>\n",
       "    </tr>\n",
       "    <tr>\n",
       "      <th>newspaper</th>\n",
       "      <td>0.056648</td>\n",
       "      <td>0.354104</td>\n",
       "      <td>1.000000</td>\n",
       "      <td>0.228299</td>\n",
       "    </tr>\n",
       "    <tr>\n",
       "      <th>sales</th>\n",
       "      <td>0.782224</td>\n",
       "      <td>0.576223</td>\n",
       "      <td>0.228299</td>\n",
       "      <td>1.000000</td>\n",
       "    </tr>\n",
       "  </tbody>\n",
       "</table>\n",
       "</div>"
      ],
      "text/plain": [
       "                 TV     radio  newspaper     sales\n",
       "TV         1.000000  0.054809   0.056648  0.782224\n",
       "radio      0.054809  1.000000   0.354104  0.576223\n",
       "newspaper  0.056648  0.354104   1.000000  0.228299\n",
       "sales      0.782224  0.576223   0.228299  1.000000"
      ]
     },
     "execution_count": 7,
     "metadata": {},
     "output_type": "execute_result"
    }
   ],
   "source": [
    "df.corr()"
   ]
  },
  {
   "cell_type": "code",
   "execution_count": 8,
   "id": "05722418",
   "metadata": {},
   "outputs": [
    {
     "data": {
      "text/plain": [
       "<AxesSubplot:>"
      ]
     },
     "execution_count": 8,
     "metadata": {},
     "output_type": "execute_result"
    },
    {
     "data": {
      "image/png": "[encoded data removed]",
      "text/plain": [
       "<Figure size 576x432 with 2 Axes>"
      ]
     },
     "metadata": {
      "needs_background": "light"
     },
     "output_type": "display_data"
    }
   ],
   "source": [
    "# Heatmap\n",
    "# Corr using heatmap\n",
    "import matplotlib.pyplot as plt\n",
    "import seaborn as sns\n",
    "plt.figure(figsize=(8,6))\n",
    "sns.heatmap(df.corr(),annot=True,linewidth=.5,linecolor='black',fmt='.2f')"
   ]
  },
  {
   "cell_type": "code",
   "execution_count": 9,
   "id": "02802052",
   "metadata": {
    "scrolled": true
   },
   "outputs": [
    {
     "data": {
      "image/png": "[encoded data removed]",
      "text/plain": [
       "<Figure size 2160x1440 with 66 Axes>"
      ]
     },
     "metadata": {
      "needs_background": "light"
     },
     "output_type": "display_data"
    }
   ],
   "source": [
    "df.plot(kind='density',subplots=True,layout=(6,11),sharex=False,fontsize=1,figsize=(30,20))\n",
    "plt.show()"
   ]
  },
  {
   "cell_type": "code",
   "execution_count": 10,
   "id": "c61b46e8",
   "metadata": {},
   "outputs": [],
   "source": [
    "x=df.drop('sales',axis=1) # Split data dependent & independent variable in x & y before removing skewness\n",
    "y=df['sales']"
   ]
  },
  {
   "cell_type": "code",
   "execution_count": 11,
   "id": "6f648c97",
   "metadata": {
    "scrolled": true
   },
   "outputs": [
    {
     "data": {
      "text/plain": [
       "TV          -0.069853\n",
       "radio        0.094175\n",
       "newspaper    0.894720\n",
       "dtype: float64"
      ]
     },
     "execution_count": 11,
     "metadata": {},
     "output_type": "execute_result"
    }
   ],
   "source": [
    "x.skew()"
   ]
  },
  {
   "cell_type": "code",
   "execution_count": 12,
   "id": "0a3ff0e2",
   "metadata": {},
   "outputs": [],
   "source": [
    "# Remove the Skweness of the data\n",
    "from sklearn.preprocessing import power_transform\n",
    "x_new=power_transform(x)\n",
    "x=pd.DataFrame(x_new,columns=x.columns)"
   ]
  },
  {
   "cell_type": "code",
   "execution_count": 13,
   "id": "795b9162",
   "metadata": {},
   "outputs": [
    {
     "data": {
      "text/plain": [
       "newspaper   -0.077942\n",
       "radio       -0.242968\n",
       "TV          -0.315199\n",
       "dtype: float64"
      ]
     },
     "execution_count": 13,
     "metadata": {},
     "output_type": "execute_result"
    }
   ],
   "source": [
    "x.skew().sort_values(ascending=False)"
   ]
  },
  {
   "cell_type": "code",
   "execution_count": 14,
   "id": "af5f9996",
   "metadata": {
    "scrolled": true
   },
   "outputs": [
    {
     "data": {
      "text/plain": [
       "TV           float64\n",
       "radio        float64\n",
       "newspaper    float64\n",
       "dtype: object"
      ]
     },
     "execution_count": 14,
     "metadata": {},
     "output_type": "execute_result"
    }
   ],
   "source": [
    "# Outliers Check\n",
    "x.dtypes"
   ]
  },
  {
   "cell_type": "code",
   "execution_count": 15,
   "id": "daeced20",
   "metadata": {},
   "outputs": [
    {
     "data": {
      "image/png": "[encoded data removed]",
      "text/plain": [
       "<Figure size 720x576 with 1 Axes>"
      ]
     },
     "metadata": {
      "needs_background": "light"
     },
     "output_type": "display_data"
    }
   ],
   "source": [
    "x.boxplot(figsize=[10,8])\n",
    "plt.show()"
   ]
  },
  {
   "cell_type": "code",
   "execution_count": 16,
   "id": "80fec720",
   "metadata": {},
   "outputs": [],
   "source": [
    "# Scatter Plot Showing How Target Variable Sales is Related to Other Variables"
   ]
  },
  {
   "cell_type": "code",
   "execution_count": 17,
   "id": "99261f11",
   "metadata": {},
   "outputs": [
    {
     "data": {
      "image/png": "[encoded data removed]",
      "text/plain": [
       "<Figure size 864x288 with 3 Axes>"
      ]
     },
     "metadata": {
      "needs_background": "light"
     },
     "output_type": "display_data"
    }
   ],
   "source": [
    "import seaborn as sns\n",
    "sns.pairplot(df,x_vars=['TV','radio','newspaper'],y_vars='sales',height=4,aspect=1,kind='scatter')\n",
    "plt.show()"
   ]
  },
  {
   "cell_type": "code",
   "execution_count": 18,
   "id": "b0b22dc1",
   "metadata": {},
   "outputs": [],
   "source": [
    "# Training process\n",
    "# Min-max scaler\n",
    "from sklearn.preprocessing import MinMaxScaler\n",
    "mms=MinMaxScaler()\n",
    "from sklearn.linear_model import LinearRegression\n",
    "lr=LinearRegression()\n",
    "from sklearn.metrics import r2_score\n",
    "from sklearn.model_selection import train_test_split"
   ]
  },
  {
   "cell_type": "code",
   "execution_count": 19,
   "id": "dd98789f",
   "metadata": {},
   "outputs": [
    {
     "name": "stdout",
     "output_type": "stream",
     "text": [
      "At Random State 0, the training accuracy is :- 0.9129495390360743\n",
      "At Random State 0, the training accuracy is :- 0.8838865502815021\n",
      "\n",
      "\n",
      "At Random State 1, the training accuracy is :- 0.9071938747219684\n",
      "At Random State 1, the training accuracy is :- 0.8962223515318661\n",
      "\n",
      "\n",
      "At Random State 2, the training accuracy is :- 0.9183341288802332\n",
      "At Random State 2, the training accuracy is :- 0.8134661880809735\n",
      "\n",
      "\n",
      "At Random State 3, the training accuracy is :- 0.9044922374546075\n",
      "At Random State 3, the training accuracy is :- 0.9176823268482114\n",
      "\n",
      "\n",
      "At Random State 4, the training accuracy is :- 0.9058334490016561\n",
      "At Random State 4, the training accuracy is :- 0.8999332568068064\n",
      "\n",
      "\n",
      "At Random State 5, the training accuracy is :- 0.9057996837685972\n",
      "At Random State 5, the training accuracy is :- 0.9111155103873196\n",
      "\n",
      "\n",
      "At Random State 6, the training accuracy is :- 0.9031637800959937\n",
      "At Random State 6, the training accuracy is :- 0.9263228920019168\n",
      "\n",
      "\n",
      "At Random State 7, the training accuracy is :- 0.9024328978288425\n",
      "At Random State 7, the training accuracy is :- 0.9229594391045336\n",
      "\n",
      "\n",
      "At Random State 8, the training accuracy is :- 0.9161168555487973\n",
      "At Random State 8, the training accuracy is :- 0.8678974095570129\n",
      "\n",
      "\n",
      "At Random State 9, the training accuracy is :- 0.9009624466452009\n",
      "At Random State 9, the training accuracy is :- 0.9318076821551766\n",
      "\n",
      "\n",
      "At Random State 10, the training accuracy is :- 0.9228846311393284\n",
      "At Random State 10, the training accuracy is :- 0.8657541622711326\n",
      "\n",
      "\n",
      "At Random State 11, the training accuracy is :- 0.9133524709379977\n",
      "At Random State 11, the training accuracy is :- 0.8803200845985655\n",
      "\n",
      "\n",
      "At Random State 12, the training accuracy is :- 0.902936158022683\n",
      "At Random State 12, the training accuracy is :- 0.9194470983657713\n",
      "\n",
      "\n",
      "At Random State 13, the training accuracy is :- 0.8976805428874328\n",
      "At Random State 13, the training accuracy is :- 0.939589889787954\n",
      "\n",
      "\n",
      "At Random State 14, the training accuracy is :- 0.9123609625961204\n",
      "At Random State 14, the training accuracy is :- 0.8855915841915027\n",
      "\n",
      "\n",
      "At Random State 15, the training accuracy is :- 0.9105627140433176\n",
      "At Random State 15, the training accuracy is :- 0.8927492990332131\n",
      "\n",
      "\n",
      "At Random State 16, the training accuracy is :- 0.9007165527505835\n",
      "At Random State 16, the training accuracy is :- 0.9394773289601728\n",
      "\n",
      "\n",
      "At Random State 17, the training accuracy is :- 0.9142812695219606\n",
      "At Random State 17, the training accuracy is :- 0.8704482295852985\n",
      "\n",
      "\n",
      "At Random State 18, the training accuracy is :- 0.914422622247835\n",
      "At Random State 18, the training accuracy is :- 0.885248599109203\n",
      "\n",
      "\n",
      "At Random State 19, the training accuracy is :- 0.9091652752339459\n",
      "At Random State 19, the training accuracy is :- 0.8899047479311966\n",
      "\n",
      "\n",
      "At Random State 20, the training accuracy is :- 0.9040548283088207\n",
      "At Random State 20, the training accuracy is :- 0.9146141588810444\n",
      "\n",
      "\n",
      "At Random State 21, the training accuracy is :- 0.9055624003652625\n",
      "At Random State 21, the training accuracy is :- 0.9082319224948717\n",
      "\n",
      "\n",
      "At Random State 22, the training accuracy is :- 0.9009738344986652\n",
      "At Random State 22, the training accuracy is :- 0.9263830838963718\n",
      "\n",
      "\n",
      "At Random State 23, the training accuracy is :- 0.9051980620752518\n",
      "At Random State 23, the training accuracy is :- 0.912255042790337\n",
      "\n",
      "\n",
      "At Random State 24, the training accuracy is :- 0.9047131226879829\n",
      "At Random State 24, the training accuracy is :- 0.9161946899635486\n",
      "\n",
      "\n",
      "At Random State 25, the training accuracy is :- 0.9108220375209233\n",
      "At Random State 25, the training accuracy is :- 0.8864519771219054\n",
      "\n",
      "\n",
      "At Random State 26, the training accuracy is :- 0.9097254623523157\n",
      "At Random State 26, the training accuracy is :- 0.8861223870939149\n",
      "\n",
      "\n",
      "At Random State 27, the training accuracy is :- 0.9061121337699268\n",
      "At Random State 27, the training accuracy is :- 0.9124326285551333\n",
      "\n",
      "\n",
      "At Random State 28, the training accuracy is :- 0.9072975185732034\n",
      "At Random State 28, the training accuracy is :- 0.9055189371310904\n",
      "\n",
      "\n",
      "At Random State 29, the training accuracy is :- 0.9019778705090933\n",
      "At Random State 29, the training accuracy is :- 0.9177322552308231\n",
      "\n",
      "\n",
      "At Random State 30, the training accuracy is :- 0.9032029024339487\n",
      "At Random State 30, the training accuracy is :- 0.9184029165462607\n",
      "\n",
      "\n",
      "At Random State 31, the training accuracy is :- 0.9011717960066744\n",
      "At Random State 31, the training accuracy is :- 0.9203877988948186\n",
      "\n",
      "\n",
      "At Random State 32, the training accuracy is :- 0.9185058459448898\n",
      "At Random State 32, the training accuracy is :- 0.8358992309579859\n",
      "\n",
      "\n",
      "At Random State 33, the training accuracy is :- 0.9105975424686962\n",
      "At Random State 33, the training accuracy is :- 0.8803971236069517\n",
      "\n",
      "\n",
      "At Random State 34, the training accuracy is :- 0.9117922224881359\n",
      "At Random State 34, the training accuracy is :- 0.8839111433962008\n",
      "\n",
      "\n",
      "At Random State 35, the training accuracy is :- 0.9170581141140548\n",
      "At Random State 35, the training accuracy is :- 0.8420493162670035\n",
      "\n",
      "\n",
      "At Random State 36, the training accuracy is :- 0.9017665999083453\n",
      "At Random State 36, the training accuracy is :- 0.9269013680745881\n",
      "\n",
      "\n",
      "At Random State 37, the training accuracy is :- 0.9112122909365981\n",
      "At Random State 37, the training accuracy is :- 0.8884592002685253\n",
      "\n",
      "\n",
      "At Random State 38, the training accuracy is :- 0.9079162095332599\n",
      "At Random State 38, the training accuracy is :- 0.9010698757344735\n",
      "\n",
      "\n",
      "At Random State 39, the training accuracy is :- 0.9139340857893716\n",
      "At Random State 39, the training accuracy is :- 0.8698052736913019\n",
      "\n",
      "\n",
      "At Random State 40, the training accuracy is :- 0.9188570437425927\n",
      "At Random State 40, the training accuracy is :- 0.8542245191528463\n",
      "\n",
      "\n",
      "At Random State 41, the training accuracy is :- 0.9102190502465964\n",
      "At Random State 41, the training accuracy is :- 0.8937312995040837\n",
      "\n",
      "\n",
      "At Random State 42, the training accuracy is :- 0.9049632005892959\n",
      "At Random State 42, the training accuracy is :- 0.9138021136866258\n",
      "\n",
      "\n",
      "At Random State 43, the training accuracy is :- 0.9004897083294492\n",
      "At Random State 43, the training accuracy is :- 0.9321301514549021\n",
      "\n",
      "\n",
      "At Random State 44, the training accuracy is :- 0.9118487205867772\n",
      "At Random State 44, the training accuracy is :- 0.8743918799320493\n",
      "\n",
      "\n",
      "At Random State 45, the training accuracy is :- 0.9057903571407298\n",
      "At Random State 45, the training accuracy is :- 0.9087110254753444\n",
      "\n",
      "\n",
      "At Random State 46, the training accuracy is :- 0.9130511705521397\n",
      "At Random State 46, the training accuracy is :- 0.8657040334330456\n",
      "\n",
      "\n",
      "At Random State 47, the training accuracy is :- 0.9078904275091112\n",
      "At Random State 47, the training accuracy is :- 0.9005738151488636\n",
      "\n",
      "\n",
      "At Random State 48, the training accuracy is :- 0.9020955665822108\n",
      "At Random State 48, the training accuracy is :- 0.9248092380313994\n",
      "\n",
      "\n",
      "At Random State 49, the training accuracy is :- 0.9213692965856144\n",
      "At Random State 49, the training accuracy is :- 0.8431951938655837\n",
      "\n",
      "\n",
      "At Random State 50, the training accuracy is :- 0.9118285594538524\n",
      "At Random State 50, the training accuracy is :- 0.8571529325285365\n",
      "\n",
      "\n",
      "At Random State 51, the training accuracy is :- 0.9061949092130422\n",
      "At Random State 51, the training accuracy is :- 0.904552747538869\n",
      "\n",
      "\n",
      "At Random State 52, the training accuracy is :- 0.9159688226033336\n",
      "At Random State 52, the training accuracy is :- 0.8784644356620781\n",
      "\n",
      "\n",
      "At Random State 53, the training accuracy is :- 0.8989992099599323\n",
      "At Random State 53, the training accuracy is :- 0.9361841153906989\n",
      "\n",
      "\n",
      "At Random State 54, the training accuracy is :- 0.9015581622607005\n",
      "At Random State 54, the training accuracy is :- 0.9301797919444895\n",
      "\n",
      "\n",
      "At Random State 55, the training accuracy is :- 0.903113522825293\n",
      "At Random State 55, the training accuracy is :- 0.9215456769563855\n",
      "\n",
      "\n",
      "At Random State 56, the training accuracy is :- 0.9079035524800279\n",
      "At Random State 56, the training accuracy is :- 0.9042263224424736\n",
      "\n",
      "\n",
      "At Random State 57, the training accuracy is :- 0.895308788272214\n",
      "At Random State 57, the training accuracy is :- 0.9431364424474638\n",
      "\n",
      "\n",
      "At Random State 58, the training accuracy is :- 0.9203168422350185\n",
      "At Random State 58, the training accuracy is :- 0.860650691822407\n",
      "\n",
      "\n",
      "At Random State 59, the training accuracy is :- 0.9038775993395896\n",
      "At Random State 59, the training accuracy is :- 0.9187981301938702\n",
      "\n",
      "\n",
      "At Random State 60, the training accuracy is :- 0.9007891011576945\n",
      "At Random State 60, the training accuracy is :- 0.9276066212677648\n",
      "\n",
      "\n",
      "At Random State 61, the training accuracy is :- 0.9095824787427896\n",
      "At Random State 61, the training accuracy is :- 0.8896111045827058\n",
      "\n",
      "\n",
      "At Random State 62, the training accuracy is :- 0.9174896046611255\n",
      "At Random State 62, the training accuracy is :- 0.8693195452162922\n",
      "\n",
      "\n",
      "At Random State 63, the training accuracy is :- 0.9041381449353588\n",
      "At Random State 63, the training accuracy is :- 0.9221005536010268\n",
      "\n",
      "\n",
      "At Random State 64, the training accuracy is :- 0.9079142899545766\n",
      "At Random State 64, the training accuracy is :- 0.8964084075107652\n",
      "\n",
      "\n",
      "At Random State 65, the training accuracy is :- 0.9043116058172039\n",
      "At Random State 65, the training accuracy is :- 0.918132356871056\n",
      "\n",
      "\n",
      "At Random State 66, the training accuracy is :- 0.9091938493251156\n",
      "At Random State 66, the training accuracy is :- 0.8996390781190253\n",
      "\n",
      "\n",
      "At Random State 67, the training accuracy is :- 0.9111440876313133\n",
      "At Random State 67, the training accuracy is :- 0.8875870015335046\n",
      "\n",
      "\n",
      "At Random State 68, the training accuracy is :- 0.9138243202034858\n",
      "At Random State 68, the training accuracy is :- 0.8589891563312657\n",
      "\n",
      "\n",
      "At Random State 69, the training accuracy is :- 0.9014443993649187\n",
      "At Random State 69, the training accuracy is :- 0.9185233771378265\n",
      "\n",
      "\n",
      "At Random State 70, the training accuracy is :- 0.9000269410692062\n",
      "At Random State 70, the training accuracy is :- 0.9238416154690942\n",
      "\n",
      "\n",
      "At Random State 71, the training accuracy is :- 0.9185638639298015\n",
      "At Random State 71, the training accuracy is :- 0.8626931959696404\n",
      "\n",
      "\n",
      "At Random State 72, the training accuracy is :- 0.9020381903522322\n",
      "At Random State 72, the training accuracy is :- 0.9246687934200781\n",
      "\n",
      "\n",
      "At Random State 73, the training accuracy is :- 0.9137158777681896\n",
      "At Random State 73, the training accuracy is :- 0.8738770721132306\n",
      "\n",
      "\n",
      "At Random State 74, the training accuracy is :- 0.9062392352374458\n",
      "At Random State 74, the training accuracy is :- 0.8971155481778107\n",
      "\n",
      "\n",
      "At Random State 75, the training accuracy is :- 0.9043284575928459\n",
      "At Random State 75, the training accuracy is :- 0.918721313037442\n",
      "\n",
      "\n",
      "At Random State 76, the training accuracy is :- 0.9167003187657926\n",
      "At Random State 76, the training accuracy is :- 0.7872310541726862\n",
      "\n",
      "\n",
      "At Random State 77, the training accuracy is :- 0.9008407055820995\n",
      "At Random State 77, the training accuracy is :- 0.9295887069752792\n",
      "\n",
      "\n",
      "At Random State 78, the training accuracy is :- 0.9053283797064712\n",
      "At Random State 78, the training accuracy is :- 0.9168981169463655\n",
      "\n",
      "\n",
      "At Random State 79, the training accuracy is :- 0.9061109164102092\n",
      "At Random State 79, the training accuracy is :- 0.9004417088792036\n",
      "\n",
      "\n",
      "At Random State 80, the training accuracy is :- 0.9174194759885411\n",
      "At Random State 80, the training accuracy is :- 0.8586454341647932\n",
      "\n",
      "\n",
      "At Random State 81, the training accuracy is :- 0.9077888550419523\n",
      "At Random State 81, the training accuracy is :- 0.9014652379684626\n",
      "\n",
      "\n",
      "At Random State 82, the training accuracy is :- 0.9206782975894253\n",
      "At Random State 82, the training accuracy is :- 0.8378836808675186\n",
      "\n",
      "\n",
      "At Random State 83, the training accuracy is :- 0.8958074123424984\n",
      "At Random State 83, the training accuracy is :- 0.9428931586289614\n",
      "\n",
      "\n",
      "At Random State 84, the training accuracy is :- 0.9035460222335627\n",
      "At Random State 84, the training accuracy is :- 0.9212349415329081\n",
      "\n",
      "\n",
      "At Random State 85, the training accuracy is :- 0.912962692366928\n",
      "At Random State 85, the training accuracy is :- 0.8819302530555693\n",
      "\n",
      "\n",
      "At Random State 86, the training accuracy is :- 0.90712913594853\n",
      "At Random State 86, the training accuracy is :- 0.9077013021276182\n",
      "\n",
      "\n",
      "At Random State 87, the training accuracy is :- 0.9136862395498544\n",
      "At Random State 87, the training accuracy is :- 0.8291889959066567\n",
      "\n",
      "\n",
      "At Random State 88, the training accuracy is :- 0.91395033287003\n",
      "At Random State 88, the training accuracy is :- 0.8750208458235946\n",
      "\n",
      "\n",
      "At Random State 89, the training accuracy is :- 0.9121197005279641\n",
      "At Random State 89, the training accuracy is :- 0.8761149085676091\n",
      "\n",
      "\n",
      "At Random State 90, the training accuracy is :- 0.9118766015891959\n",
      "At Random State 90, the training accuracy is :- 0.8743953914251712\n",
      "\n",
      "\n",
      "At Random State 91, the training accuracy is :- 0.9000719902630581\n",
      "At Random State 91, the training accuracy is :- 0.9054991771558715\n",
      "\n",
      "\n",
      "At Random State 92, the training accuracy is :- 0.8981521525334042\n",
      "At Random State 92, the training accuracy is :- 0.9340599933972584\n",
      "\n",
      "\n",
      "At Random State 93, the training accuracy is :- 0.9047647564829178\n",
      "At Random State 93, the training accuracy is :- 0.9163923829199183\n",
      "\n",
      "\n",
      "At Random State 94, the training accuracy is :- 0.9158358853267462\n",
      "At Random State 94, the training accuracy is :- 0.8774273999952186\n",
      "\n",
      "\n",
      "At Random State 95, the training accuracy is :- 0.908762010746474\n",
      "At Random State 95, the training accuracy is :- 0.8847191924397741\n",
      "\n",
      "\n",
      "At Random State 96, the training accuracy is :- 0.9124810864436\n",
      "At Random State 96, the training accuracy is :- 0.8765165408243331\n",
      "\n",
      "\n",
      "At Random State 97, the training accuracy is :- 0.9003961187317151\n",
      "At Random State 97, the training accuracy is :- 0.9229711156572432\n",
      "\n",
      "\n",
      "At Random State 98, the training accuracy is :- 0.8965618381654459\n",
      "At Random State 98, the training accuracy is :- 0.9374842321940753\n",
      "\n",
      "\n",
      "At Random State 99, the training accuracy is :- 0.9011286161276886\n",
      "At Random State 99, the training accuracy is :- 0.9289415808839093\n",
      "\n",
      "\n"
     ]
    }
   ],
   "source": [
    "for i in range(0,100):\n",
    "        x_train,x_test,y_train,y_test=train_test_split(x,y,test_size=.20,random_state=i)\n",
    "        lr.fit(x_train,y_train) # Fitting the data will train the model\n",
    "        pred_train=lr.predict(x_train) # Predicting the data # Predicted traget variable\n",
    "        pred_test=lr.predict(x_test)\n",
    "        print(f'At Random State {i}, the training accuracy is :- {r2_score(y_train,pred_train)}')\n",
    "        print(f'At Random State {i}, the training accuracy is :- {r2_score(y_test,pred_test)}')\n",
    "        print(\"\\n\")"
   ]
  },
  {
   "cell_type": "code",
   "execution_count": 20,
   "id": "4d145f82",
   "metadata": {},
   "outputs": [],
   "source": [
    "# Check Overfitting - Use Cross Validation Score"
   ]
  },
  {
   "cell_type": "code",
   "execution_count": 21,
   "id": "e4cd1a79",
   "metadata": {},
   "outputs": [
    {
     "name": "stdout",
     "output_type": "stream",
     "text": [
      "At cross fold 2 the cv score is  0.9042245206305917 and accuracy score for training is 0.9011286161276886 and accuracy score for testing is 0.9289415808839093\n",
      "\n",
      "\n",
      "At cross fold 3 the cv score is  0.9005133366024932 and accuracy score for training is 0.9011286161276886 and accuracy score for testing is 0.9289415808839093\n",
      "\n",
      "\n",
      "At cross fold 4 the cv score is  0.9010704953541406 and accuracy score for training is 0.9011286161276886 and accuracy score for testing is 0.9289415808839093\n",
      "\n",
      "\n",
      "At cross fold 5 the cv score is  0.8978060430607071 and accuracy score for training is 0.9011286161276886 and accuracy score for testing is 0.9289415808839093\n",
      "\n",
      "\n",
      "At cross fold 6 the cv score is  0.9020141622653224 and accuracy score for training is 0.9011286161276886 and accuracy score for testing is 0.9289415808839093\n",
      "\n",
      "\n",
      "At cross fold 7 the cv score is  0.8982025458270028 and accuracy score for training is 0.9011286161276886 and accuracy score for testing is 0.9289415808839093\n",
      "\n",
      "\n",
      "At cross fold 8 the cv score is  0.8958223041714927 and accuracy score for training is 0.9011286161276886 and accuracy score for testing is 0.9289415808839093\n",
      "\n",
      "\n",
      "At cross fold 9 the cv score is  0.895873178203007 and accuracy score for training is 0.9011286161276886 and accuracy score for testing is 0.9289415808839093\n",
      "\n",
      "\n"
     ]
    }
   ],
   "source": [
    "# Cross Validation\n",
    "Train_accuracy = r2_score(y_train,pred_train)\n",
    "Test_accuracy = r2_score(y_test,pred_test)\n",
    "\n",
    "from sklearn.model_selection import cross_val_score\n",
    "for j in range(2,10):\n",
    "    cv_score=cross_val_score(lr,x,y,cv=j)\n",
    "    cv_mean=cv_score.mean()\n",
    "    print(f'At cross fold {j} the cv score is  {cv_mean} and accuracy score for training is {Train_accuracy} and accuracy score for testing is {Test_accuracy}')\n",
    "    print('\\n')"
   ]
  },
  {
   "cell_type": "code",
   "execution_count": 22,
   "id": "f102c60a",
   "metadata": {},
   "outputs": [
    {
     "data": {
      "image/png": "[encoded data removed]",
      "text/plain": [
       "<Figure size 576x432 with 1 Axes>"
      ]
     },
     "metadata": {
      "needs_background": "light"
     },
     "output_type": "display_data"
    }
   ],
   "source": [
    "import matplotlib.pyplot as plt\n",
    "plt.figure(figsize=(8,6))\n",
    "plt.scatter(x=y_test,y=pred_test,color='blue')\n",
    "plt.plot(y_test,y_test,color='r')\n",
    "plt.xlabel('Actual Sales', fontsize=14)\n",
    "plt.ylabel('Predicted Sales', fontsize=14)\n",
    "plt.title('Linear Regression', fontsize=18)\n",
    "plt.show()"
   ]
  },
  {
   "cell_type": "code",
   "execution_count": 23,
   "id": "7a821427",
   "metadata": {},
   "outputs": [],
   "source": [
    "# Regularization"
   ]
  },
  {
   "cell_type": "code",
   "execution_count": 24,
   "id": "cba69bab",
   "metadata": {},
   "outputs": [
    {
     "name": "stdout",
     "output_type": "stream",
     "text": [
      "{'alpha': 0.1, 'random_state': 0}\n"
     ]
    }
   ],
   "source": [
    "from sklearn.model_selection import GridSearchCV\n",
    "from sklearn.model_selection import cross_val_score\n",
    "from sklearn.linear_model import Lasso\n",
    "parameters={'alpha':[.0001,.001,.01,.1,1,10],'random_state':list(range(0,20))}\n",
    "ls=Lasso()\n",
    "clf=GridSearchCV(ls,parameters)\n",
    "clf.fit(x_train,y_train)\n",
    "print(clf.best_params_)"
   ]
  },
  {
   "cell_type": "code",
   "execution_count": 25,
   "id": "3c5de7dc",
   "metadata": {},
   "outputs": [
    {
     "data": {
      "text/plain": [
       "0.8494881001951005"
      ]
     },
     "execution_count": 25,
     "metadata": {},
     "output_type": "execute_result"
    }
   ],
   "source": [
    "ls=Lasso(alpha=1,random_state=0)\n",
    "ls.fit(x_train,y_train)\n",
    "ls.score(x_train,y_train)\n",
    "pred_ls=ls.predict(x_test)\n",
    "lss=r2_score(y_test,pred_ls)\n",
    "lss"
   ]
  },
  {
   "cell_type": "code",
   "execution_count": 26,
   "id": "94ae5055",
   "metadata": {},
   "outputs": [
    {
     "data": {
      "text/plain": [
       "82.70960357806553"
      ]
     },
     "execution_count": 26,
     "metadata": {},
     "output_type": "execute_result"
    }
   ],
   "source": [
    "cv_score=cross_val_score(ls,x,y,cv=5)\n",
    "cv_mean=cv_score.mean()\n",
    "cv_mean*100"
   ]
  },
  {
   "cell_type": "code",
   "execution_count": 27,
   "id": "b7b3e4b6",
   "metadata": {},
   "outputs": [],
   "source": [
    "# Ensemble Technique"
   ]
  },
  {
   "cell_type": "code",
   "execution_count": 28,
   "id": "0726e13a",
   "metadata": {},
   "outputs": [
    {
     "name": "stdout",
     "output_type": "stream",
     "text": [
      "{'criterion': 'mae', 'max_features': 'auto'}\n"
     ]
    }
   ],
   "source": [
    "from sklearn.ensemble import RandomForestRegressor\n",
    "parameters={'criterion':['mse','mae'],'max_features':['auto','sqrt','log2']}\n",
    "rf=RandomForestRegressor()\n",
    "clf=GridSearchCV(rf,parameters)\n",
    "clf.fit(x_train,y_train)\n",
    "print(clf.best_params_)"
   ]
  },
  {
   "cell_type": "code",
   "execution_count": 30,
   "id": "9a05c9ba",
   "metadata": {},
   "outputs": [
    {
     "name": "stdout",
     "output_type": "stream",
     "text": [
      "R2 Score: 98.39038078184916\n",
      "Cross Validation Score : 97.58367765492765\n"
     ]
    }
   ],
   "source": [
    "rf=RandomForestRegressor(criterion='mse',max_features='auto')\n",
    "rf.fit(x_train,y_train)\n",
    "rf.score(x_train,y_train)\n",
    "decision=rf.predict(x_test)\n",
    "rfs=r2_score(y_test,decision)\n",
    "print('R2 Score:',rfs*100)\n",
    "rfscore=cross_val_score(rf,x,y,cv=5)\n",
    "rfc=rfscore.mean()\n",
    "print('Cross Validation Score :',rfc*100)"
   ]
  },
  {
   "cell_type": "code",
   "execution_count": 31,
   "id": "68601a56",
   "metadata": {},
   "outputs": [],
   "source": [
    "# Pickeling of file or serialization of a file\n",
    "import pickle\n",
    "filename='Advertising.pkl'\n",
    "pickle.dump(rf,open(filename,'wb'))"
   ]
  },
  {
   "cell_type": "code",
   "execution_count": 32,
   "id": "6907ed77",
   "metadata": {},
   "outputs": [
    {
     "name": "stdout",
     "output_type": "stream",
     "text": [
      "0.9839038078184916\n"
     ]
    }
   ],
   "source": [
    "Model=pickle.load(open('Advertising.pkl','rb'))\n",
    "result=Model.score(x_test,y_test)\n",
    "print(result)"
   ]
  },
  {
   "cell_type": "code",
   "execution_count": 33,
   "id": "a28d889a",
   "metadata": {},
   "outputs": [
    {
     "data": {
      "text/html": [
       "<div>\n",
       "<style scoped>\n",
       "    .dataframe tbody tr th:only-of-type {\n",
       "        vertical-align: middle;\n",
       "    }\n",
       "\n",
       "    .dataframe tbody tr th {\n",
       "        vertical-align: top;\n",
       "    }\n",
       "\n",
       "    .dataframe thead th {\n",
       "        text-align: right;\n",
       "    }\n",
       "</style>\n",
       "<table border=\"1\" class=\"dataframe\">\n",
       "  <thead>\n",
       "    <tr style=\"text-align: right;\">\n",
       "      <th></th>\n",
       "      <th>0</th>\n",
       "      <th>1</th>\n",
       "      <th>2</th>\n",
       "      <th>3</th>\n",
       "      <th>4</th>\n",
       "      <th>5</th>\n",
       "      <th>6</th>\n",
       "      <th>7</th>\n",
       "      <th>8</th>\n",
       "      <th>9</th>\n",
       "      <th>...</th>\n",
       "      <th>30</th>\n",
       "      <th>31</th>\n",
       "      <th>32</th>\n",
       "      <th>33</th>\n",
       "      <th>34</th>\n",
       "      <th>35</th>\n",
       "      <th>36</th>\n",
       "      <th>37</th>\n",
       "      <th>38</th>\n",
       "      <th>39</th>\n",
       "    </tr>\n",
       "  </thead>\n",
       "  <tbody>\n",
       "    <tr>\n",
       "      <th>Predicted</th>\n",
       "      <td>11.356</td>\n",
       "      <td>9.215</td>\n",
       "      <td>10.252</td>\n",
       "      <td>8.266</td>\n",
       "      <td>7.153</td>\n",
       "      <td>22.831</td>\n",
       "      <td>12.265</td>\n",
       "      <td>25.128</td>\n",
       "      <td>6.153</td>\n",
       "      <td>18.062</td>\n",
       "      <td>...</td>\n",
       "      <td>11.57</td>\n",
       "      <td>24.919</td>\n",
       "      <td>18.469</td>\n",
       "      <td>12.068</td>\n",
       "      <td>10.567</td>\n",
       "      <td>14.717</td>\n",
       "      <td>12.993</td>\n",
       "      <td>16.743</td>\n",
       "      <td>11.732</td>\n",
       "      <td>8.521</td>\n",
       "    </tr>\n",
       "    <tr>\n",
       "      <th>Original</th>\n",
       "      <td>11.356</td>\n",
       "      <td>9.215</td>\n",
       "      <td>10.252</td>\n",
       "      <td>8.266</td>\n",
       "      <td>7.153</td>\n",
       "      <td>22.831</td>\n",
       "      <td>12.265</td>\n",
       "      <td>25.128</td>\n",
       "      <td>6.153</td>\n",
       "      <td>18.062</td>\n",
       "      <td>...</td>\n",
       "      <td>11.57</td>\n",
       "      <td>24.919</td>\n",
       "      <td>18.469</td>\n",
       "      <td>12.068</td>\n",
       "      <td>10.567</td>\n",
       "      <td>14.717</td>\n",
       "      <td>12.993</td>\n",
       "      <td>16.743</td>\n",
       "      <td>11.732</td>\n",
       "      <td>8.521</td>\n",
       "    </tr>\n",
       "  </tbody>\n",
       "</table>\n",
       "<p>2 rows × 40 columns</p>\n",
       "</div>"
      ],
      "text/plain": [
       "               0      1       2      3      4       5       6       7      8   \\\n",
       "Predicted  11.356  9.215  10.252  8.266  7.153  22.831  12.265  25.128  6.153   \n",
       "Original   11.356  9.215  10.252  8.266  7.153  22.831  12.265  25.128  6.153   \n",
       "\n",
       "               9   ...     30      31      32      33      34      35      36  \\\n",
       "Predicted  18.062  ...  11.57  24.919  18.469  12.068  10.567  14.717  12.993   \n",
       "Original   18.062  ...  11.57  24.919  18.469  12.068  10.567  14.717  12.993   \n",
       "\n",
       "               37      38     39  \n",
       "Predicted  16.743  11.732  8.521  \n",
       "Original   16.743  11.732  8.521  \n",
       "\n",
       "[2 rows x 40 columns]"
      ]
     },
     "execution_count": 33,
     "metadata": {},
     "output_type": "execute_result"
    }
   ],
   "source": [
    "Conclusion = pd.DataFrame([Model.predict(x_test)[:],decision[:]],index=['Predicted','Original'])\n",
    "Conclusion"
   ]
  },
  {
   "cell_type": "markdown",
   "id": "e105b737",
   "metadata": {},
   "source": [
    "# Thank You...!"
   ]
  }
 ],
 "metadata": {
  "kernelspec": {
   "display_name": "Python 3",
   "language": "python",
   "name": "python3"
  },
  "language_info": {
   "codemirror_mode": {
    "name": "ipython",
    "version": 3
   },
   "file_extension": ".py",
   "mimetype": "text/x-python",
   "name": "python",
   "nbconvert_exporter": "python",
   "pygments_lexer": "ipython3",
   "version": "3.8.8"
  }
 },
 "nbformat": 4,
 "nbformat_minor": 5
}
