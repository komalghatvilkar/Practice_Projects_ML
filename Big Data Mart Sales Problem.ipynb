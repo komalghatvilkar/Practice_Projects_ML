{
 "cells": [
  {
   "cell_type": "markdown",
   "id": "7c1ecb1e",
   "metadata": {},
   "source": [
    "# Big Data Mart Sales Problem -"
   ]
  },
  {
   "cell_type": "code",
   "execution_count": 1,
   "id": "be2285f7",
   "metadata": {},
   "outputs": [],
   "source": [
    "import numpy as np\n",
    "import pandas as pd"
   ]
  },
  {
   "cell_type": "code",
   "execution_count": 2,
   "id": "1c6da157",
   "metadata": {
    "scrolled": true
   },
   "outputs": [
    {
     "data": {
      "text/html": [
       "<div>\n",
       "<style scoped>\n",
       "    .dataframe tbody tr th:only-of-type {\n",
       "        vertical-align: middle;\n",
       "    }\n",
       "\n",
       "    .dataframe tbody tr th {\n",
       "        vertical-align: top;\n",
       "    }\n",
       "\n",
       "    .dataframe thead th {\n",
       "        text-align: right;\n",
       "    }\n",
       "</style>\n",
       "<table border=\"1\" class=\"dataframe\">\n",
       "  <thead>\n",
       "    <tr style=\"text-align: right;\">\n",
       "      <th></th>\n",
       "      <th>Item_Identifier</th>\n",
       "      <th>Item_Weight</th>\n",
       "      <th>Item_Fat_Content</th>\n",
       "      <th>Item_Visibility</th>\n",
       "      <th>Item_Type</th>\n",
       "      <th>Item_MRP</th>\n",
       "      <th>Outlet_Identifier</th>\n",
       "      <th>Outlet_Establishment_Year</th>\n",
       "      <th>Outlet_Size</th>\n",
       "      <th>Outlet_Location_Type</th>\n",
       "      <th>Outlet_Type</th>\n",
       "      <th>Item_Outlet_Sales</th>\n",
       "    </tr>\n",
       "  </thead>\n",
       "  <tbody>\n",
       "    <tr>\n",
       "      <th>0</th>\n",
       "      <td>FDA15</td>\n",
       "      <td>9.300</td>\n",
       "      <td>Low Fat</td>\n",
       "      <td>0.016047</td>\n",
       "      <td>Dairy</td>\n",
       "      <td>249.8092</td>\n",
       "      <td>OUT049</td>\n",
       "      <td>1999</td>\n",
       "      <td>Medium</td>\n",
       "      <td>Tier 1</td>\n",
       "      <td>Supermarket Type1</td>\n",
       "      <td>3735.1380</td>\n",
       "    </tr>\n",
       "    <tr>\n",
       "      <th>1</th>\n",
       "      <td>DRC01</td>\n",
       "      <td>5.920</td>\n",
       "      <td>Regular</td>\n",
       "      <td>0.019278</td>\n",
       "      <td>Soft Drinks</td>\n",
       "      <td>48.2692</td>\n",
       "      <td>OUT018</td>\n",
       "      <td>2009</td>\n",
       "      <td>Medium</td>\n",
       "      <td>Tier 3</td>\n",
       "      <td>Supermarket Type2</td>\n",
       "      <td>443.4228</td>\n",
       "    </tr>\n",
       "    <tr>\n",
       "      <th>2</th>\n",
       "      <td>FDN15</td>\n",
       "      <td>17.500</td>\n",
       "      <td>Low Fat</td>\n",
       "      <td>0.016760</td>\n",
       "      <td>Meat</td>\n",
       "      <td>141.6180</td>\n",
       "      <td>OUT049</td>\n",
       "      <td>1999</td>\n",
       "      <td>Medium</td>\n",
       "      <td>Tier 1</td>\n",
       "      <td>Supermarket Type1</td>\n",
       "      <td>2097.2700</td>\n",
       "    </tr>\n",
       "    <tr>\n",
       "      <th>3</th>\n",
       "      <td>FDX07</td>\n",
       "      <td>19.200</td>\n",
       "      <td>Regular</td>\n",
       "      <td>0.000000</td>\n",
       "      <td>Fruits and Vegetables</td>\n",
       "      <td>182.0950</td>\n",
       "      <td>OUT010</td>\n",
       "      <td>1998</td>\n",
       "      <td>NaN</td>\n",
       "      <td>Tier 3</td>\n",
       "      <td>Grocery Store</td>\n",
       "      <td>732.3800</td>\n",
       "    </tr>\n",
       "    <tr>\n",
       "      <th>4</th>\n",
       "      <td>NCD19</td>\n",
       "      <td>8.930</td>\n",
       "      <td>Low Fat</td>\n",
       "      <td>0.000000</td>\n",
       "      <td>Household</td>\n",
       "      <td>53.8614</td>\n",
       "      <td>OUT013</td>\n",
       "      <td>1987</td>\n",
       "      <td>High</td>\n",
       "      <td>Tier 3</td>\n",
       "      <td>Supermarket Type1</td>\n",
       "      <td>994.7052</td>\n",
       "    </tr>\n",
       "    <tr>\n",
       "      <th>...</th>\n",
       "      <td>...</td>\n",
       "      <td>...</td>\n",
       "      <td>...</td>\n",
       "      <td>...</td>\n",
       "      <td>...</td>\n",
       "      <td>...</td>\n",
       "      <td>...</td>\n",
       "      <td>...</td>\n",
       "      <td>...</td>\n",
       "      <td>...</td>\n",
       "      <td>...</td>\n",
       "      <td>...</td>\n",
       "    </tr>\n",
       "    <tr>\n",
       "      <th>8518</th>\n",
       "      <td>FDF22</td>\n",
       "      <td>6.865</td>\n",
       "      <td>Low Fat</td>\n",
       "      <td>0.056783</td>\n",
       "      <td>Snack Foods</td>\n",
       "      <td>214.5218</td>\n",
       "      <td>OUT013</td>\n",
       "      <td>1987</td>\n",
       "      <td>High</td>\n",
       "      <td>Tier 3</td>\n",
       "      <td>Supermarket Type1</td>\n",
       "      <td>2778.3834</td>\n",
       "    </tr>\n",
       "    <tr>\n",
       "      <th>8519</th>\n",
       "      <td>FDS36</td>\n",
       "      <td>8.380</td>\n",
       "      <td>Regular</td>\n",
       "      <td>0.046982</td>\n",
       "      <td>Baking Goods</td>\n",
       "      <td>108.1570</td>\n",
       "      <td>OUT045</td>\n",
       "      <td>2002</td>\n",
       "      <td>NaN</td>\n",
       "      <td>Tier 2</td>\n",
       "      <td>Supermarket Type1</td>\n",
       "      <td>549.2850</td>\n",
       "    </tr>\n",
       "    <tr>\n",
       "      <th>8520</th>\n",
       "      <td>NCJ29</td>\n",
       "      <td>10.600</td>\n",
       "      <td>Low Fat</td>\n",
       "      <td>0.035186</td>\n",
       "      <td>Health and Hygiene</td>\n",
       "      <td>85.1224</td>\n",
       "      <td>OUT035</td>\n",
       "      <td>2004</td>\n",
       "      <td>Small</td>\n",
       "      <td>Tier 2</td>\n",
       "      <td>Supermarket Type1</td>\n",
       "      <td>1193.1136</td>\n",
       "    </tr>\n",
       "    <tr>\n",
       "      <th>8521</th>\n",
       "      <td>FDN46</td>\n",
       "      <td>7.210</td>\n",
       "      <td>Regular</td>\n",
       "      <td>0.145221</td>\n",
       "      <td>Snack Foods</td>\n",
       "      <td>103.1332</td>\n",
       "      <td>OUT018</td>\n",
       "      <td>2009</td>\n",
       "      <td>Medium</td>\n",
       "      <td>Tier 3</td>\n",
       "      <td>Supermarket Type2</td>\n",
       "      <td>1845.5976</td>\n",
       "    </tr>\n",
       "    <tr>\n",
       "      <th>8522</th>\n",
       "      <td>DRG01</td>\n",
       "      <td>14.800</td>\n",
       "      <td>Low Fat</td>\n",
       "      <td>0.044878</td>\n",
       "      <td>Soft Drinks</td>\n",
       "      <td>75.4670</td>\n",
       "      <td>OUT046</td>\n",
       "      <td>1997</td>\n",
       "      <td>Small</td>\n",
       "      <td>Tier 1</td>\n",
       "      <td>Supermarket Type1</td>\n",
       "      <td>765.6700</td>\n",
       "    </tr>\n",
       "  </tbody>\n",
       "</table>\n",
       "<p>8523 rows × 12 columns</p>\n",
       "</div>"
      ],
      "text/plain": [
       "     Item_Identifier  Item_Weight Item_Fat_Content  Item_Visibility  \\\n",
       "0              FDA15        9.300          Low Fat         0.016047   \n",
       "1              DRC01        5.920          Regular         0.019278   \n",
       "2              FDN15       17.500          Low Fat         0.016760   \n",
       "3              FDX07       19.200          Regular         0.000000   \n",
       "4              NCD19        8.930          Low Fat         0.000000   \n",
       "...              ...          ...              ...              ...   \n",
       "8518           FDF22        6.865          Low Fat         0.056783   \n",
       "8519           FDS36        8.380          Regular         0.046982   \n",
       "8520           NCJ29       10.600          Low Fat         0.035186   \n",
       "8521           FDN46        7.210          Regular         0.145221   \n",
       "8522           DRG01       14.800          Low Fat         0.044878   \n",
       "\n",
       "                  Item_Type  Item_MRP Outlet_Identifier  \\\n",
       "0                     Dairy  249.8092            OUT049   \n",
       "1               Soft Drinks   48.2692            OUT018   \n",
       "2                      Meat  141.6180            OUT049   \n",
       "3     Fruits and Vegetables  182.0950            OUT010   \n",
       "4                 Household   53.8614            OUT013   \n",
       "...                     ...       ...               ...   \n",
       "8518            Snack Foods  214.5218            OUT013   \n",
       "8519           Baking Goods  108.1570            OUT045   \n",
       "8520     Health and Hygiene   85.1224            OUT035   \n",
       "8521            Snack Foods  103.1332            OUT018   \n",
       "8522            Soft Drinks   75.4670            OUT046   \n",
       "\n",
       "      Outlet_Establishment_Year Outlet_Size Outlet_Location_Type  \\\n",
       "0                          1999      Medium               Tier 1   \n",
       "1                          2009      Medium               Tier 3   \n",
       "2                          1999      Medium               Tier 1   \n",
       "3                          1998         NaN               Tier 3   \n",
       "4                          1987        High               Tier 3   \n",
       "...                         ...         ...                  ...   \n",
       "8518                       1987        High               Tier 3   \n",
       "8519                       2002         NaN               Tier 2   \n",
       "8520                       2004       Small               Tier 2   \n",
       "8521                       2009      Medium               Tier 3   \n",
       "8522                       1997       Small               Tier 1   \n",
       "\n",
       "            Outlet_Type  Item_Outlet_Sales  \n",
       "0     Supermarket Type1          3735.1380  \n",
       "1     Supermarket Type2           443.4228  \n",
       "2     Supermarket Type1          2097.2700  \n",
       "3         Grocery Store           732.3800  \n",
       "4     Supermarket Type1           994.7052  \n",
       "...                 ...                ...  \n",
       "8518  Supermarket Type1          2778.3834  \n",
       "8519  Supermarket Type1           549.2850  \n",
       "8520  Supermarket Type1          1193.1136  \n",
       "8521  Supermarket Type2          1845.5976  \n",
       "8522  Supermarket Type1           765.6700  \n",
       "\n",
       "[8523 rows x 12 columns]"
      ]
     },
     "execution_count": 2,
     "metadata": {},
     "output_type": "execute_result"
    }
   ],
   "source": [
    "df = pd.read_csv(r'C:\\Users\\HP\\Desktop\\bigdatamart_Train.csv')\n",
    "df"
   ]
  },
  {
   "cell_type": "code",
   "execution_count": 3,
   "id": "96f9b313",
   "metadata": {
    "scrolled": true
   },
   "outputs": [
    {
     "data": {
      "text/html": [
       "<div>\n",
       "<style scoped>\n",
       "    .dataframe tbody tr th:only-of-type {\n",
       "        vertical-align: middle;\n",
       "    }\n",
       "\n",
       "    .dataframe tbody tr th {\n",
       "        vertical-align: top;\n",
       "    }\n",
       "\n",
       "    .dataframe thead th {\n",
       "        text-align: right;\n",
       "    }\n",
       "</style>\n",
       "<table border=\"1\" class=\"dataframe\">\n",
       "  <thead>\n",
       "    <tr style=\"text-align: right;\">\n",
       "      <th></th>\n",
       "      <th>Item_Identifier</th>\n",
       "      <th>Item_Weight</th>\n",
       "      <th>Item_Fat_Content</th>\n",
       "      <th>Item_Visibility</th>\n",
       "      <th>Item_Type</th>\n",
       "      <th>Item_MRP</th>\n",
       "      <th>Outlet_Identifier</th>\n",
       "      <th>Outlet_Establishment_Year</th>\n",
       "      <th>Outlet_Size</th>\n",
       "      <th>Outlet_Location_Type</th>\n",
       "      <th>Outlet_Type</th>\n",
       "    </tr>\n",
       "  </thead>\n",
       "  <tbody>\n",
       "    <tr>\n",
       "      <th>0</th>\n",
       "      <td>FDW58</td>\n",
       "      <td>20.750</td>\n",
       "      <td>Low Fat</td>\n",
       "      <td>0.007565</td>\n",
       "      <td>Snack Foods</td>\n",
       "      <td>107.8622</td>\n",
       "      <td>OUT049</td>\n",
       "      <td>1999</td>\n",
       "      <td>Medium</td>\n",
       "      <td>Tier 1</td>\n",
       "      <td>Supermarket Type1</td>\n",
       "    </tr>\n",
       "    <tr>\n",
       "      <th>1</th>\n",
       "      <td>FDW14</td>\n",
       "      <td>8.300</td>\n",
       "      <td>reg</td>\n",
       "      <td>0.038428</td>\n",
       "      <td>Dairy</td>\n",
       "      <td>87.3198</td>\n",
       "      <td>OUT017</td>\n",
       "      <td>2007</td>\n",
       "      <td>NaN</td>\n",
       "      <td>Tier 2</td>\n",
       "      <td>Supermarket Type1</td>\n",
       "    </tr>\n",
       "    <tr>\n",
       "      <th>2</th>\n",
       "      <td>NCN55</td>\n",
       "      <td>14.600</td>\n",
       "      <td>Low Fat</td>\n",
       "      <td>0.099575</td>\n",
       "      <td>Others</td>\n",
       "      <td>241.7538</td>\n",
       "      <td>OUT010</td>\n",
       "      <td>1998</td>\n",
       "      <td>NaN</td>\n",
       "      <td>Tier 3</td>\n",
       "      <td>Grocery Store</td>\n",
       "    </tr>\n",
       "    <tr>\n",
       "      <th>3</th>\n",
       "      <td>FDQ58</td>\n",
       "      <td>7.315</td>\n",
       "      <td>Low Fat</td>\n",
       "      <td>0.015388</td>\n",
       "      <td>Snack Foods</td>\n",
       "      <td>155.0340</td>\n",
       "      <td>OUT017</td>\n",
       "      <td>2007</td>\n",
       "      <td>NaN</td>\n",
       "      <td>Tier 2</td>\n",
       "      <td>Supermarket Type1</td>\n",
       "    </tr>\n",
       "    <tr>\n",
       "      <th>4</th>\n",
       "      <td>FDY38</td>\n",
       "      <td>NaN</td>\n",
       "      <td>Regular</td>\n",
       "      <td>0.118599</td>\n",
       "      <td>Dairy</td>\n",
       "      <td>234.2300</td>\n",
       "      <td>OUT027</td>\n",
       "      <td>1985</td>\n",
       "      <td>Medium</td>\n",
       "      <td>Tier 3</td>\n",
       "      <td>Supermarket Type3</td>\n",
       "    </tr>\n",
       "    <tr>\n",
       "      <th>...</th>\n",
       "      <td>...</td>\n",
       "      <td>...</td>\n",
       "      <td>...</td>\n",
       "      <td>...</td>\n",
       "      <td>...</td>\n",
       "      <td>...</td>\n",
       "      <td>...</td>\n",
       "      <td>...</td>\n",
       "      <td>...</td>\n",
       "      <td>...</td>\n",
       "      <td>...</td>\n",
       "    </tr>\n",
       "    <tr>\n",
       "      <th>5676</th>\n",
       "      <td>FDB58</td>\n",
       "      <td>10.500</td>\n",
       "      <td>Regular</td>\n",
       "      <td>0.013496</td>\n",
       "      <td>Snack Foods</td>\n",
       "      <td>141.3154</td>\n",
       "      <td>OUT046</td>\n",
       "      <td>1997</td>\n",
       "      <td>Small</td>\n",
       "      <td>Tier 1</td>\n",
       "      <td>Supermarket Type1</td>\n",
       "    </tr>\n",
       "    <tr>\n",
       "      <th>5677</th>\n",
       "      <td>FDD47</td>\n",
       "      <td>7.600</td>\n",
       "      <td>Regular</td>\n",
       "      <td>0.142991</td>\n",
       "      <td>Starchy Foods</td>\n",
       "      <td>169.1448</td>\n",
       "      <td>OUT018</td>\n",
       "      <td>2009</td>\n",
       "      <td>Medium</td>\n",
       "      <td>Tier 3</td>\n",
       "      <td>Supermarket Type2</td>\n",
       "    </tr>\n",
       "    <tr>\n",
       "      <th>5678</th>\n",
       "      <td>NCO17</td>\n",
       "      <td>10.000</td>\n",
       "      <td>Low Fat</td>\n",
       "      <td>0.073529</td>\n",
       "      <td>Health and Hygiene</td>\n",
       "      <td>118.7440</td>\n",
       "      <td>OUT045</td>\n",
       "      <td>2002</td>\n",
       "      <td>NaN</td>\n",
       "      <td>Tier 2</td>\n",
       "      <td>Supermarket Type1</td>\n",
       "    </tr>\n",
       "    <tr>\n",
       "      <th>5679</th>\n",
       "      <td>FDJ26</td>\n",
       "      <td>15.300</td>\n",
       "      <td>Regular</td>\n",
       "      <td>0.000000</td>\n",
       "      <td>Canned</td>\n",
       "      <td>214.6218</td>\n",
       "      <td>OUT017</td>\n",
       "      <td>2007</td>\n",
       "      <td>NaN</td>\n",
       "      <td>Tier 2</td>\n",
       "      <td>Supermarket Type1</td>\n",
       "    </tr>\n",
       "    <tr>\n",
       "      <th>5680</th>\n",
       "      <td>FDU37</td>\n",
       "      <td>9.500</td>\n",
       "      <td>Regular</td>\n",
       "      <td>0.104720</td>\n",
       "      <td>Canned</td>\n",
       "      <td>79.7960</td>\n",
       "      <td>OUT045</td>\n",
       "      <td>2002</td>\n",
       "      <td>NaN</td>\n",
       "      <td>Tier 2</td>\n",
       "      <td>Supermarket Type1</td>\n",
       "    </tr>\n",
       "  </tbody>\n",
       "</table>\n",
       "<p>5681 rows × 11 columns</p>\n",
       "</div>"
      ],
      "text/plain": [
       "     Item_Identifier  Item_Weight Item_Fat_Content  Item_Visibility  \\\n",
       "0              FDW58       20.750          Low Fat         0.007565   \n",
       "1              FDW14        8.300              reg         0.038428   \n",
       "2              NCN55       14.600          Low Fat         0.099575   \n",
       "3              FDQ58        7.315          Low Fat         0.015388   \n",
       "4              FDY38          NaN          Regular         0.118599   \n",
       "...              ...          ...              ...              ...   \n",
       "5676           FDB58       10.500          Regular         0.013496   \n",
       "5677           FDD47        7.600          Regular         0.142991   \n",
       "5678           NCO17       10.000          Low Fat         0.073529   \n",
       "5679           FDJ26       15.300          Regular         0.000000   \n",
       "5680           FDU37        9.500          Regular         0.104720   \n",
       "\n",
       "               Item_Type  Item_MRP Outlet_Identifier  \\\n",
       "0            Snack Foods  107.8622            OUT049   \n",
       "1                  Dairy   87.3198            OUT017   \n",
       "2                 Others  241.7538            OUT010   \n",
       "3            Snack Foods  155.0340            OUT017   \n",
       "4                  Dairy  234.2300            OUT027   \n",
       "...                  ...       ...               ...   \n",
       "5676         Snack Foods  141.3154            OUT046   \n",
       "5677       Starchy Foods  169.1448            OUT018   \n",
       "5678  Health and Hygiene  118.7440            OUT045   \n",
       "5679              Canned  214.6218            OUT017   \n",
       "5680              Canned   79.7960            OUT045   \n",
       "\n",
       "      Outlet_Establishment_Year Outlet_Size Outlet_Location_Type  \\\n",
       "0                          1999      Medium               Tier 1   \n",
       "1                          2007         NaN               Tier 2   \n",
       "2                          1998         NaN               Tier 3   \n",
       "3                          2007         NaN               Tier 2   \n",
       "4                          1985      Medium               Tier 3   \n",
       "...                         ...         ...                  ...   \n",
       "5676                       1997       Small               Tier 1   \n",
       "5677                       2009      Medium               Tier 3   \n",
       "5678                       2002         NaN               Tier 2   \n",
       "5679                       2007         NaN               Tier 2   \n",
       "5680                       2002         NaN               Tier 2   \n",
       "\n",
       "            Outlet_Type  \n",
       "0     Supermarket Type1  \n",
       "1     Supermarket Type1  \n",
       "2         Grocery Store  \n",
       "3     Supermarket Type1  \n",
       "4     Supermarket Type3  \n",
       "...                 ...  \n",
       "5676  Supermarket Type1  \n",
       "5677  Supermarket Type2  \n",
       "5678  Supermarket Type1  \n",
       "5679  Supermarket Type1  \n",
       "5680  Supermarket Type1  \n",
       "\n",
       "[5681 rows x 11 columns]"
      ]
     },
     "execution_count": 3,
     "metadata": {},
     "output_type": "execute_result"
    }
   ],
   "source": [
    "df1 = pd.read_csv(r'C:\\Users\\HP\\Desktop\\bigdatamart_Test.csv')\n",
    "df1"
   ]
  },
  {
   "cell_type": "code",
   "execution_count": 4,
   "id": "f5d232c2",
   "metadata": {},
   "outputs": [
    {
     "name": "stdout",
     "output_type": "stream",
     "text": [
      "(8523, 12) (5681, 11) (14204, 12)\n"
     ]
    }
   ],
   "source": [
    "bigmart = pd.concat([df, df1],ignore_index=True) # Merged both Datasets for further process\n",
    "print(df.shape, df1.shape, bigmart.shape)"
   ]
  },
  {
   "cell_type": "code",
   "execution_count": 5,
   "id": "c847daa7",
   "metadata": {},
   "outputs": [],
   "source": [
    "bigmart1=bigmart.drop(['Item_Identifier','Outlet_Establishment_Year'],axis=1) # Removing the columns which are not needed"
   ]
  },
  {
   "cell_type": "code",
   "execution_count": 6,
   "id": "92b32e44",
   "metadata": {},
   "outputs": [
    {
     "name": "stdout",
     "output_type": "stream",
     "text": [
      "<class 'pandas.core.frame.DataFrame'>\n",
      "RangeIndex: 14204 entries, 0 to 14203\n",
      "Data columns (total 10 columns):\n",
      " #   Column                Non-Null Count  Dtype  \n",
      "---  ------                --------------  -----  \n",
      " 0   Item_Weight           11765 non-null  float64\n",
      " 1   Item_Fat_Content      14204 non-null  object \n",
      " 2   Item_Visibility       14204 non-null  float64\n",
      " 3   Item_Type             14204 non-null  object \n",
      " 4   Item_MRP              14204 non-null  float64\n",
      " 5   Outlet_Identifier     14204 non-null  object \n",
      " 6   Outlet_Size           10188 non-null  object \n",
      " 7   Outlet_Location_Type  14204 non-null  object \n",
      " 8   Outlet_Type           14204 non-null  object \n",
      " 9   Item_Outlet_Sales     8523 non-null   float64\n",
      "dtypes: float64(4), object(6)\n",
      "memory usage: 1.1+ MB\n"
     ]
    }
   ],
   "source": [
    "bigmart1.info()"
   ]
  },
  {
   "cell_type": "code",
   "execution_count": 7,
   "id": "46dd5ea5",
   "metadata": {},
   "outputs": [
    {
     "data": {
      "text/plain": [
       "Item_Weight             2439\n",
       "Item_Fat_Content           0\n",
       "Item_Visibility            0\n",
       "Item_Type                  0\n",
       "Item_MRP                   0\n",
       "Outlet_Identifier          0\n",
       "Outlet_Size             4016\n",
       "Outlet_Location_Type       0\n",
       "Outlet_Type                0\n",
       "Item_Outlet_Sales       5681\n",
       "dtype: int64"
      ]
     },
     "execution_count": 7,
     "metadata": {},
     "output_type": "execute_result"
    }
   ],
   "source": [
    "bigmart1.isnull().sum()"
   ]
  },
  {
   "cell_type": "code",
   "execution_count": 8,
   "id": "67f08ab0",
   "metadata": {
    "scrolled": true
   },
   "outputs": [
    {
     "data": {
      "text/plain": [
       "Item_Weight               416\n",
       "Item_Fat_Content            5\n",
       "Item_Visibility         13006\n",
       "Item_Type                  16\n",
       "Item_MRP                 8052\n",
       "Outlet_Identifier          10\n",
       "Outlet_Size                 4\n",
       "Outlet_Location_Type        3\n",
       "Outlet_Type                 4\n",
       "Item_Outlet_Sales        3494\n",
       "dtype: int64"
      ]
     },
     "execution_count": 8,
     "metadata": {},
     "output_type": "execute_result"
    }
   ],
   "source": [
    "bigmart1.apply(lambda x: len(x.unique()))"
   ]
  },
  {
   "cell_type": "code",
   "execution_count": 9,
   "id": "9a566bb2",
   "metadata": {},
   "outputs": [
    {
     "data": {
      "text/plain": [
       "1    8485\n",
       "2    4824\n",
       "0     522\n",
       "4     195\n",
       "3     178\n",
       "Name: Item_Fat_Content, dtype: int64"
      ]
     },
     "execution_count": 9,
     "metadata": {},
     "output_type": "execute_result"
    }
   ],
   "source": [
    "from sklearn.preprocessing import LabelEncoder\n",
    "LE=LabelEncoder()\n",
    "bigmart1['Item_Fat_Content']=LE.fit_transform(bigmart1['Item_Fat_Content'])\n",
    "bigmart1['Item_Fat_Content'].value_counts()"
   ]
  },
  {
   "cell_type": "code",
   "execution_count": 10,
   "id": "baad2216",
   "metadata": {},
   "outputs": [
    {
     "data": {
      "text/plain": [
       "array(['LF', 'Low Fat', 'Regular', 'low fat', 'reg'], dtype=object)"
      ]
     },
     "execution_count": 10,
     "metadata": {},
     "output_type": "execute_result"
    }
   ],
   "source": [
    "LE.inverse_transform([0,1,2,3,4])"
   ]
  },
  {
   "cell_type": "code",
   "execution_count": 11,
   "id": "90108ca1",
   "metadata": {},
   "outputs": [
    {
     "data": {
      "text/plain": [
       "6     2013\n",
       "13    1989\n",
       "9     1548\n",
       "5     1426\n",
       "4     1136\n",
       "0     1086\n",
       "3     1084\n",
       "8      858\n",
       "10     736\n",
       "14     726\n",
       "1      416\n",
       "7      362\n",
       "11     280\n",
       "15     269\n",
       "2      186\n",
       "12      89\n",
       "Name: Item_Type, dtype: int64"
      ]
     },
     "execution_count": 11,
     "metadata": {},
     "output_type": "execute_result"
    }
   ],
   "source": [
    "from sklearn.preprocessing import LabelEncoder\n",
    "LE=LabelEncoder()\n",
    "bigmart1['Item_Type']=LE.fit_transform(bigmart1['Item_Type'])\n",
    "bigmart1['Item_Type'].value_counts()"
   ]
  },
  {
   "cell_type": "code",
   "execution_count": 12,
   "id": "cda56318",
   "metadata": {},
   "outputs": [
    {
     "data": {
      "text/plain": [
       "array(['Baking Goods', 'Breads', 'Breakfast', 'Canned', 'Dairy',\n",
       "       'Frozen Foods', 'Fruits and Vegetables', 'Hard Drinks',\n",
       "       'Health and Hygiene', 'Household', 'Meat', 'Others', 'Seafood',\n",
       "       'Snack Foods', 'Soft Drinks', 'Starchy Foods'], dtype=object)"
      ]
     },
     "execution_count": 12,
     "metadata": {},
     "output_type": "execute_result"
    }
   ],
   "source": [
    "LE.inverse_transform([0,1,2,3,4,5,6,7,8,9,10,11,12,13,14,15])"
   ]
  },
  {
   "cell_type": "code",
   "execution_count": 13,
   "id": "e62b4259",
   "metadata": {},
   "outputs": [
    {
     "data": {
      "text/plain": [
       "5    1559\n",
       "1    1553\n",
       "8    1550\n",
       "9    1550\n",
       "6    1550\n",
       "7    1548\n",
       "3    1546\n",
       "2    1543\n",
       "0     925\n",
       "4     880\n",
       "Name: Outlet_Identifier, dtype: int64"
      ]
     },
     "execution_count": 13,
     "metadata": {},
     "output_type": "execute_result"
    }
   ],
   "source": [
    "from sklearn.preprocessing import LabelEncoder\n",
    "LE=LabelEncoder()\n",
    "bigmart1['Outlet_Identifier']=LE.fit_transform(bigmart1['Outlet_Identifier'])\n",
    "bigmart1['Outlet_Identifier'].value_counts()"
   ]
  },
  {
   "cell_type": "code",
   "execution_count": 14,
   "id": "400ca49a",
   "metadata": {},
   "outputs": [
    {
     "data": {
      "text/plain": [
       "array(['OUT010', 'OUT013', 'OUT017', 'OUT018', 'OUT019', 'OUT027',\n",
       "       'OUT035', 'OUT045', 'OUT046', 'OUT049'], dtype=object)"
      ]
     },
     "execution_count": 14,
     "metadata": {},
     "output_type": "execute_result"
    }
   ],
   "source": [
    "LE.inverse_transform([0,1,2,3,4,5,6,7,8,9])"
   ]
  },
  {
   "cell_type": "code",
   "execution_count": 15,
   "id": "303c9bc6",
   "metadata": {},
   "outputs": [
    {
     "data": {
      "text/plain": [
       "1    4655\n",
       "3    4016\n",
       "2    3980\n",
       "0    1553\n",
       "Name: Outlet_Size, dtype: int64"
      ]
     },
     "execution_count": 15,
     "metadata": {},
     "output_type": "execute_result"
    }
   ],
   "source": [
    "from sklearn.preprocessing import LabelEncoder\n",
    "LE=LabelEncoder()\n",
    "bigmart1['Outlet_Size']=LE.fit_transform(bigmart1['Outlet_Size'])\n",
    "bigmart1['Outlet_Size'].value_counts()"
   ]
  },
  {
   "cell_type": "code",
   "execution_count": 16,
   "id": "8466b97c",
   "metadata": {},
   "outputs": [
    {
     "data": {
      "text/plain": [
       "array(['High', 'Medium', 'Small', nan], dtype=object)"
      ]
     },
     "execution_count": 16,
     "metadata": {},
     "output_type": "execute_result"
    }
   ],
   "source": [
    "LE.inverse_transform([0,1,2,3])"
   ]
  },
  {
   "cell_type": "code",
   "execution_count": 17,
   "id": "f3a0923d",
   "metadata": {},
   "outputs": [
    {
     "data": {
      "text/plain": [
       "2    5583\n",
       "1    4641\n",
       "0    3980\n",
       "Name: Outlet_Location_Type, dtype: int64"
      ]
     },
     "execution_count": 17,
     "metadata": {},
     "output_type": "execute_result"
    }
   ],
   "source": [
    "from sklearn.preprocessing import LabelEncoder\n",
    "LE=LabelEncoder()\n",
    "bigmart1['Outlet_Location_Type']=LE.fit_transform(bigmart1['Outlet_Location_Type'])\n",
    "bigmart1['Outlet_Location_Type'].value_counts()"
   ]
  },
  {
   "cell_type": "code",
   "execution_count": 18,
   "id": "2491a04f",
   "metadata": {},
   "outputs": [
    {
     "data": {
      "text/plain": [
       "array(['Tier 1', 'Tier 2', 'Tier 3'], dtype=object)"
      ]
     },
     "execution_count": 18,
     "metadata": {},
     "output_type": "execute_result"
    }
   ],
   "source": [
    "LE.inverse_transform([0,1,2])"
   ]
  },
  {
   "cell_type": "code",
   "execution_count": 19,
   "id": "5e9b00ca",
   "metadata": {},
   "outputs": [
    {
     "data": {
      "text/plain": [
       "1    9294\n",
       "0    1805\n",
       "3    1559\n",
       "2    1546\n",
       "Name: Outlet_Type, dtype: int64"
      ]
     },
     "execution_count": 19,
     "metadata": {},
     "output_type": "execute_result"
    }
   ],
   "source": [
    "from sklearn.preprocessing import LabelEncoder\n",
    "LE=LabelEncoder()\n",
    "bigmart1['Outlet_Type']=LE.fit_transform(bigmart1['Outlet_Type'])\n",
    "bigmart1['Outlet_Type'].value_counts()"
   ]
  },
  {
   "cell_type": "code",
   "execution_count": 20,
   "id": "8589dd76",
   "metadata": {
    "scrolled": true
   },
   "outputs": [
    {
     "data": {
      "text/plain": [
       "array(['Grocery Store', 'Supermarket Type1', 'Supermarket Type2',\n",
       "       'Supermarket Type3'], dtype=object)"
      ]
     },
     "execution_count": 20,
     "metadata": {},
     "output_type": "execute_result"
    }
   ],
   "source": [
    "LE.inverse_transform([0,1,2,3])"
   ]
  },
  {
   "cell_type": "code",
   "execution_count": 21,
   "id": "4f554a9b",
   "metadata": {},
   "outputs": [],
   "source": [
    "# Imputing Missing Values"
   ]
  },
  {
   "cell_type": "code",
   "execution_count": 22,
   "id": "67baf568",
   "metadata": {},
   "outputs": [],
   "source": [
    "bigmart1['Item_Weight'] = bigmart1['Item_Weight'].fillna(bigmart1['Item_Weight'].mean())"
   ]
  },
  {
   "cell_type": "code",
   "execution_count": 23,
   "id": "62dff6b5",
   "metadata": {},
   "outputs": [],
   "source": [
    "bigmart1['Outlet_Size'] = bigmart1['Outlet_Size'].fillna(bigmart1['Outlet_Size'].mode()[0])"
   ]
  },
  {
   "cell_type": "code",
   "execution_count": 24,
   "id": "b0735199",
   "metadata": {},
   "outputs": [],
   "source": [
    "bigmart1['Item_Outlet_Sales'] = bigmart1['Item_Outlet_Sales'].fillna(bigmart1['Item_Outlet_Sales'].mean())"
   ]
  },
  {
   "cell_type": "code",
   "execution_count": 25,
   "id": "f72edfa6",
   "metadata": {},
   "outputs": [
    {
     "data": {
      "text/plain": [
       "Item_Weight             0\n",
       "Item_Fat_Content        0\n",
       "Item_Visibility         0\n",
       "Item_Type               0\n",
       "Item_MRP                0\n",
       "Outlet_Identifier       0\n",
       "Outlet_Size             0\n",
       "Outlet_Location_Type    0\n",
       "Outlet_Type             0\n",
       "Item_Outlet_Sales       0\n",
       "dtype: int64"
      ]
     },
     "execution_count": 25,
     "metadata": {},
     "output_type": "execute_result"
    }
   ],
   "source": [
    "bigmart1.isnull().sum()"
   ]
  },
  {
   "cell_type": "code",
   "execution_count": 26,
   "id": "df9b3c33",
   "metadata": {
    "scrolled": false
   },
   "outputs": [
    {
     "data": {
      "text/html": [
       "<div>\n",
       "<style scoped>\n",
       "    .dataframe tbody tr th:only-of-type {\n",
       "        vertical-align: middle;\n",
       "    }\n",
       "\n",
       "    .dataframe tbody tr th {\n",
       "        vertical-align: top;\n",
       "    }\n",
       "\n",
       "    .dataframe thead th {\n",
       "        text-align: right;\n",
       "    }\n",
       "</style>\n",
       "<table border=\"1\" class=\"dataframe\">\n",
       "  <thead>\n",
       "    <tr style=\"text-align: right;\">\n",
       "      <th></th>\n",
       "      <th>Item_Weight</th>\n",
       "      <th>Item_Fat_Content</th>\n",
       "      <th>Item_Visibility</th>\n",
       "      <th>Item_Type</th>\n",
       "      <th>Item_MRP</th>\n",
       "      <th>Outlet_Identifier</th>\n",
       "      <th>Outlet_Size</th>\n",
       "      <th>Outlet_Location_Type</th>\n",
       "      <th>Outlet_Type</th>\n",
       "      <th>Item_Outlet_Sales</th>\n",
       "    </tr>\n",
       "  </thead>\n",
       "  <tbody>\n",
       "    <tr>\n",
       "      <th>count</th>\n",
       "      <td>14204.000000</td>\n",
       "      <td>14204.000000</td>\n",
       "      <td>14204.000000</td>\n",
       "      <td>14204.000000</td>\n",
       "      <td>14204.000000</td>\n",
       "      <td>14204.000000</td>\n",
       "      <td>14204.000000</td>\n",
       "      <td>14204.000000</td>\n",
       "      <td>14204.000000</td>\n",
       "      <td>14204.000000</td>\n",
       "    </tr>\n",
       "    <tr>\n",
       "      <th>mean</th>\n",
       "      <td>12.792854</td>\n",
       "      <td>1.369121</td>\n",
       "      <td>0.065953</td>\n",
       "      <td>7.229372</td>\n",
       "      <td>141.004977</td>\n",
       "      <td>4.722473</td>\n",
       "      <td>1.736342</td>\n",
       "      <td>1.112856</td>\n",
       "      <td>1.201281</td>\n",
       "      <td>2181.288914</td>\n",
       "    </tr>\n",
       "    <tr>\n",
       "      <th>std</th>\n",
       "      <td>4.234226</td>\n",
       "      <td>0.643300</td>\n",
       "      <td>0.051459</td>\n",
       "      <td>4.213471</td>\n",
       "      <td>62.086938</td>\n",
       "      <td>2.837101</td>\n",
       "      <td>0.989119</td>\n",
       "      <td>0.812755</td>\n",
       "      <td>0.796543</td>\n",
       "      <td>1321.864430</td>\n",
       "    </tr>\n",
       "    <tr>\n",
       "      <th>min</th>\n",
       "      <td>4.555000</td>\n",
       "      <td>0.000000</td>\n",
       "      <td>0.000000</td>\n",
       "      <td>0.000000</td>\n",
       "      <td>31.290000</td>\n",
       "      <td>0.000000</td>\n",
       "      <td>0.000000</td>\n",
       "      <td>0.000000</td>\n",
       "      <td>0.000000</td>\n",
       "      <td>33.290000</td>\n",
       "    </tr>\n",
       "    <tr>\n",
       "      <th>25%</th>\n",
       "      <td>9.300000</td>\n",
       "      <td>1.000000</td>\n",
       "      <td>0.027036</td>\n",
       "      <td>4.000000</td>\n",
       "      <td>94.012000</td>\n",
       "      <td>2.000000</td>\n",
       "      <td>1.000000</td>\n",
       "      <td>0.000000</td>\n",
       "      <td>1.000000</td>\n",
       "      <td>1468.089000</td>\n",
       "    </tr>\n",
       "    <tr>\n",
       "      <th>50%</th>\n",
       "      <td>12.792854</td>\n",
       "      <td>1.000000</td>\n",
       "      <td>0.054021</td>\n",
       "      <td>6.000000</td>\n",
       "      <td>142.247000</td>\n",
       "      <td>5.000000</td>\n",
       "      <td>2.000000</td>\n",
       "      <td>1.000000</td>\n",
       "      <td>1.000000</td>\n",
       "      <td>2181.288914</td>\n",
       "    </tr>\n",
       "    <tr>\n",
       "      <th>75%</th>\n",
       "      <td>16.000000</td>\n",
       "      <td>2.000000</td>\n",
       "      <td>0.094037</td>\n",
       "      <td>10.000000</td>\n",
       "      <td>185.855600</td>\n",
       "      <td>7.000000</td>\n",
       "      <td>3.000000</td>\n",
       "      <td>2.000000</td>\n",
       "      <td>1.000000</td>\n",
       "      <td>2181.288914</td>\n",
       "    </tr>\n",
       "    <tr>\n",
       "      <th>max</th>\n",
       "      <td>21.350000</td>\n",
       "      <td>4.000000</td>\n",
       "      <td>0.328391</td>\n",
       "      <td>15.000000</td>\n",
       "      <td>266.888400</td>\n",
       "      <td>9.000000</td>\n",
       "      <td>3.000000</td>\n",
       "      <td>2.000000</td>\n",
       "      <td>3.000000</td>\n",
       "      <td>13086.964800</td>\n",
       "    </tr>\n",
       "  </tbody>\n",
       "</table>\n",
       "</div>"
      ],
      "text/plain": [
       "        Item_Weight  Item_Fat_Content  Item_Visibility     Item_Type  \\\n",
       "count  14204.000000      14204.000000     14204.000000  14204.000000   \n",
       "mean      12.792854          1.369121         0.065953      7.229372   \n",
       "std        4.234226          0.643300         0.051459      4.213471   \n",
       "min        4.555000          0.000000         0.000000      0.000000   \n",
       "25%        9.300000          1.000000         0.027036      4.000000   \n",
       "50%       12.792854          1.000000         0.054021      6.000000   \n",
       "75%       16.000000          2.000000         0.094037     10.000000   \n",
       "max       21.350000          4.000000         0.328391     15.000000   \n",
       "\n",
       "           Item_MRP  Outlet_Identifier   Outlet_Size  Outlet_Location_Type  \\\n",
       "count  14204.000000       14204.000000  14204.000000          14204.000000   \n",
       "mean     141.004977           4.722473      1.736342              1.112856   \n",
       "std       62.086938           2.837101      0.989119              0.812755   \n",
       "min       31.290000           0.000000      0.000000              0.000000   \n",
       "25%       94.012000           2.000000      1.000000              0.000000   \n",
       "50%      142.247000           5.000000      2.000000              1.000000   \n",
       "75%      185.855600           7.000000      3.000000              2.000000   \n",
       "max      266.888400           9.000000      3.000000              2.000000   \n",
       "\n",
       "        Outlet_Type  Item_Outlet_Sales  \n",
       "count  14204.000000       14204.000000  \n",
       "mean       1.201281        2181.288914  \n",
       "std        0.796543        1321.864430  \n",
       "min        0.000000          33.290000  \n",
       "25%        1.000000        1468.089000  \n",
       "50%        1.000000        2181.288914  \n",
       "75%        1.000000        2181.288914  \n",
       "max        3.000000       13086.964800  "
      ]
     },
     "execution_count": 26,
     "metadata": {},
     "output_type": "execute_result"
    }
   ],
   "source": [
    "bigmart1.describe()"
   ]
  },
  {
   "cell_type": "code",
   "execution_count": 27,
   "id": "aab8d457",
   "metadata": {},
   "outputs": [
    {
     "data": {
      "text/html": [
       "<div>\n",
       "<style scoped>\n",
       "    .dataframe tbody tr th:only-of-type {\n",
       "        vertical-align: middle;\n",
       "    }\n",
       "\n",
       "    .dataframe tbody tr th {\n",
       "        vertical-align: top;\n",
       "    }\n",
       "\n",
       "    .dataframe thead th {\n",
       "        text-align: right;\n",
       "    }\n",
       "</style>\n",
       "<table border=\"1\" class=\"dataframe\">\n",
       "  <thead>\n",
       "    <tr style=\"text-align: right;\">\n",
       "      <th></th>\n",
       "      <th>Item_Weight</th>\n",
       "      <th>Item_Fat_Content</th>\n",
       "      <th>Item_Visibility</th>\n",
       "      <th>Item_Type</th>\n",
       "      <th>Item_MRP</th>\n",
       "      <th>Outlet_Identifier</th>\n",
       "      <th>Outlet_Size</th>\n",
       "      <th>Outlet_Location_Type</th>\n",
       "      <th>Outlet_Type</th>\n",
       "      <th>Item_Outlet_Sales</th>\n",
       "    </tr>\n",
       "  </thead>\n",
       "  <tbody>\n",
       "    <tr>\n",
       "      <th>Item_Weight</th>\n",
       "      <td>1.000000</td>\n",
       "      <td>-0.027387</td>\n",
       "      <td>-0.013641</td>\n",
       "      <td>0.028637</td>\n",
       "      <td>0.033002</td>\n",
       "      <td>0.003274</td>\n",
       "      <td>-0.001556</td>\n",
       "      <td>-0.002104</td>\n",
       "      <td>0.001699</td>\n",
       "      <td>0.008569</td>\n",
       "    </tr>\n",
       "    <tr>\n",
       "      <th>Item_Fat_Content</th>\n",
       "      <td>-0.027387</td>\n",
       "      <td>1.000000</td>\n",
       "      <td>0.033864</td>\n",
       "      <td>-0.121140</td>\n",
       "      <td>-0.006195</td>\n",
       "      <td>-0.001733</td>\n",
       "      <td>-0.004608</td>\n",
       "      <td>-0.002518</td>\n",
       "      <td>-0.002380</td>\n",
       "      <td>0.007609</td>\n",
       "    </tr>\n",
       "    <tr>\n",
       "      <th>Item_Visibility</th>\n",
       "      <td>-0.013641</td>\n",
       "      <td>0.033864</td>\n",
       "      <td>1.000000</td>\n",
       "      <td>-0.035646</td>\n",
       "      <td>-0.006351</td>\n",
       "      <td>-0.106181</td>\n",
       "      <td>0.089297</td>\n",
       "      <td>-0.017362</td>\n",
       "      <td>-0.165726</td>\n",
       "      <td>-0.099903</td>\n",
       "    </tr>\n",
       "    <tr>\n",
       "      <th>Item_Type</th>\n",
       "      <td>0.028637</td>\n",
       "      <td>-0.121140</td>\n",
       "      <td>-0.035646</td>\n",
       "      <td>1.000000</td>\n",
       "      <td>0.043948</td>\n",
       "      <td>0.001126</td>\n",
       "      <td>-0.001554</td>\n",
       "      <td>0.002083</td>\n",
       "      <td>0.004305</td>\n",
       "      <td>0.013194</td>\n",
       "    </tr>\n",
       "    <tr>\n",
       "      <th>Item_MRP</th>\n",
       "      <td>0.033002</td>\n",
       "      <td>-0.006195</td>\n",
       "      <td>-0.006351</td>\n",
       "      <td>0.043948</td>\n",
       "      <td>1.000000</td>\n",
       "      <td>-0.000555</td>\n",
       "      <td>-0.000835</td>\n",
       "      <td>0.000838</td>\n",
       "      <td>0.000136</td>\n",
       "      <td>0.440979</td>\n",
       "    </tr>\n",
       "    <tr>\n",
       "      <th>Outlet_Identifier</th>\n",
       "      <td>0.003274</td>\n",
       "      <td>-0.001733</td>\n",
       "      <td>-0.106181</td>\n",
       "      <td>0.001126</td>\n",
       "      <td>-0.000555</td>\n",
       "      <td>1.000000</td>\n",
       "      <td>0.053157</td>\n",
       "      <td>-0.716151</td>\n",
       "      <td>0.099899</td>\n",
       "      <td>0.125742</td>\n",
       "    </tr>\n",
       "    <tr>\n",
       "      <th>Outlet_Size</th>\n",
       "      <td>-0.001556</td>\n",
       "      <td>-0.004608</td>\n",
       "      <td>0.089297</td>\n",
       "      <td>-0.001554</td>\n",
       "      <td>-0.000835</td>\n",
       "      <td>0.053157</td>\n",
       "      <td>1.000000</td>\n",
       "      <td>-0.290188</td>\n",
       "      <td>-0.432092</td>\n",
       "      <td>-0.133610</td>\n",
       "    </tr>\n",
       "    <tr>\n",
       "      <th>Outlet_Location_Type</th>\n",
       "      <td>-0.002104</td>\n",
       "      <td>-0.002518</td>\n",
       "      <td>-0.017362</td>\n",
       "      <td>0.002083</td>\n",
       "      <td>0.000838</td>\n",
       "      <td>-0.716151</td>\n",
       "      <td>-0.290188</td>\n",
       "      <td>1.000000</td>\n",
       "      <td>0.467251</td>\n",
       "      <td>0.069224</td>\n",
       "    </tr>\n",
       "    <tr>\n",
       "      <th>Outlet_Type</th>\n",
       "      <td>0.001699</td>\n",
       "      <td>-0.002380</td>\n",
       "      <td>-0.165726</td>\n",
       "      <td>0.004305</td>\n",
       "      <td>0.000136</td>\n",
       "      <td>0.099899</td>\n",
       "      <td>-0.432092</td>\n",
       "      <td>0.467251</td>\n",
       "      <td>1.000000</td>\n",
       "      <td>0.310989</td>\n",
       "    </tr>\n",
       "    <tr>\n",
       "      <th>Item_Outlet_Sales</th>\n",
       "      <td>0.008569</td>\n",
       "      <td>0.007609</td>\n",
       "      <td>-0.099903</td>\n",
       "      <td>0.013194</td>\n",
       "      <td>0.440979</td>\n",
       "      <td>0.125742</td>\n",
       "      <td>-0.133610</td>\n",
       "      <td>0.069224</td>\n",
       "      <td>0.310989</td>\n",
       "      <td>1.000000</td>\n",
       "    </tr>\n",
       "  </tbody>\n",
       "</table>\n",
       "</div>"
      ],
      "text/plain": [
       "                      Item_Weight  Item_Fat_Content  Item_Visibility  \\\n",
       "Item_Weight              1.000000         -0.027387        -0.013641   \n",
       "Item_Fat_Content        -0.027387          1.000000         0.033864   \n",
       "Item_Visibility         -0.013641          0.033864         1.000000   \n",
       "Item_Type                0.028637         -0.121140        -0.035646   \n",
       "Item_MRP                 0.033002         -0.006195        -0.006351   \n",
       "Outlet_Identifier        0.003274         -0.001733        -0.106181   \n",
       "Outlet_Size             -0.001556         -0.004608         0.089297   \n",
       "Outlet_Location_Type    -0.002104         -0.002518        -0.017362   \n",
       "Outlet_Type              0.001699         -0.002380        -0.165726   \n",
       "Item_Outlet_Sales        0.008569          0.007609        -0.099903   \n",
       "\n",
       "                      Item_Type  Item_MRP  Outlet_Identifier  Outlet_Size  \\\n",
       "Item_Weight            0.028637  0.033002           0.003274    -0.001556   \n",
       "Item_Fat_Content      -0.121140 -0.006195          -0.001733    -0.004608   \n",
       "Item_Visibility       -0.035646 -0.006351          -0.106181     0.089297   \n",
       "Item_Type              1.000000  0.043948           0.001126    -0.001554   \n",
       "Item_MRP               0.043948  1.000000          -0.000555    -0.000835   \n",
       "Outlet_Identifier      0.001126 -0.000555           1.000000     0.053157   \n",
       "Outlet_Size           -0.001554 -0.000835           0.053157     1.000000   \n",
       "Outlet_Location_Type   0.002083  0.000838          -0.716151    -0.290188   \n",
       "Outlet_Type            0.004305  0.000136           0.099899    -0.432092   \n",
       "Item_Outlet_Sales      0.013194  0.440979           0.125742    -0.133610   \n",
       "\n",
       "                      Outlet_Location_Type  Outlet_Type  Item_Outlet_Sales  \n",
       "Item_Weight                      -0.002104     0.001699           0.008569  \n",
       "Item_Fat_Content                 -0.002518    -0.002380           0.007609  \n",
       "Item_Visibility                  -0.017362    -0.165726          -0.099903  \n",
       "Item_Type                         0.002083     0.004305           0.013194  \n",
       "Item_MRP                          0.000838     0.000136           0.440979  \n",
       "Outlet_Identifier                -0.716151     0.099899           0.125742  \n",
       "Outlet_Size                      -0.290188    -0.432092          -0.133610  \n",
       "Outlet_Location_Type              1.000000     0.467251           0.069224  \n",
       "Outlet_Type                       0.467251     1.000000           0.310989  \n",
       "Item_Outlet_Sales                 0.069224     0.310989           1.000000  "
      ]
     },
     "execution_count": 27,
     "metadata": {},
     "output_type": "execute_result"
    }
   ],
   "source": [
    "# Checking Correlation\n",
    "bigmart1.corr()"
   ]
  },
  {
   "cell_type": "code",
   "execution_count": 28,
   "id": "d7cced54",
   "metadata": {},
   "outputs": [
    {
     "data": {
      "image/png": "[encoded data removed]",
      "text/plain": [
       "<Figure size 1440x1440 with 2 Axes>"
      ]
     },
     "metadata": {
      "needs_background": "light"
     },
     "output_type": "display_data"
    }
   ],
   "source": [
    "import matplotlib.pyplot as plt\n",
    "import seaborn as sns\n",
    "import warnings\n",
    "warnings.filterwarnings('ignore')\n",
    "corr_mat=bigmart1.corr()\n",
    "# Size of the canvas\n",
    "plt.figure(figsize=[20,20])\n",
    "#Plot Correlation Matrix\n",
    "sns.heatmap(corr_mat,annot=True) # annot represnts each value encoded in heatmap\n",
    "plt.title('Correlation Matrix')\n",
    "plt.show()"
   ]
  },
  {
   "cell_type": "code",
   "execution_count": 29,
   "id": "8d18a239",
   "metadata": {},
   "outputs": [],
   "source": [
    "# Check the data distribution among all comlumns"
   ]
  },
  {
   "cell_type": "code",
   "execution_count": 30,
   "id": "e8d8a84a",
   "metadata": {
    "scrolled": true
   },
   "outputs": [
    {
     "data": {
      "image/png": "[encoded data removed]",
      "text/plain": [
       "<Figure size 2160x1440 with 66 Axes>"
      ]
     },
     "metadata": {
      "needs_background": "light"
     },
     "output_type": "display_data"
    }
   ],
   "source": [
    "bigmart1.plot(kind='density',subplots=True,layout=(6,11),sharex=False,fontsize=1,figsize=(30,20))\n",
    "plt.show()"
   ]
  },
  {
   "cell_type": "code",
   "execution_count": 31,
   "id": "de807e1b",
   "metadata": {
    "scrolled": true
   },
   "outputs": [
    {
     "data": {
      "image/png": "[encoded data removed]",
      "text/plain": [
       "<Figure size 720x720 with 12 Axes>"
      ]
     },
     "metadata": {
      "needs_background": "light"
     },
     "output_type": "display_data"
    }
   ],
   "source": [
    "#plot histogram data vizualization\n",
    "bigmart1.hist(bins=20,figsize=(10,10))\n",
    "#plot showing\n",
    "plt.show()"
   ]
  },
  {
   "cell_type": "code",
   "execution_count": 32,
   "id": "a617d3bf",
   "metadata": {},
   "outputs": [
    {
     "data": {
      "text/plain": [
       "Item_Outlet_Sales       1.520025\n",
       "Item_Visibility         1.195175\n",
       "Item_Fat_Content        0.996640\n",
       "Outlet_Type             0.927344\n",
       "Item_MRP                0.130728\n",
       "Item_Weight             0.111314\n",
       "Item_Type               0.099574\n",
       "Outlet_Identifier      -0.059994\n",
       "Outlet_Size            -0.131825\n",
       "Outlet_Location_Type   -0.209053\n",
       "dtype: float64"
      ]
     },
     "execution_count": 32,
     "metadata": {},
     "output_type": "execute_result"
    }
   ],
   "source": [
    "# Checking Skweness\n",
    "bigmart1.skew().sort_values(ascending=False) # For descending "
   ]
  },
  {
   "cell_type": "code",
   "execution_count": 33,
   "id": "91072cd7",
   "metadata": {},
   "outputs": [],
   "source": [
    "# Remove the Skweness of the data\n",
    "from sklearn.preprocessing import power_transform\n",
    "bigmart_new=power_transform(bigmart1)\n",
    "bigmart1=pd.DataFrame(bigmart_new,columns=bigmart1.columns)"
   ]
  },
  {
   "cell_type": "code",
   "execution_count": 34,
   "id": "fd6e6cf8",
   "metadata": {},
   "outputs": [
    {
     "data": {
      "text/plain": [
       "Item_Visibility         0.121332\n",
       "Item_Outlet_Sales       0.066681\n",
       "Item_Fat_Content        0.032645\n",
       "Outlet_Type             0.007849\n",
       "Item_Weight            -0.065230\n",
       "Item_MRP               -0.113637\n",
       "Outlet_Size            -0.150843\n",
       "Item_Type              -0.165700\n",
       "Outlet_Identifier      -0.213964\n",
       "Outlet_Location_Type   -0.220613\n",
       "dtype: float64"
      ]
     },
     "execution_count": 34,
     "metadata": {},
     "output_type": "execute_result"
    }
   ],
   "source": [
    "bigmart1.skew().sort_values(ascending=False) # For descending "
   ]
  },
  {
   "cell_type": "code",
   "execution_count": 35,
   "id": "e5fd3c70",
   "metadata": {},
   "outputs": [
    {
     "data": {
      "image/png": "[encoded data removed]",
      "text/plain": [
       "<Figure size 1440x1080 with 1 Axes>"
      ]
     },
     "metadata": {
      "needs_background": "light"
     },
     "output_type": "display_data"
    }
   ],
   "source": [
    "# Checking Outliers in data\n",
    "# Plot boxplot\n",
    "bigmart1.boxplot(figsize=[20,15])\n",
    "plt.subplots_adjust(bottom=0.25)\n",
    "plt.show()"
   ]
  },
  {
   "cell_type": "code",
   "execution_count": 36,
   "id": "f889d5f8",
   "metadata": {},
   "outputs": [
    {
     "data": {
      "text/plain": [
       "(14204, 10)"
      ]
     },
     "execution_count": 36,
     "metadata": {},
     "output_type": "execute_result"
    }
   ],
   "source": [
    "from scipy.stats import zscore\n",
    "z=np.abs(zscore(bigmart1))\n",
    "z.shape"
   ]
  },
  {
   "cell_type": "code",
   "execution_count": 37,
   "id": "6e4ca636",
   "metadata": {},
   "outputs": [
    {
     "name": "stdout",
     "output_type": "stream",
     "text": [
      "(array([   43,    45,    65,    81,   121,   130,   132,   145,   151,\n",
      "         175,   178,   199,   203,   207,   210,   219,   238,   240,\n",
      "         243,   255,   275,   276,   304,   333,   337,   339,   373,\n",
      "         389,   396,   402,   405,   415,   424,   430,   439,   446,\n",
      "         455,   456,   472,   481,   489,   489,   497,   504,   507,\n",
      "         524,   540,   551,   574,   589,   610,   615,   621,   640,\n",
      "         641,   661,   677,   694,   727,   753,   753,   805,   809,\n",
      "         828,   838,   844,   851,   891,   905,   906,   915,   920,\n",
      "         935,   946,   948,   991,   997,  1003,  1009,  1010,  1012,\n",
      "        1021,  1034,  1043,  1051,  1086,  1090,  1092,  1104,  1113,\n",
      "        1116,  1118,  1124,  1127,  1133,  1138,  1179,  1183,  1209,\n",
      "        1254,  1278,  1286,  1305,  1321,  1335,  1348,  1372,  1393,\n",
      "        1393,  1403,  1433,  1445,  1450,  1460,  1506,  1512,  1542,\n",
      "        1549,  1551,  1565,  1576,  1589,  1601,  1611,  1615,  1617,\n",
      "        1627,  1632,  1640,  1650,  1653,  1655,  1658,  1661,  1680,\n",
      "        1684,  1690,  1693,  1700,  1705,  1709,  1710,  1723,  1751,\n",
      "        1753,  1769,  1780,  1802,  1821,  1827,  1828,  1835,  1841,\n",
      "        1849,  1859,  1865,  1869,  1879,  1913,  1913,  1945,  1953,\n",
      "        1955,  1978,  1985,  1987,  1996,  1998,  2024,  2028,  2043,\n",
      "        2048,  2055,  2056,  2062,  2109,  2111,  2112,  2143,  2144,\n",
      "        2168,  2173,  2188,  2207,  2216,  2223,  2238,  2244,  2251,\n",
      "        2279,  2282,  2293,  2308,  2321,  2324,  2326,  2331,  2347,\n",
      "        2394,  2403,  2438,  2456,  2516,  2528,  2534,  2535,  2549,\n",
      "        2552,  2569,  2571,  2589,  2599,  2601,  2613,  2615,  2660,\n",
      "        2675,  2678,  2680,  2687,  2697,  2709,  2742,  2755,  2761,\n",
      "        2776,  2784,  2803,  2815,  2823,  2834,  2887,  2905,  2922,\n",
      "        2934,  2948,  2958,  2959,  2971,  2973,  2991,  3011,  3033,\n",
      "        3053,  3059,  3073,  3073,  3083,  3087,  3098,  3110,  3140,\n",
      "        3146,  3154,  3163,  3168,  3208,  3213,  3224,  3225,  3234,\n",
      "        3234,  3241,  3242,  3243,  3247,  3255,  3258,  3272,  3286,\n",
      "        3289,  3301,  3308,  3321,  3335,  3347,  3356,  3361,  3367,\n",
      "        3400,  3403,  3407,  3428,  3474,  3480,  3488,  3491,  3494,\n",
      "        3498,  3509,  3513,  3530,  3545,  3551,  3573,  3582,  3584,\n",
      "        3590,  3602,  3622,  3626,  3665,  3667,  3670,  3693,  3699,\n",
      "        3702,  3709,  3720,  3757,  3810,  3817,  3823,  3830,  3835,\n",
      "        3848,  3863,  3869,  3871,  3873,  3893,  3894,  3903,  3926,\n",
      "        3940,  3947,  3977,  3979,  3979,  4008,  4019,  4070,  4083,\n",
      "        4093,  4094,  4101,  4109,  4125,  4128,  4150,  4163,  4206,\n",
      "        4219,  4226,  4238,  4244,  4245,  4258,  4265,  4268,  4279,\n",
      "        4280,  4289,  4290,  4297,  4305,  4325,  4346,  4349,  4350,\n",
      "        4372,  4378,  4393,  4398,  4410,  4415,  4425,  4447,  4463,\n",
      "        4468,  4479,  4502,  4508,  4523,  4526,  4553,  4555,  4598,\n",
      "        4630,  4676,  4680,  4681,  4699,  4705,  4717,  4758,  4772,\n",
      "        4782,  4789,  4794,  4796,  4835,  4864,  4865,  4869,  4888,\n",
      "        4891,  4913,  4915,  4925,  4933,  4935,  4961,  4971,  4978,\n",
      "        4991,  5047,  5054,  5058,  5065,  5087,  5111,  5133,  5138,\n",
      "        5146,  5155,  5177,  5185,  5192,  5197,  5198,  5202,  5212,\n",
      "        5217,  5223,  5224,  5225,  5229,  5236,  5248,  5264,  5292,\n",
      "        5315,  5351,  5355,  5368,  5374,  5401,  5413,  5416,  5417,\n",
      "        5427,  5460,  5463,  5467,  5474,  5491,  5494,  5500,  5505,\n",
      "        5506,  5536,  5539,  5550,  5552,  5558,  5577,  5590,  5591,\n",
      "        5593,  5604,  5611,  5619,  5620,  5624,  5628,  5633,  5637,\n",
      "        5649,  5668,  5670,  5709,  5752,  5768,  5775,  5784,  5787,\n",
      "        5799,  5800,  5812,  5833,  5847,  5864,  5866,  5868,  5890,\n",
      "        5946,  5948,  5969,  5977,  6000,  6011,  6023,  6024,  6025,\n",
      "        6037,  6045,  6057,  6091,  6092,  6118,  6132,  6134,  6139,\n",
      "        6142,  6147,  6169,  6172,  6176,  6189,  6225,  6238,  6252,\n",
      "        6268,  6334,  6341,  6344,  6357,  6370,  6399,  6409,  6442,\n",
      "        6453,  6462,  6464,  6467,  6468,  6484,  6486,  6488,  6510,\n",
      "        6513,  6527,  6537,  6538,  6540,  6541,  6568,  6569,  6572,\n",
      "        6606,  6620,  6636,  6644,  6658,  6696,  6701,  6704,  6729,\n",
      "        6759,  6765,  6766,  6792,  6796,  6803,  6820,  6840,  6843,\n",
      "        6869,  6871,  6875,  6886,  6887,  6890,  6892,  6895,  6906,\n",
      "        6950,  6993,  7001,  7008,  7014,  7016,  7051,  7076,  7112,\n",
      "        7118,  7131,  7139,  7146,  7147,  7149,  7164,  7175,  7188,\n",
      "        7191,  7200,  7203,  7204,  7212,  7226,  7236,  7256,  7265,\n",
      "        7270,  7277,  7296,  7302,  7307,  7308,  7310,  7318,  7340,\n",
      "        7343,  7352,  7353,  7388,  7404,  7416,  7496,  7524,  7535,\n",
      "        7538,  7539,  7543,  7551,  7560,  7562,  7568,  7585,  7593,\n",
      "        7595,  7604,  7609,  7612,  7632,  7640,  7654,  7659,  7690,\n",
      "        7693,  7703,  7712,  7722,  7729,  7737,  7745,  7751,  7752,\n",
      "        7769,  7778,  7796,  7812,  7816,  7826,  7833,  7835,  7840,\n",
      "        7861,  7864,  7895,  7910,  7926,  7930,  7936,  7944,  7947,\n",
      "        7956,  7967,  7981,  8004,  8038,  8039,  8084,  8085,  8103,\n",
      "        8110,  8113,  8128,  8135,  8143,  8157,  8162,  8201,  8208,\n",
      "        8214,  8233,  8241,  8245,  8259,  8273,  8329,  8340,  8350,\n",
      "        8351,  8367,  8379,  8387,  8391,  8442,  8443,  8447,  8467,\n",
      "        8486,  8510,  8517,  8524,  8537,  8545,  8552,  8564,  8580,\n",
      "        8602,  8609,  8626,  8660,  8661,  8694,  8734,  8737,  8765,\n",
      "        8778,  8826,  8842,  8854,  8873,  8886,  8892,  8895,  8942,\n",
      "        8989,  9022,  9042,  9045,  9070,  9074,  9109,  9118,  9127,\n",
      "        9202,  9223,  9237,  9238,  9262,  9267,  9298,  9304,  9306,\n",
      "        9311,  9316,  9320,  9338,  9358,  9375,  9383,  9451,  9473,\n",
      "        9478,  9499,  9508,  9519,  9521,  9548,  9560,  9591,  9628,\n",
      "        9642,  9666,  9682,  9708,  9717,  9719,  9769,  9779,  9796,\n",
      "        9802,  9807,  9810,  9814,  9817,  9823,  9837,  9844,  9866,\n",
      "        9920,  9929,  9945,  9960,  9972,  9981,  9992, 10030, 10040,\n",
      "       10055, 10062, 10120, 10131, 10263, 10273, 10280, 10303, 10342,\n",
      "       10376, 10393, 10394, 10424, 10439, 10450, 10457, 10593, 10653,\n",
      "       10683, 10690, 10722, 10734, 10743, 10753, 10794, 10797, 10798,\n",
      "       10808, 10815, 10826, 10853, 10884, 10888, 10928, 10944, 11053,\n",
      "       11054, 11118, 11171, 11189, 11206, 11256, 11306, 11321, 11322,\n",
      "       11343, 11350, 11387, 11389, 11433, 11436, 11438, 11449, 11480,\n",
      "       11493, 11504, 11509, 11525, 11538, 11543, 11560, 11562, 11600,\n",
      "       11614, 11620, 11654, 11742, 11779, 11816, 11822, 11839, 11865,\n",
      "       11880, 11885, 11892, 11922, 11935, 11943, 11946, 11952, 11970,\n",
      "       11984, 12024, 12034, 12036, 12049, 12050, 12088, 12094, 12097,\n",
      "       12109, 12145, 12188, 12227, 12237, 12239, 12267, 12301, 12306,\n",
      "       12361, 12380, 12473, 12544, 12573, 12604, 12617, 12656, 12669,\n",
      "       12671, 12676, 12682, 12716, 12724, 12755, 12805, 12812, 12813,\n",
      "       12827, 12829, 12853, 12857, 12858, 12863, 12873, 12875, 12896,\n",
      "       12898, 12953, 12956, 12988, 13001, 13022, 13030, 13053, 13065,\n",
      "       13112, 13123, 13139, 13140, 13155, 13160, 13168, 13174, 13176,\n",
      "       13192, 13215, 13249, 13252, 13276, 13287, 13321, 13347, 13368,\n",
      "       13390, 13393, 13402, 13422, 13444, 13464, 13488, 13493, 13506,\n",
      "       13545, 13578, 13604, 13615, 13616, 13621, 13647, 13648, 13655,\n",
      "       13658, 13671, 13677, 13691, 13739, 13792, 13803, 13819, 13824,\n",
      "       13826, 13846, 13851, 13885, 13926, 13952, 13970, 14002, 14015,\n",
      "       14027, 14065, 14086, 14089, 14128, 14139, 14146, 14194],\n",
      "      dtype=int64), array([9, 1, 1, 1, 1, 9, 9, 9, 1, 1, 9, 1, 9, 1, 1, 1, 1, 9, 9, 9, 9, 9,\n",
      "       9, 9, 9, 1, 9, 1, 1, 9, 9, 1, 9, 9, 1, 9, 1, 9, 9, 1, 1, 9, 9, 1,\n",
      "       1, 1, 9, 1, 9, 1, 1, 1, 1, 9, 9, 9, 1, 9, 1, 1, 9, 1, 9, 9, 1, 9,\n",
      "       1, 1, 1, 9, 9, 9, 9, 1, 1, 9, 9, 1, 9, 1, 9, 1, 1, 9, 1, 1, 1, 9,\n",
      "       1, 9, 1, 1, 1, 9, 1, 9, 1, 1, 1, 9, 1, 1, 1, 1, 1, 9, 1, 1, 9, 1,\n",
      "       1, 1, 9, 1, 9, 1, 1, 1, 1, 9, 1, 1, 9, 9, 1, 1, 9, 1, 1, 9, 1, 1,\n",
      "       9, 1, 1, 1, 1, 1, 9, 9, 9, 9, 1, 9, 1, 1, 1, 1, 9, 1, 1, 9, 1, 1,\n",
      "       9, 1, 1, 9, 1, 9, 1, 1, 1, 1, 1, 9, 9, 9, 1, 1, 1, 1, 9, 1, 1, 9,\n",
      "       1, 1, 1, 1, 1, 1, 1, 1, 9, 1, 9, 1, 1, 1, 9, 9, 1, 1, 9, 1, 1, 1,\n",
      "       9, 1, 1, 1, 9, 9, 1, 9, 9, 1, 1, 9, 9, 9, 1, 1, 9, 1, 1, 1, 9, 9,\n",
      "       1, 1, 1, 1, 1, 9, 1, 9, 1, 1, 1, 9, 1, 9, 1, 1, 1, 1, 1, 1, 1, 1,\n",
      "       9, 9, 1, 1, 9, 9, 9, 9, 1, 1, 1, 9, 1, 1, 9, 9, 1, 1, 1, 9, 1, 1,\n",
      "       1, 9, 9, 1, 1, 9, 1, 9, 1, 9, 1, 1, 1, 1, 1, 9, 1, 9, 1, 1, 1, 1,\n",
      "       1, 9, 9, 1, 1, 1, 1, 1, 1, 1, 9, 9, 1, 1, 1, 1, 9, 9, 1, 1, 9, 9,\n",
      "       9, 9, 1, 1, 1, 1, 1, 9, 9, 9, 1, 1, 1, 9, 9, 1, 9, 1, 1, 1, 9, 1,\n",
      "       1, 1, 1, 1, 9, 1, 1, 1, 1, 9, 1, 1, 9, 1, 1, 1, 1, 1, 9, 1, 1, 9,\n",
      "       9, 1, 9, 9, 1, 9, 9, 9, 1, 9, 1, 1, 9, 1, 1, 1, 1, 9, 1, 1, 1, 1,\n",
      "       1, 1, 1, 9, 1, 9, 1, 9, 9, 9, 9, 1, 9, 1, 1, 1, 1, 1, 1, 1, 1, 9,\n",
      "       9, 9, 9, 9, 1, 1, 9, 1, 1, 9, 1, 1, 1, 9, 1, 1, 1, 1, 1, 1, 9, 9,\n",
      "       9, 1, 1, 1, 1, 1, 9, 1, 9, 1, 9, 1, 1, 9, 9, 9, 1, 9, 9, 1, 9, 9,\n",
      "       1, 9, 1, 9, 1, 9, 1, 9, 9, 1, 1, 1, 1, 9, 1, 9, 1, 1, 1, 1, 1, 1,\n",
      "       9, 1, 9, 1, 1, 1, 1, 1, 9, 1, 9, 1, 9, 1, 1, 9, 9, 9, 1, 1, 1, 9,\n",
      "       1, 1, 9, 9, 9, 9, 9, 1, 1, 1, 1, 1, 1, 9, 1, 9, 1, 1, 9, 9, 1, 1,\n",
      "       9, 1, 1, 9, 1, 1, 1, 1, 9, 1, 1, 1, 1, 1, 9, 1, 1, 1, 1, 1, 1, 9,\n",
      "       1, 1, 1, 9, 1, 9, 1, 1, 9, 9, 9, 1, 9, 1, 1, 9, 9, 9, 1, 1, 1, 1,\n",
      "       9, 1, 1, 9, 1, 1, 1, 1, 9, 9, 1, 9, 1, 1, 1, 1, 9, 9, 9, 1, 1, 9,\n",
      "       9, 1, 9, 1, 9, 1, 1, 1, 1, 9, 9, 1, 9, 9, 1, 1, 1, 1, 1, 9, 9, 1,\n",
      "       1, 1, 1, 9, 1, 1, 1, 1, 1, 9, 1, 1, 9, 1, 1, 1, 1, 1, 1, 9, 1, 1,\n",
      "       9, 9, 1, 9, 1, 9, 1, 9, 9, 9, 1, 1, 1, 9, 1, 1, 1, 1, 1, 9, 1, 1,\n",
      "       9, 1, 1, 9, 1, 9, 9, 1, 9, 1, 9, 9, 1, 1, 9, 9, 1, 1, 1, 9, 9, 9,\n",
      "       1, 1, 9, 1, 1, 1, 9, 9, 1, 1, 1, 1, 1, 9, 9, 1, 1, 1, 9, 1, 1, 9,\n",
      "       1, 9, 1, 1, 1, 1, 1, 9, 1, 9, 1, 9, 9, 1, 1, 1, 1, 1, 1, 1, 1, 1,\n",
      "       1, 1, 1, 1, 1, 1, 1, 1, 1, 1, 1, 1, 1, 1, 1, 1, 1, 1, 1, 1, 1, 1,\n",
      "       1, 1, 1, 1, 1, 1, 1, 1, 1, 1, 1, 1, 1, 1, 1, 1, 1, 1, 1, 1, 1, 1,\n",
      "       1, 1, 1, 1, 1, 1, 1, 1, 1, 1, 1, 1, 1, 1, 1, 1, 1, 1, 1, 1, 1, 1,\n",
      "       1, 1, 1, 1, 1, 1, 1, 1, 1, 1, 1, 1, 1, 1, 1, 1, 1, 1, 1, 1, 1, 1,\n",
      "       1, 1, 1, 1, 1, 1, 1, 1, 1, 1, 1, 1, 1, 1, 1, 1, 1, 1, 1, 1, 1, 1,\n",
      "       1, 1, 1, 1, 1, 1, 1, 1, 1, 1, 1, 1, 1, 1, 1, 1, 1, 1, 1, 1, 1, 1,\n",
      "       1, 1, 1, 1, 1, 1, 1, 1, 1, 1, 1, 1, 1, 1, 1, 1, 1, 1, 1, 1, 1, 1,\n",
      "       1, 1, 1, 1, 1, 1, 1, 1, 1, 1, 1, 1, 1, 1, 1, 1, 1, 1, 1, 1, 1, 1,\n",
      "       1, 1, 1, 1, 1, 1, 1, 1, 1, 1, 1, 1, 1, 1, 1, 1, 1, 1, 1, 1, 1, 1,\n",
      "       1, 1, 1, 1, 1, 1, 1, 1, 1, 1, 1, 1, 1, 1, 1, 1, 1, 1, 1, 1, 1, 1,\n",
      "       1, 1, 1, 1, 1, 1, 1, 1, 1, 1, 1, 1, 1, 1, 1, 1, 1, 1, 1, 1, 1, 1,\n",
      "       1, 1, 1, 1, 1, 1, 1, 1, 1, 1, 1, 1, 1, 1, 1, 1, 1, 1, 1, 1, 1, 1,\n",
      "       1, 1, 1, 1, 1, 1, 1, 1, 1, 1, 1, 1], dtype=int64))\n"
     ]
    }
   ],
   "source": [
    "threshold=2.5\n",
    "print(np.where(z>2.5))"
   ]
  },
  {
   "cell_type": "code",
   "execution_count": 38,
   "id": "9749e277",
   "metadata": {},
   "outputs": [
    {
     "name": "stdout",
     "output_type": "stream",
     "text": [
      "(14204, 10)\n",
      "(13231, 10)\n"
     ]
    }
   ],
   "source": [
    "bigmart_new=bigmart1[(z<2.5).all(axis=1)]\n",
    "print(bigmart1.shape)\n",
    "print(bigmart_new.shape)"
   ]
  },
  {
   "cell_type": "code",
   "execution_count": 39,
   "id": "bbf4942c",
   "metadata": {},
   "outputs": [
    {
     "name": "stdout",
     "output_type": "stream",
     "text": [
      "6.850183047029006\n"
     ]
    }
   ],
   "source": [
    "# % data loss\n",
    "loss_percent=(14204-13231)/14204*100\n",
    "print(loss_percent)"
   ]
  },
  {
   "cell_type": "code",
   "execution_count": 40,
   "id": "16df831c",
   "metadata": {},
   "outputs": [
    {
     "data": {
      "image/png": "[encoded data removed]",
      "text/plain": [
       "<Figure size 1440x1080 with 1 Axes>"
      ]
     },
     "metadata": {
      "needs_background": "light"
     },
     "output_type": "display_data"
    }
   ],
   "source": [
    "# Plot boxplot - To Check outliers \n",
    "bigmart_new.boxplot(figsize=[20,15])\n",
    "plt.subplots_adjust(bottom=0.25)\n",
    "plt.show()"
   ]
  },
  {
   "cell_type": "code",
   "execution_count": 41,
   "id": "755e328b",
   "metadata": {},
   "outputs": [],
   "source": [
    "x=bigmart_new.drop('Item_Outlet_Sales',axis=1)\n",
    "y=bigmart_new['Item_Outlet_Sales']"
   ]
  },
  {
   "cell_type": "code",
   "execution_count": 42,
   "id": "d91efcba",
   "metadata": {},
   "outputs": [],
   "source": [
    "# Training process\n",
    "# Min-max scaler\n",
    "from sklearn.preprocessing import MinMaxScaler\n",
    "mms=MinMaxScaler()\n",
    "from sklearn.linear_model import LinearRegression\n",
    "lr=LinearRegression()\n",
    "from sklearn.metrics import r2_score\n",
    "from sklearn.model_selection import train_test_split"
   ]
  },
  {
   "cell_type": "code",
   "execution_count": 43,
   "id": "3c5d27cc",
   "metadata": {},
   "outputs": [
    {
     "name": "stdout",
     "output_type": "stream",
     "text": [
      "At Random State 0, the training accuracy is :- 0.314669688566804\n",
      "At Random State 0, the training accuracy is :- 0.31592768616695166\n",
      "\n",
      "\n",
      "At Random State 1, the training accuracy is :- 0.31764625087707876\n",
      "At Random State 1, the training accuracy is :- 0.30400886348844414\n",
      "\n",
      "\n",
      "At Random State 2, the training accuracy is :- 0.3164065564951253\n",
      "At Random State 2, the training accuracy is :- 0.31007898270489287\n",
      "\n",
      "\n",
      "At Random State 3, the training accuracy is :- 0.31201880596948217\n",
      "At Random State 3, the training accuracy is :- 0.32683404109035097\n",
      "\n",
      "\n",
      "At Random State 4, the training accuracy is :- 0.3155681746792728\n",
      "At Random State 4, the training accuracy is :- 0.31282156635091196\n",
      "\n",
      "\n",
      "At Random State 5, the training accuracy is :- 0.31392108429593923\n",
      "At Random State 5, the training accuracy is :- 0.31974176444852875\n",
      "\n",
      "\n",
      "At Random State 6, the training accuracy is :- 0.31592878064441965\n",
      "At Random State 6, the training accuracy is :- 0.31150097251631403\n",
      "\n",
      "\n",
      "At Random State 7, the training accuracy is :- 0.31274533058811216\n",
      "At Random State 7, the training accuracy is :- 0.3236391710486686\n",
      "\n",
      "\n",
      "At Random State 8, the training accuracy is :- 0.31420266554965814\n",
      "At Random State 8, the training accuracy is :- 0.3183322112726231\n",
      "\n",
      "\n",
      "At Random State 9, the training accuracy is :- 0.3222817118954763\n",
      "At Random State 9, the training accuracy is :- 0.28396309447713974\n",
      "\n",
      "\n",
      "At Random State 10, the training accuracy is :- 0.3119470486891184\n",
      "At Random State 10, the training accuracy is :- 0.32624479941897355\n",
      "\n",
      "\n",
      "At Random State 11, the training accuracy is :- 0.30937483374052743\n",
      "At Random State 11, the training accuracy is :- 0.334849610047693\n",
      "\n",
      "\n",
      "At Random State 12, the training accuracy is :- 0.31702650309080016\n",
      "At Random State 12, the training accuracy is :- 0.3068737611158018\n",
      "\n",
      "\n",
      "At Random State 13, the training accuracy is :- 0.31030535513591395\n",
      "At Random State 13, the training accuracy is :- 0.33336663343245965\n",
      "\n",
      "\n",
      "At Random State 14, the training accuracy is :- 0.3202096350299716\n",
      "At Random State 14, the training accuracy is :- 0.2937373098814575\n",
      "\n",
      "\n",
      "At Random State 15, the training accuracy is :- 0.317586802421714\n",
      "At Random State 15, the training accuracy is :- 0.30408376860835495\n",
      "\n",
      "\n",
      "At Random State 16, the training accuracy is :- 0.31579093308916184\n",
      "At Random State 16, the training accuracy is :- 0.3122393275740635\n",
      "\n",
      "\n",
      "At Random State 17, the training accuracy is :- 0.3113253326507852\n",
      "At Random State 17, the training accuracy is :- 0.3267018701519465\n",
      "\n",
      "\n",
      "At Random State 18, the training accuracy is :- 0.3154645365721723\n",
      "At Random State 18, the training accuracy is :- 0.3125383605591613\n",
      "\n",
      "\n",
      "At Random State 19, the training accuracy is :- 0.3154285929462266\n",
      "At Random State 19, the training accuracy is :- 0.3137079776824282\n",
      "\n",
      "\n",
      "At Random State 20, the training accuracy is :- 0.3129917026626725\n",
      "At Random State 20, the training accuracy is :- 0.32156885399559676\n",
      "\n",
      "\n",
      "At Random State 21, the training accuracy is :- 0.3083639532580362\n",
      "At Random State 21, the training accuracy is :- 0.33958345385305766\n",
      "\n",
      "\n",
      "At Random State 22, the training accuracy is :- 0.3152594336716922\n",
      "At Random State 22, the training accuracy is :- 0.31187489648418076\n",
      "\n",
      "\n",
      "At Random State 23, the training accuracy is :- 0.31212218097345645\n",
      "At Random State 23, the training accuracy is :- 0.32519435972653354\n",
      "\n",
      "\n",
      "At Random State 24, the training accuracy is :- 0.31716626015544935\n",
      "At Random State 24, the training accuracy is :- 0.306677076204375\n",
      "\n",
      "\n",
      "At Random State 25, the training accuracy is :- 0.3215654232452543\n",
      "At Random State 25, the training accuracy is :- 0.2881035274833692\n",
      "\n",
      "\n",
      "At Random State 26, the training accuracy is :- 0.31702674123230656\n",
      "At Random State 26, the training accuracy is :- 0.3061179355629243\n",
      "\n",
      "\n",
      "At Random State 27, the training accuracy is :- 0.31550529151640094\n",
      "At Random State 27, the training accuracy is :- 0.31262636522620646\n",
      "\n",
      "\n",
      "At Random State 28, the training accuracy is :- 0.3162117802177682\n",
      "At Random State 28, the training accuracy is :- 0.3102873469495935\n",
      "\n",
      "\n",
      "At Random State 29, the training accuracy is :- 0.3177222810985707\n",
      "At Random State 29, the training accuracy is :- 0.30390263871764145\n",
      "\n",
      "\n",
      "At Random State 30, the training accuracy is :- 0.3097329386008183\n",
      "At Random State 30, the training accuracy is :- 0.33625840290727993\n",
      "\n",
      "\n",
      "At Random State 31, the training accuracy is :- 0.31289640566785926\n",
      "At Random State 31, the training accuracy is :- 0.3212210508387958\n",
      "\n",
      "\n",
      "At Random State 32, the training accuracy is :- 0.31762561897683794\n",
      "At Random State 32, the training accuracy is :- 0.30413967278810894\n",
      "\n",
      "\n",
      "At Random State 33, the training accuracy is :- 0.31269741417131336\n",
      "At Random State 33, the training accuracy is :- 0.3244346781873818\n",
      "\n",
      "\n",
      "At Random State 34, the training accuracy is :- 0.3153065610577479\n",
      "At Random State 34, the training accuracy is :- 0.3140324856937653\n",
      "\n",
      "\n",
      "At Random State 35, the training accuracy is :- 0.31521342581892875\n",
      "At Random State 35, the training accuracy is :- 0.31431042757133754\n",
      "\n",
      "\n",
      "At Random State 36, the training accuracy is :- 0.3172560394614825\n",
      "At Random State 36, the training accuracy is :- 0.3062939545563247\n",
      "\n",
      "\n",
      "At Random State 37, the training accuracy is :- 0.3105458529831575\n",
      "At Random State 37, the training accuracy is :- 0.33271057589358866\n",
      "\n",
      "\n",
      "At Random State 38, the training accuracy is :- 0.322824558394479\n",
      "At Random State 38, the training accuracy is :- 0.27949948613401154\n",
      "\n",
      "\n",
      "At Random State 39, the training accuracy is :- 0.31736760424763466\n",
      "At Random State 39, the training accuracy is :- 0.3057911874710646\n",
      "\n",
      "\n",
      "At Random State 40, the training accuracy is :- 0.32095129916068765\n",
      "At Random State 40, the training accuracy is :- 0.29110244417637576\n",
      "\n",
      "\n",
      "At Random State 41, the training accuracy is :- 0.32075289000318163\n",
      "At Random State 41, the training accuracy is :- 0.2912447751476295\n",
      "\n",
      "\n",
      "At Random State 42, the training accuracy is :- 0.3204317558778864\n",
      "At Random State 42, the training accuracy is :- 0.29139849075255586\n",
      "\n",
      "\n",
      "At Random State 43, the training accuracy is :- 0.3195302273765114\n",
      "At Random State 43, the training accuracy is :- 0.29654261210967003\n",
      "\n",
      "\n",
      "At Random State 44, the training accuracy is :- 0.3174105612301469\n",
      "At Random State 44, the training accuracy is :- 0.30512332714619084\n",
      "\n",
      "\n",
      "At Random State 45, the training accuracy is :- 0.3136338826075461\n",
      "At Random State 45, the training accuracy is :- 0.31944358713220955\n",
      "\n",
      "\n",
      "At Random State 46, the training accuracy is :- 0.31360740604502646\n",
      "At Random State 46, the training accuracy is :- 0.3201369806894395\n",
      "\n",
      "\n",
      "At Random State 47, the training accuracy is :- 0.31449502405847873\n",
      "At Random State 47, the training accuracy is :- 0.31671216930925294\n",
      "\n",
      "\n",
      "At Random State 48, the training accuracy is :- 0.31271781951423905\n",
      "At Random State 48, the training accuracy is :- 0.32457518527017537\n",
      "\n",
      "\n",
      "At Random State 49, the training accuracy is :- 0.3133770983347177\n",
      "At Random State 49, the training accuracy is :- 0.3214854849417911\n",
      "\n",
      "\n",
      "At Random State 50, the training accuracy is :- 0.3146730351121567\n",
      "At Random State 50, the training accuracy is :- 0.31499076831710393\n",
      "\n",
      "\n",
      "At Random State 51, the training accuracy is :- 0.31260261510435816\n",
      "At Random State 51, the training accuracy is :- 0.32503088227289123\n",
      "\n",
      "\n",
      "At Random State 52, the training accuracy is :- 0.31591609128401843\n",
      "At Random State 52, the training accuracy is :- 0.31129129830945934\n",
      "\n",
      "\n",
      "At Random State 53, the training accuracy is :- 0.3174987528858718\n",
      "At Random State 53, the training accuracy is :- 0.3059797381349457\n",
      "\n",
      "\n",
      "At Random State 54, the training accuracy is :- 0.31165592787945307\n",
      "At Random State 54, the training accuracy is :- 0.32781269529279156\n",
      "\n",
      "\n",
      "At Random State 55, the training accuracy is :- 0.317580573280834\n",
      "At Random State 55, the training accuracy is :- 0.3049782402690344\n",
      "\n",
      "\n",
      "At Random State 56, the training accuracy is :- 0.3073944586425904\n",
      "At Random State 56, the training accuracy is :- 0.34137096406344014\n",
      "\n",
      "\n",
      "At Random State 57, the training accuracy is :- 0.31581334492800894\n",
      "At Random State 57, the training accuracy is :- 0.311468981877037\n",
      "\n",
      "\n",
      "At Random State 58, the training accuracy is :- 0.3121101862173966\n",
      "At Random State 58, the training accuracy is :- 0.32613386481113193\n",
      "\n",
      "\n",
      "At Random State 59, the training accuracy is :- 0.31326242203592103\n",
      "At Random State 59, the training accuracy is :- 0.32236127867439424\n",
      "\n",
      "\n",
      "At Random State 60, the training accuracy is :- 0.3116901707815467\n",
      "At Random State 60, the training accuracy is :- 0.32766205955487815\n",
      "\n",
      "\n",
      "At Random State 61, the training accuracy is :- 0.31712841462481955\n",
      "At Random State 61, the training accuracy is :- 0.30647005175541464\n",
      "\n",
      "\n",
      "At Random State 62, the training accuracy is :- 0.3126087588877716\n",
      "At Random State 62, the training accuracy is :- 0.3242040421914346\n",
      "\n",
      "\n",
      "At Random State 63, the training accuracy is :- 0.31423172766323315\n",
      "At Random State 63, the training accuracy is :- 0.31799547901976755\n",
      "\n",
      "\n",
      "At Random State 64, the training accuracy is :- 0.31322035202220155\n",
      "At Random State 64, the training accuracy is :- 0.32216386396714025\n",
      "\n",
      "\n",
      "At Random State 65, the training accuracy is :- 0.3178953401376986\n",
      "At Random State 65, the training accuracy is :- 0.3020478228107025\n",
      "\n",
      "\n",
      "At Random State 66, the training accuracy is :- 0.3162951178807295\n",
      "At Random State 66, the training accuracy is :- 0.30972045185845387\n",
      "\n",
      "\n",
      "At Random State 67, the training accuracy is :- 0.315196611924474\n",
      "At Random State 67, the training accuracy is :- 0.31419367536981413\n",
      "\n",
      "\n",
      "At Random State 68, the training accuracy is :- 0.3171374401649215\n",
      "At Random State 68, the training accuracy is :- 0.30682493392494425\n",
      "\n",
      "\n",
      "At Random State 69, the training accuracy is :- 0.3160565106317065\n",
      "At Random State 69, the training accuracy is :- 0.31032849544821495\n",
      "\n",
      "\n",
      "At Random State 70, the training accuracy is :- 0.31912024637278424\n",
      "At Random State 70, the training accuracy is :- 0.2981886352996057\n",
      "\n",
      "\n",
      "At Random State 71, the training accuracy is :- 0.3144824934867544\n",
      "At Random State 71, the training accuracy is :- 0.31663780393660157\n",
      "\n",
      "\n",
      "At Random State 72, the training accuracy is :- 0.31691134139647115\n",
      "At Random State 72, the training accuracy is :- 0.3075313050305434\n",
      "\n",
      "\n",
      "At Random State 73, the training accuracy is :- 0.3096981594026308\n",
      "At Random State 73, the training accuracy is :- 0.3349915267335458\n",
      "\n",
      "\n",
      "At Random State 74, the training accuracy is :- 0.3150820455023745\n",
      "At Random State 74, the training accuracy is :- 0.3148132189710604\n",
      "\n",
      "\n",
      "At Random State 75, the training accuracy is :- 0.3135445235200728\n",
      "At Random State 75, the training accuracy is :- 0.32100097934168526\n",
      "\n",
      "\n",
      "At Random State 76, the training accuracy is :- 0.3162992102154001\n",
      "At Random State 76, the training accuracy is :- 0.30956435309845676\n",
      "\n",
      "\n",
      "At Random State 77, the training accuracy is :- 0.32015189479190087\n",
      "At Random State 77, the training accuracy is :- 0.2904820417743146\n",
      "\n",
      "\n",
      "At Random State 78, the training accuracy is :- 0.31642410173517643\n",
      "At Random State 78, the training accuracy is :- 0.3090658893447963\n",
      "\n",
      "\n",
      "At Random State 79, the training accuracy is :- 0.3142517501871346\n",
      "At Random State 79, the training accuracy is :- 0.31798933865256707\n",
      "\n",
      "\n",
      "At Random State 80, the training accuracy is :- 0.3137369621295448\n",
      "At Random State 80, the training accuracy is :- 0.31887284473093025\n",
      "\n",
      "\n",
      "At Random State 81, the training accuracy is :- 0.3183911070339638\n",
      "At Random State 81, the training accuracy is :- 0.30058012056560035\n",
      "\n",
      "\n",
      "At Random State 82, the training accuracy is :- 0.313137861870751\n",
      "At Random State 82, the training accuracy is :- 0.31949150413518046\n",
      "\n",
      "\n",
      "At Random State 83, the training accuracy is :- 0.31518922761651014\n",
      "At Random State 83, the training accuracy is :- 0.3140282470090564\n",
      "\n",
      "\n",
      "At Random State 84, the training accuracy is :- 0.3167811902531561\n",
      "At Random State 84, the training accuracy is :- 0.308487041721213\n",
      "\n",
      "\n",
      "At Random State 85, the training accuracy is :- 0.31837277391540997\n",
      "At Random State 85, the training accuracy is :- 0.3014281300950433\n",
      "\n",
      "\n",
      "At Random State 86, the training accuracy is :- 0.3176896183064263\n",
      "At Random State 86, the training accuracy is :- 0.3050090468334452\n",
      "\n",
      "\n",
      "At Random State 87, the training accuracy is :- 0.31498260931314825\n",
      "At Random State 87, the training accuracy is :- 0.3156386950402712\n",
      "\n",
      "\n",
      "At Random State 88, the training accuracy is :- 0.31202625230078884\n",
      "At Random State 88, the training accuracy is :- 0.32704649720642365\n",
      "\n",
      "\n",
      "At Random State 89, the training accuracy is :- 0.31580815995673417\n",
      "At Random State 89, the training accuracy is :- 0.3120523138127387\n",
      "\n",
      "\n",
      "At Random State 90, the training accuracy is :- 0.3104372071859085\n",
      "At Random State 90, the training accuracy is :- 0.3324930164303268\n",
      "\n",
      "\n",
      "At Random State 91, the training accuracy is :- 0.31297028694480167\n",
      "At Random State 91, the training accuracy is :- 0.32110230936209494\n",
      "\n",
      "\n",
      "At Random State 92, the training accuracy is :- 0.31280043404472313\n",
      "At Random State 92, the training accuracy is :- 0.3244733129674393\n",
      "\n",
      "\n",
      "At Random State 93, the training accuracy is :- 0.3114980275618754\n",
      "At Random State 93, the training accuracy is :- 0.32786396863639644\n",
      "\n",
      "\n",
      "At Random State 94, the training accuracy is :- 0.3122249775345747\n",
      "At Random State 94, the training accuracy is :- 0.326164823336596\n",
      "\n",
      "\n",
      "At Random State 95, the training accuracy is :- 0.3137821638956295\n",
      "At Random State 95, the training accuracy is :- 0.32034569967685966\n",
      "\n",
      "\n",
      "At Random State 96, the training accuracy is :- 0.3117682900482508\n",
      "At Random State 96, the training accuracy is :- 0.32677556122535933\n",
      "\n",
      "\n",
      "At Random State 97, the training accuracy is :- 0.3114479566272511\n",
      "At Random State 97, the training accuracy is :- 0.3271565464629761\n",
      "\n",
      "\n",
      "At Random State 98, the training accuracy is :- 0.3199375026036313\n",
      "At Random State 98, the training accuracy is :- 0.29472387145397694\n",
      "\n",
      "\n",
      "At Random State 99, the training accuracy is :- 0.3127149266586825\n",
      "At Random State 99, the training accuracy is :- 0.3233528169221602\n",
      "\n",
      "\n"
     ]
    }
   ],
   "source": [
    "for i in range(0,100):\n",
    "        x_train,x_test,y_train,y_test=train_test_split(x,y,test_size=.20,random_state=i)\n",
    "        lr.fit(x_train,y_train) # Fitting the data will train the model\n",
    "        pred_train=lr.predict(x_train) # Predicting the data # Predicted traget variable\n",
    "        pred_test=lr.predict(x_test)\n",
    "        print(f'At Random State {i}, the training accuracy is :- {r2_score(y_train,pred_train)}')\n",
    "        print(f'At Random State {i}, the training accuracy is :- {r2_score(y_test,pred_test)}')\n",
    "        print(\"\\n\")"
   ]
  },
  {
   "cell_type": "code",
   "execution_count": 44,
   "id": "bb10a3b8",
   "metadata": {},
   "outputs": [],
   "source": [
    "# Check Overfitting - Use Cross Validation Score"
   ]
  },
  {
   "cell_type": "code",
   "execution_count": 45,
   "id": "2096caa0",
   "metadata": {},
   "outputs": [
    {
     "name": "stdout",
     "output_type": "stream",
     "text": [
      "At cross fold 2 the cv score is  -1.0335638968349237 and accuracy score for training is 0.3127149266586825 and accuracy score for testing is 0.3233528169221602\n",
      "\n",
      "\n",
      "At cross fold 3 the cv score is  -3.134582333040603e+32 and accuracy score for training is 0.3127149266586825 and accuracy score for testing is 0.3233528169221602\n",
      "\n",
      "\n",
      "At cross fold 4 the cv score is  -1.878644996062583e+32 and accuracy score for training is 0.3127149266586825 and accuracy score for testing is 0.3233528169221602\n",
      "\n",
      "\n",
      "At cross fold 5 the cv score is  -2.5676817523682176e+32 and accuracy score for training is 0.3127149266586825 and accuracy score for testing is 0.3233528169221602\n",
      "\n",
      "\n",
      "At cross fold 6 the cv score is  -1.968968664278948e+32 and accuracy score for training is 0.3127149266586825 and accuracy score for testing is 0.3233528169221602\n",
      "\n",
      "\n",
      "At cross fold 7 the cv score is  -1.6144952804119343e+32 and accuracy score for training is 0.3127149266586825 and accuracy score for testing is 0.3233528169221602\n",
      "\n",
      "\n",
      "At cross fold 8 the cv score is  -4.999204523657388e+31 and accuracy score for training is 0.3127149266586825 and accuracy score for testing is 0.3233528169221602\n",
      "\n",
      "\n",
      "At cross fold 9 the cv score is  -1.7242113739835246e+32 and accuracy score for training is 0.3127149266586825 and accuracy score for testing is 0.3233528169221602\n",
      "\n",
      "\n"
     ]
    }
   ],
   "source": [
    "# Cross Validation\n",
    "Train_accuracy = r2_score(y_train,pred_train)\n",
    "Test_accuracy = r2_score(y_test,pred_test)\n",
    "\n",
    "from sklearn.model_selection import cross_val_score\n",
    "for j in range(2,10):\n",
    "    cv_score=cross_val_score(lr,x,y,cv=j)\n",
    "    cv_mean=cv_score.mean()\n",
    "    print(f'At cross fold {j} the cv score is  {cv_mean} and accuracy score for training is {Train_accuracy} and accuracy score for testing is {Test_accuracy}')\n",
    "    print('\\n')"
   ]
  },
  {
   "cell_type": "code",
   "execution_count": 46,
   "id": "a91e0211",
   "metadata": {},
   "outputs": [
    {
     "data": {
      "image/png": "[encoded data removed]",
      "text/plain": [
       "<Figure size 576x432 with 1 Axes>"
      ]
     },
     "metadata": {
      "needs_background": "light"
     },
     "output_type": "display_data"
    }
   ],
   "source": [
    "import matplotlib.pyplot as plt\n",
    "plt.figure(figsize=(8,6))\n",
    "plt.scatter(x=y_test,y=pred_test,color='blue')\n",
    "plt.plot(y_test,y_test,color='r')\n",
    "plt.xlabel('Actual Sales', fontsize=14)\n",
    "plt.ylabel('Predicted Sales', fontsize=14)\n",
    "plt.title('Linear Regression', fontsize=18)\n",
    "plt.show()"
   ]
  },
  {
   "cell_type": "code",
   "execution_count": 47,
   "id": "b5fa3477",
   "metadata": {},
   "outputs": [
    {
     "name": "stdout",
     "output_type": "stream",
     "text": [
      "{'alpha': 0.001, 'random_state': 0}\n"
     ]
    }
   ],
   "source": [
    "# Regularization\n",
    "from sklearn.model_selection import GridSearchCV\n",
    "from sklearn.model_selection import cross_val_score\n",
    "from sklearn.linear_model import Lasso\n",
    "parameters={'alpha':[.0001,.001,.01,.1,1,10],'random_state':list(range(0,20))}\n",
    "ls=Lasso()\n",
    "clf=GridSearchCV(ls,parameters)\n",
    "clf.fit(x_train,y_train)\n",
    "print(clf.best_params_)"
   ]
  },
  {
   "cell_type": "code",
   "execution_count": 48,
   "id": "3d96b12a",
   "metadata": {},
   "outputs": [
    {
     "data": {
      "text/plain": [
       "-1.9435272241796753e-05"
      ]
     },
     "execution_count": 48,
     "metadata": {},
     "output_type": "execute_result"
    }
   ],
   "source": [
    "ls=Lasso(alpha=1,random_state=0)\n",
    "ls.fit(x_train,y_train)\n",
    "ls.score(x_train,y_train)\n",
    "pred_ls=ls.predict(x_test)\n",
    "lss=r2_score(y_test,pred_ls)\n",
    "lss"
   ]
  },
  {
   "cell_type": "code",
   "execution_count": 49,
   "id": "631c9b79",
   "metadata": {},
   "outputs": [
    {
     "data": {
      "text/plain": [
       "-3.2600347734003634e+33"
      ]
     },
     "execution_count": 49,
     "metadata": {},
     "output_type": "execute_result"
    }
   ],
   "source": [
    "cv_score=cross_val_score(ls,x,y,cv=3)\n",
    "cv_mean=cv_score.mean()\n",
    "cv_mean*100"
   ]
  },
  {
   "cell_type": "code",
   "execution_count": 50,
   "id": "8dd27f88",
   "metadata": {},
   "outputs": [
    {
     "data": {
      "text/plain": [
       "0.3522028362017381"
      ]
     },
     "execution_count": 50,
     "metadata": {},
     "output_type": "execute_result"
    }
   ],
   "source": [
    "# Ensemble Technique\n",
    "from sklearn.ensemble import AdaBoostRegressor\n",
    "AD = AdaBoostRegressor()\n",
    "AD.fit(x_train,y_train)\n",
    "AD.score(x_test,y_test)"
   ]
  },
  {
   "cell_type": "code",
   "execution_count": 51,
   "id": "4e71fcf1",
   "metadata": {},
   "outputs": [],
   "source": [
    "# Pickeling of file or serialization of a file\n",
    "import pickle\n",
    "filename='BigDataMart.pkl'\n",
    "pickle.dump(AD,open(filename,'wb'))"
   ]
  },
  {
   "cell_type": "code",
   "execution_count": 52,
   "id": "a85d8937",
   "metadata": {},
   "outputs": [
    {
     "name": "stdout",
     "output_type": "stream",
     "text": [
      "0.3522028362017381\n"
     ]
    }
   ],
   "source": [
    "Model=pickle.load(open('BigDataMart.pkl','rb'))\n",
    "result=Model.score(x_test,y_test)\n",
    "print(result)"
   ]
  },
  {
   "cell_type": "code",
   "execution_count": 53,
   "id": "3976b181",
   "metadata": {
    "collapsed": true
   },
   "outputs": [
    {
     "data": {
      "text/html": [
       "<div>\n",
       "<style scoped>\n",
       "    .dataframe tbody tr th:only-of-type {\n",
       "        vertical-align: middle;\n",
       "    }\n",
       "\n",
       "    .dataframe tbody tr th {\n",
       "        vertical-align: top;\n",
       "    }\n",
       "\n",
       "    .dataframe thead th {\n",
       "        text-align: right;\n",
       "    }\n",
       "</style>\n",
       "<table border=\"1\" class=\"dataframe\">\n",
       "  <thead>\n",
       "    <tr style=\"text-align: right;\">\n",
       "      <th></th>\n",
       "      <th>original</th>\n",
       "      <th>predicted</th>\n",
       "    </tr>\n",
       "  </thead>\n",
       "  <tbody>\n",
       "    <tr>\n",
       "      <th>0</th>\n",
       "      <td>-0.207100</td>\n",
       "      <td>0.550757</td>\n",
       "    </tr>\n",
       "    <tr>\n",
       "      <th>1</th>\n",
       "      <td>0.149143</td>\n",
       "      <td>-0.174629</td>\n",
       "    </tr>\n",
       "    <tr>\n",
       "      <th>2</th>\n",
       "      <td>0.149143</td>\n",
       "      <td>-0.677709</td>\n",
       "    </tr>\n",
       "    <tr>\n",
       "      <th>3</th>\n",
       "      <td>0.960985</td>\n",
       "      <td>0.386473</td>\n",
       "    </tr>\n",
       "    <tr>\n",
       "      <th>4</th>\n",
       "      <td>0.149143</td>\n",
       "      <td>0.822840</td>\n",
       "    </tr>\n",
       "    <tr>\n",
       "      <th>...</th>\n",
       "      <td>...</td>\n",
       "      <td>...</td>\n",
       "    </tr>\n",
       "    <tr>\n",
       "      <th>2642</th>\n",
       "      <td>-1.523389</td>\n",
       "      <td>-0.655212</td>\n",
       "    </tr>\n",
       "    <tr>\n",
       "      <th>2643</th>\n",
       "      <td>-0.419935</td>\n",
       "      <td>0.476906</td>\n",
       "    </tr>\n",
       "    <tr>\n",
       "      <th>2644</th>\n",
       "      <td>0.149143</td>\n",
       "      <td>0.542800</td>\n",
       "    </tr>\n",
       "    <tr>\n",
       "      <th>2645</th>\n",
       "      <td>0.149143</td>\n",
       "      <td>-0.088025</td>\n",
       "    </tr>\n",
       "    <tr>\n",
       "      <th>2646</th>\n",
       "      <td>-0.039212</td>\n",
       "      <td>0.619991</td>\n",
       "    </tr>\n",
       "  </tbody>\n",
       "</table>\n",
       "<p>2647 rows × 2 columns</p>\n",
       "</div>"
      ],
      "text/plain": [
       "      original  predicted\n",
       "0    -0.207100   0.550757\n",
       "1     0.149143  -0.174629\n",
       "2     0.149143  -0.677709\n",
       "3     0.960985   0.386473\n",
       "4     0.149143   0.822840\n",
       "...        ...        ...\n",
       "2642 -1.523389  -0.655212\n",
       "2643 -0.419935   0.476906\n",
       "2644  0.149143   0.542800\n",
       "2645  0.149143  -0.088025\n",
       "2646 -0.039212   0.619991\n",
       "\n",
       "[2647 rows x 2 columns]"
      ]
     },
     "execution_count": 53,
     "metadata": {},
     "output_type": "execute_result"
    }
   ],
   "source": [
    "# Conclusion:\n",
    "Data=np.array(y_test)\n",
    "predicted=np.array(lr.predict(x_test))\n",
    "df_1=pd.DataFrame({'original':Data,'predicted':predicted},index=range(len(Data)))\n",
    "df_1"
   ]
  },
  {
   "cell_type": "markdown",
   "id": "41245a32",
   "metadata": {},
   "source": [
    "# Thank You...!"
   ]
  }
 ],
 "metadata": {
  "kernelspec": {
   "display_name": "Python 3",
   "language": "python",
   "name": "python3"
  },
  "language_info": {
   "codemirror_mode": {
    "name": "ipython",
    "version": 3
   },
   "file_extension": ".py",
   "mimetype": "text/x-python",
   "name": "python",
   "nbconvert_exporter": "python",
   "pygments_lexer": "ipython3",
   "version": "3.8.8"
  }
 },
 "nbformat": 4,
 "nbformat_minor": 5
}
