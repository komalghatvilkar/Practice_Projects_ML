{
 "cells": [
  {
   "cell_type": "code",
   "execution_count": 41,
   "id": "c6c2642e",
   "metadata": {},
   "outputs": [],
   "source": [
    "import numpy as np\n",
    "import pandas as pd\n",
    "import matplotlib.pyplot as plt\n",
    "import seaborn as sns\n",
    "import warnings\n",
    "warnings.filterwarnings('ignore')"
   ]
  },
  {
   "cell_type": "code",
   "execution_count": 42,
   "id": "1c41efa3",
   "metadata": {},
   "outputs": [
    {
     "data": {
      "text/html": [
       "<div>\n",
       "<style scoped>\n",
       "    .dataframe tbody tr th:only-of-type {\n",
       "        vertical-align: middle;\n",
       "    }\n",
       "\n",
       "    .dataframe tbody tr th {\n",
       "        vertical-align: top;\n",
       "    }\n",
       "\n",
       "    .dataframe thead th {\n",
       "        text-align: right;\n",
       "    }\n",
       "</style>\n",
       "<table border=\"1\" class=\"dataframe\">\n",
       "  <thead>\n",
       "    <tr style=\"text-align: right;\">\n",
       "      <th></th>\n",
       "      <th>Unnamed: 0</th>\n",
       "      <th>Date</th>\n",
       "      <th>AveragePrice</th>\n",
       "      <th>Total Volume</th>\n",
       "      <th>4046</th>\n",
       "      <th>4225</th>\n",
       "      <th>4770</th>\n",
       "      <th>Total Bags</th>\n",
       "      <th>Small Bags</th>\n",
       "      <th>Large Bags</th>\n",
       "      <th>XLarge Bags</th>\n",
       "      <th>type</th>\n",
       "      <th>year</th>\n",
       "      <th>region</th>\n",
       "    </tr>\n",
       "  </thead>\n",
       "  <tbody>\n",
       "    <tr>\n",
       "      <th>0</th>\n",
       "      <td>0</td>\n",
       "      <td>2015-12-27</td>\n",
       "      <td>1.33</td>\n",
       "      <td>64236.62</td>\n",
       "      <td>1036.74</td>\n",
       "      <td>54454.85</td>\n",
       "      <td>48.16</td>\n",
       "      <td>8696.87</td>\n",
       "      <td>8603.62</td>\n",
       "      <td>93.25</td>\n",
       "      <td>0.0</td>\n",
       "      <td>conventional</td>\n",
       "      <td>2015</td>\n",
       "      <td>Albany</td>\n",
       "    </tr>\n",
       "    <tr>\n",
       "      <th>1</th>\n",
       "      <td>1</td>\n",
       "      <td>2015-12-20</td>\n",
       "      <td>1.35</td>\n",
       "      <td>54876.98</td>\n",
       "      <td>674.28</td>\n",
       "      <td>44638.81</td>\n",
       "      <td>58.33</td>\n",
       "      <td>9505.56</td>\n",
       "      <td>9408.07</td>\n",
       "      <td>97.49</td>\n",
       "      <td>0.0</td>\n",
       "      <td>conventional</td>\n",
       "      <td>2015</td>\n",
       "      <td>Albany</td>\n",
       "    </tr>\n",
       "    <tr>\n",
       "      <th>2</th>\n",
       "      <td>2</td>\n",
       "      <td>2015-12-13</td>\n",
       "      <td>0.93</td>\n",
       "      <td>118220.22</td>\n",
       "      <td>794.70</td>\n",
       "      <td>109149.67</td>\n",
       "      <td>130.50</td>\n",
       "      <td>8145.35</td>\n",
       "      <td>8042.21</td>\n",
       "      <td>103.14</td>\n",
       "      <td>0.0</td>\n",
       "      <td>conventional</td>\n",
       "      <td>2015</td>\n",
       "      <td>Albany</td>\n",
       "    </tr>\n",
       "    <tr>\n",
       "      <th>3</th>\n",
       "      <td>3</td>\n",
       "      <td>2015-12-06</td>\n",
       "      <td>1.08</td>\n",
       "      <td>78992.15</td>\n",
       "      <td>1132.00</td>\n",
       "      <td>71976.41</td>\n",
       "      <td>72.58</td>\n",
       "      <td>5811.16</td>\n",
       "      <td>5677.40</td>\n",
       "      <td>133.76</td>\n",
       "      <td>0.0</td>\n",
       "      <td>conventional</td>\n",
       "      <td>2015</td>\n",
       "      <td>Albany</td>\n",
       "    </tr>\n",
       "    <tr>\n",
       "      <th>4</th>\n",
       "      <td>4</td>\n",
       "      <td>2015-11-29</td>\n",
       "      <td>1.28</td>\n",
       "      <td>51039.60</td>\n",
       "      <td>941.48</td>\n",
       "      <td>43838.39</td>\n",
       "      <td>75.78</td>\n",
       "      <td>6183.95</td>\n",
       "      <td>5986.26</td>\n",
       "      <td>197.69</td>\n",
       "      <td>0.0</td>\n",
       "      <td>conventional</td>\n",
       "      <td>2015</td>\n",
       "      <td>Albany</td>\n",
       "    </tr>\n",
       "  </tbody>\n",
       "</table>\n",
       "</div>"
      ],
      "text/plain": [
       "   Unnamed: 0        Date  AveragePrice  Total Volume     4046       4225  \\\n",
       "0           0  2015-12-27          1.33      64236.62  1036.74   54454.85   \n",
       "1           1  2015-12-20          1.35      54876.98   674.28   44638.81   \n",
       "2           2  2015-12-13          0.93     118220.22   794.70  109149.67   \n",
       "3           3  2015-12-06          1.08      78992.15  1132.00   71976.41   \n",
       "4           4  2015-11-29          1.28      51039.60   941.48   43838.39   \n",
       "\n",
       "     4770  Total Bags  Small Bags  Large Bags  XLarge Bags          type  \\\n",
       "0   48.16     8696.87     8603.62       93.25          0.0  conventional   \n",
       "1   58.33     9505.56     9408.07       97.49          0.0  conventional   \n",
       "2  130.50     8145.35     8042.21      103.14          0.0  conventional   \n",
       "3   72.58     5811.16     5677.40      133.76          0.0  conventional   \n",
       "4   75.78     6183.95     5986.26      197.69          0.0  conventional   \n",
       "\n",
       "   year  region  \n",
       "0  2015  Albany  \n",
       "1  2015  Albany  \n",
       "2  2015  Albany  \n",
       "3  2015  Albany  \n",
       "4  2015  Albany  "
      ]
     },
     "execution_count": 42,
     "metadata": {},
     "output_type": "execute_result"
    }
   ],
   "source": [
    "df = pd.read_csv(r'C:\\Users\\HP\\Desktop\\Evaluation Project Phase - Week 1 - (30-01)\\avocado.csv')\n",
    "df.head()"
   ]
  },
  {
   "cell_type": "code",
   "execution_count": 43,
   "id": "e9394c05",
   "metadata": {},
   "outputs": [],
   "source": [
    "df.drop('Unnamed: 0',axis=1,inplace=True)"
   ]
  },
  {
   "cell_type": "code",
   "execution_count": 44,
   "id": "39a614ae",
   "metadata": {},
   "outputs": [],
   "source": [
    "df.drop('Date',axis=1,inplace=True)"
   ]
  },
  {
   "cell_type": "code",
   "execution_count": 45,
   "id": "4badf781",
   "metadata": {},
   "outputs": [
    {
     "name": "stdout",
     "output_type": "stream",
     "text": [
      "<class 'pandas.core.frame.DataFrame'>\n",
      "RangeIndex: 18249 entries, 0 to 18248\n",
      "Data columns (total 12 columns):\n",
      " #   Column        Non-Null Count  Dtype  \n",
      "---  ------        --------------  -----  \n",
      " 0   AveragePrice  18249 non-null  float64\n",
      " 1   Total Volume  18249 non-null  float64\n",
      " 2   4046          18249 non-null  float64\n",
      " 3   4225          18249 non-null  float64\n",
      " 4   4770          18249 non-null  float64\n",
      " 5   Total Bags    18249 non-null  float64\n",
      " 6   Small Bags    18249 non-null  float64\n",
      " 7   Large Bags    18249 non-null  float64\n",
      " 8   XLarge Bags   18249 non-null  float64\n",
      " 9   type          18249 non-null  object \n",
      " 10  year          18249 non-null  int64  \n",
      " 11  region        18249 non-null  object \n",
      "dtypes: float64(9), int64(1), object(2)\n",
      "memory usage: 1.7+ MB\n"
     ]
    }
   ],
   "source": [
    "df.info()"
   ]
  },
  {
   "cell_type": "code",
   "execution_count": 46,
   "id": "6787abf4",
   "metadata": {},
   "outputs": [
    {
     "data": {
      "text/html": [
       "<div>\n",
       "<style scoped>\n",
       "    .dataframe tbody tr th:only-of-type {\n",
       "        vertical-align: middle;\n",
       "    }\n",
       "\n",
       "    .dataframe tbody tr th {\n",
       "        vertical-align: top;\n",
       "    }\n",
       "\n",
       "    .dataframe thead th {\n",
       "        text-align: right;\n",
       "    }\n",
       "</style>\n",
       "<table border=\"1\" class=\"dataframe\">\n",
       "  <thead>\n",
       "    <tr style=\"text-align: right;\">\n",
       "      <th></th>\n",
       "      <th>AveragePrice</th>\n",
       "      <th>Total Volume</th>\n",
       "      <th>4046</th>\n",
       "      <th>4225</th>\n",
       "      <th>4770</th>\n",
       "      <th>Total Bags</th>\n",
       "      <th>Small Bags</th>\n",
       "      <th>Large Bags</th>\n",
       "      <th>XLarge Bags</th>\n",
       "      <th>year</th>\n",
       "    </tr>\n",
       "  </thead>\n",
       "  <tbody>\n",
       "    <tr>\n",
       "      <th>count</th>\n",
       "      <td>18249.000000</td>\n",
       "      <td>1.824900e+04</td>\n",
       "      <td>1.824900e+04</td>\n",
       "      <td>1.824900e+04</td>\n",
       "      <td>1.824900e+04</td>\n",
       "      <td>1.824900e+04</td>\n",
       "      <td>1.824900e+04</td>\n",
       "      <td>1.824900e+04</td>\n",
       "      <td>18249.000000</td>\n",
       "      <td>18249.000000</td>\n",
       "    </tr>\n",
       "    <tr>\n",
       "      <th>mean</th>\n",
       "      <td>1.405978</td>\n",
       "      <td>8.506440e+05</td>\n",
       "      <td>2.930084e+05</td>\n",
       "      <td>2.951546e+05</td>\n",
       "      <td>2.283974e+04</td>\n",
       "      <td>2.396392e+05</td>\n",
       "      <td>1.821947e+05</td>\n",
       "      <td>5.433809e+04</td>\n",
       "      <td>3106.426507</td>\n",
       "      <td>2016.147899</td>\n",
       "    </tr>\n",
       "    <tr>\n",
       "      <th>std</th>\n",
       "      <td>0.402677</td>\n",
       "      <td>3.453545e+06</td>\n",
       "      <td>1.264989e+06</td>\n",
       "      <td>1.204120e+06</td>\n",
       "      <td>1.074641e+05</td>\n",
       "      <td>9.862424e+05</td>\n",
       "      <td>7.461785e+05</td>\n",
       "      <td>2.439660e+05</td>\n",
       "      <td>17692.894652</td>\n",
       "      <td>0.939938</td>\n",
       "    </tr>\n",
       "    <tr>\n",
       "      <th>min</th>\n",
       "      <td>0.440000</td>\n",
       "      <td>8.456000e+01</td>\n",
       "      <td>0.000000e+00</td>\n",
       "      <td>0.000000e+00</td>\n",
       "      <td>0.000000e+00</td>\n",
       "      <td>0.000000e+00</td>\n",
       "      <td>0.000000e+00</td>\n",
       "      <td>0.000000e+00</td>\n",
       "      <td>0.000000</td>\n",
       "      <td>2015.000000</td>\n",
       "    </tr>\n",
       "    <tr>\n",
       "      <th>25%</th>\n",
       "      <td>1.100000</td>\n",
       "      <td>1.083858e+04</td>\n",
       "      <td>8.540700e+02</td>\n",
       "      <td>3.008780e+03</td>\n",
       "      <td>0.000000e+00</td>\n",
       "      <td>5.088640e+03</td>\n",
       "      <td>2.849420e+03</td>\n",
       "      <td>1.274700e+02</td>\n",
       "      <td>0.000000</td>\n",
       "      <td>2015.000000</td>\n",
       "    </tr>\n",
       "    <tr>\n",
       "      <th>50%</th>\n",
       "      <td>1.370000</td>\n",
       "      <td>1.073768e+05</td>\n",
       "      <td>8.645300e+03</td>\n",
       "      <td>2.906102e+04</td>\n",
       "      <td>1.849900e+02</td>\n",
       "      <td>3.974383e+04</td>\n",
       "      <td>2.636282e+04</td>\n",
       "      <td>2.647710e+03</td>\n",
       "      <td>0.000000</td>\n",
       "      <td>2016.000000</td>\n",
       "    </tr>\n",
       "    <tr>\n",
       "      <th>75%</th>\n",
       "      <td>1.660000</td>\n",
       "      <td>4.329623e+05</td>\n",
       "      <td>1.110202e+05</td>\n",
       "      <td>1.502069e+05</td>\n",
       "      <td>6.243420e+03</td>\n",
       "      <td>1.107834e+05</td>\n",
       "      <td>8.333767e+04</td>\n",
       "      <td>2.202925e+04</td>\n",
       "      <td>132.500000</td>\n",
       "      <td>2017.000000</td>\n",
       "    </tr>\n",
       "    <tr>\n",
       "      <th>max</th>\n",
       "      <td>3.250000</td>\n",
       "      <td>6.250565e+07</td>\n",
       "      <td>2.274362e+07</td>\n",
       "      <td>2.047057e+07</td>\n",
       "      <td>2.546439e+06</td>\n",
       "      <td>1.937313e+07</td>\n",
       "      <td>1.338459e+07</td>\n",
       "      <td>5.719097e+06</td>\n",
       "      <td>551693.650000</td>\n",
       "      <td>2018.000000</td>\n",
       "    </tr>\n",
       "  </tbody>\n",
       "</table>\n",
       "</div>"
      ],
      "text/plain": [
       "       AveragePrice  Total Volume          4046          4225          4770  \\\n",
       "count  18249.000000  1.824900e+04  1.824900e+04  1.824900e+04  1.824900e+04   \n",
       "mean       1.405978  8.506440e+05  2.930084e+05  2.951546e+05  2.283974e+04   \n",
       "std        0.402677  3.453545e+06  1.264989e+06  1.204120e+06  1.074641e+05   \n",
       "min        0.440000  8.456000e+01  0.000000e+00  0.000000e+00  0.000000e+00   \n",
       "25%        1.100000  1.083858e+04  8.540700e+02  3.008780e+03  0.000000e+00   \n",
       "50%        1.370000  1.073768e+05  8.645300e+03  2.906102e+04  1.849900e+02   \n",
       "75%        1.660000  4.329623e+05  1.110202e+05  1.502069e+05  6.243420e+03   \n",
       "max        3.250000  6.250565e+07  2.274362e+07  2.047057e+07  2.546439e+06   \n",
       "\n",
       "         Total Bags    Small Bags    Large Bags    XLarge Bags          year  \n",
       "count  1.824900e+04  1.824900e+04  1.824900e+04   18249.000000  18249.000000  \n",
       "mean   2.396392e+05  1.821947e+05  5.433809e+04    3106.426507   2016.147899  \n",
       "std    9.862424e+05  7.461785e+05  2.439660e+05   17692.894652      0.939938  \n",
       "min    0.000000e+00  0.000000e+00  0.000000e+00       0.000000   2015.000000  \n",
       "25%    5.088640e+03  2.849420e+03  1.274700e+02       0.000000   2015.000000  \n",
       "50%    3.974383e+04  2.636282e+04  2.647710e+03       0.000000   2016.000000  \n",
       "75%    1.107834e+05  8.333767e+04  2.202925e+04     132.500000   2017.000000  \n",
       "max    1.937313e+07  1.338459e+07  5.719097e+06  551693.650000   2018.000000  "
      ]
     },
     "execution_count": 46,
     "metadata": {},
     "output_type": "execute_result"
    }
   ],
   "source": [
    "df.describe()"
   ]
  },
  {
   "cell_type": "code",
   "execution_count": 47,
   "id": "d31a1a27",
   "metadata": {},
   "outputs": [
    {
     "data": {
      "text/plain": [
       "AveragePrice    0\n",
       "Total Volume    0\n",
       "4046            0\n",
       "4225            0\n",
       "4770            0\n",
       "Total Bags      0\n",
       "Small Bags      0\n",
       "Large Bags      0\n",
       "XLarge Bags     0\n",
       "type            0\n",
       "year            0\n",
       "region          0\n",
       "dtype: int64"
      ]
     },
     "execution_count": 47,
     "metadata": {},
     "output_type": "execute_result"
    }
   ],
   "source": [
    "df.isnull().sum()"
   ]
  },
  {
   "cell_type": "code",
   "execution_count": 48,
   "id": "da8f8c8b",
   "metadata": {},
   "outputs": [
    {
     "data": {
      "text/plain": [
       "BaltimoreWashington    338\n",
       "RaleighGreensboro      338\n",
       "Tampa                  338\n",
       "Jacksonville           338\n",
       "CincinnatiDayton       338\n",
       "BuffaloRochester       338\n",
       "SouthCentral           338\n",
       "NorthernNewEngland     338\n",
       "Sacramento             338\n",
       "SanDiego               338\n",
       "Nashville              338\n",
       "RichmondNorfolk        338\n",
       "Charlotte              338\n",
       "Pittsburgh             338\n",
       "SouthCarolina          338\n",
       "Southeast              338\n",
       "GrandRapids            338\n",
       "Orlando                338\n",
       "TotalUS                338\n",
       "SanFrancisco           338\n",
       "Albany                 338\n",
       "DallasFtWorth          338\n",
       "LasVegas               338\n",
       "Seattle                338\n",
       "Detroit                338\n",
       "GreatLakes             338\n",
       "LosAngeles             338\n",
       "StLouis                338\n",
       "Denver                 338\n",
       "NewYork                338\n",
       "Northeast              338\n",
       "Boise                  338\n",
       "Plains                 338\n",
       "Louisville             338\n",
       "HartfordSpringfield    338\n",
       "Spokane                338\n",
       "Columbus               338\n",
       "Chicago                338\n",
       "Philadelphia           338\n",
       "Boston                 338\n",
       "NewOrleansMobile       338\n",
       "California             338\n",
       "Midsouth               338\n",
       "Atlanta                338\n",
       "Roanoke                338\n",
       "Houston                338\n",
       "Syracuse               338\n",
       "Indianapolis           338\n",
       "West                   338\n",
       "MiamiFtLauderdale      338\n",
       "Portland               338\n",
       "PhoenixTucson          338\n",
       "HarrisburgScranton     338\n",
       "WestTexNewMexico       335\n",
       "Name: region, dtype: int64"
      ]
     },
     "execution_count": 48,
     "metadata": {},
     "output_type": "execute_result"
    }
   ],
   "source": [
    "df['region'].value_counts()"
   ]
  },
  {
   "cell_type": "code",
   "execution_count": 49,
   "id": "154962b6",
   "metadata": {},
   "outputs": [
    {
     "data": {
      "text/plain": [
       "0     338\n",
       "27    338\n",
       "39    338\n",
       "8     338\n",
       "24    338\n",
       "40    338\n",
       "9     338\n",
       "25    338\n",
       "41    338\n",
       "10    338\n",
       "26    338\n",
       "42    338\n",
       "11    338\n",
       "43    338\n",
       "16    338\n",
       "12    338\n",
       "28    338\n",
       "44    338\n",
       "13    338\n",
       "29    338\n",
       "45    338\n",
       "14    338\n",
       "30    338\n",
       "46    338\n",
       "15    338\n",
       "31    338\n",
       "23    338\n",
       "7     338\n",
       "38    338\n",
       "22    338\n",
       "32    338\n",
       "48    338\n",
       "1     338\n",
       "17    338\n",
       "33    338\n",
       "49    338\n",
       "2     338\n",
       "18    338\n",
       "34    338\n",
       "50    338\n",
       "3     338\n",
       "19    338\n",
       "35    338\n",
       "51    338\n",
       "4     338\n",
       "20    338\n",
       "36    338\n",
       "52    338\n",
       "5     338\n",
       "21    338\n",
       "37    338\n",
       "6     338\n",
       "47    338\n",
       "53    335\n",
       "Name: region, dtype: int64"
      ]
     },
     "execution_count": 49,
     "metadata": {},
     "output_type": "execute_result"
    }
   ],
   "source": [
    "from sklearn.preprocessing import LabelEncoder\n",
    "LE=LabelEncoder()\n",
    "df['region']=LE.fit_transform(df['region'])\n",
    "df['region'].value_counts()"
   ]
  },
  {
   "cell_type": "code",
   "execution_count": 50,
   "id": "d258135f",
   "metadata": {},
   "outputs": [
    {
     "data": {
      "text/plain": [
       "array(['Albany', 'Atlanta', 'BaltimoreWashington', 'Boise', 'Boston',\n",
       "       'BuffaloRochester', 'California', 'Charlotte', 'Chicago',\n",
       "       'CincinnatiDayton', 'Columbus', 'DallasFtWorth', 'Denver',\n",
       "       'Detroit', 'GrandRapids', 'GreatLakes', 'HarrisburgScranton',\n",
       "       'HartfordSpringfield', 'Houston', 'Indianapolis', 'Jacksonville',\n",
       "       'LasVegas', 'LosAngeles', 'Louisville', 'MiamiFtLauderdale',\n",
       "       'Midsouth', 'Nashville', 'NewOrleansMobile', 'NewYork',\n",
       "       'Northeast', 'NorthernNewEngland', 'Orlando', 'Philadelphia',\n",
       "       'PhoenixTucson', 'Pittsburgh', 'Plains', 'Portland',\n",
       "       'RaleighGreensboro', 'RichmondNorfolk', 'Roanoke', 'Sacramento',\n",
       "       'SanDiego', 'SanFrancisco', 'Seattle', 'SouthCarolina',\n",
       "       'SouthCentral', 'Southeast', 'Spokane', 'StLouis', 'Syracuse',\n",
       "       'Tampa', 'TotalUS', 'West', 'WestTexNewMexico'], dtype=object)"
      ]
     },
     "execution_count": 50,
     "metadata": {},
     "output_type": "execute_result"
    }
   ],
   "source": [
    "LE.inverse_transform([0, 1, 2, 3, 4, 5, 6, 7, 8, 9, 10, 11, 12, 13, 14, 15, 16, 17, 18, 19, 20, 21, 22, 23, 24, 25,26, 27, 28, 29, 30, 31, 32, 33, 34, 35, 36, 37, 38, 39, 40, 41, 42, 43, 44, 45, 46, 47, 48, 49, 50, 51, 52, 53]) # Represent the class names assign to which values and easier to know if forgot"
   ]
  },
  {
   "cell_type": "code",
   "execution_count": 51,
   "id": "c2645f73",
   "metadata": {},
   "outputs": [
    {
     "data": {
      "text/plain": [
       "conventional    9126\n",
       "organic         9123\n",
       "Name: type, dtype: int64"
      ]
     },
     "execution_count": 51,
     "metadata": {},
     "output_type": "execute_result"
    }
   ],
   "source": [
    "df['type'].value_counts()"
   ]
  },
  {
   "cell_type": "code",
   "execution_count": 52,
   "id": "59c9fed0",
   "metadata": {
    "scrolled": true
   },
   "outputs": [
    {
     "data": {
      "text/plain": [
       "conventional    9126\n",
       "organic         9123\n",
       "Name: type, dtype: int64"
      ]
     },
     "execution_count": 52,
     "metadata": {},
     "output_type": "execute_result"
    }
   ],
   "source": [
    "df['type'].value_counts()"
   ]
  },
  {
   "cell_type": "code",
   "execution_count": 53,
   "id": "e5f069d0",
   "metadata": {
    "scrolled": true
   },
   "outputs": [
    {
     "data": {
      "text/plain": [
       "0    9126\n",
       "1    9123\n",
       "Name: type, dtype: int64"
      ]
     },
     "execution_count": 53,
     "metadata": {},
     "output_type": "execute_result"
    }
   ],
   "source": [
    "from sklearn.preprocessing import LabelEncoder\n",
    "LE=LabelEncoder()\n",
    "df['type']=LE.fit_transform(df['type'])\n",
    "df['type'].value_counts()"
   ]
  },
  {
   "cell_type": "code",
   "execution_count": 54,
   "id": "20d00d72",
   "metadata": {
    "scrolled": true
   },
   "outputs": [
    {
     "data": {
      "text/plain": [
       "array(['conventional', 'organic'], dtype=object)"
      ]
     },
     "execution_count": 54,
     "metadata": {},
     "output_type": "execute_result"
    }
   ],
   "source": [
    "LE.inverse_transform([0, 1])"
   ]
  },
  {
   "cell_type": "code",
   "execution_count": 55,
   "id": "7b57fc64",
   "metadata": {},
   "outputs": [
    {
     "data": {
      "text/html": [
       "<div>\n",
       "<style scoped>\n",
       "    .dataframe tbody tr th:only-of-type {\n",
       "        vertical-align: middle;\n",
       "    }\n",
       "\n",
       "    .dataframe tbody tr th {\n",
       "        vertical-align: top;\n",
       "    }\n",
       "\n",
       "    .dataframe thead th {\n",
       "        text-align: right;\n",
       "    }\n",
       "</style>\n",
       "<table border=\"1\" class=\"dataframe\">\n",
       "  <thead>\n",
       "    <tr style=\"text-align: right;\">\n",
       "      <th></th>\n",
       "      <th>AveragePrice</th>\n",
       "      <th>Total Volume</th>\n",
       "      <th>4046</th>\n",
       "      <th>4225</th>\n",
       "      <th>4770</th>\n",
       "      <th>Total Bags</th>\n",
       "      <th>Small Bags</th>\n",
       "      <th>Large Bags</th>\n",
       "      <th>XLarge Bags</th>\n",
       "      <th>type</th>\n",
       "      <th>year</th>\n",
       "      <th>region</th>\n",
       "    </tr>\n",
       "  </thead>\n",
       "  <tbody>\n",
       "    <tr>\n",
       "      <th>AveragePrice</th>\n",
       "      <td>1.000000</td>\n",
       "      <td>-0.192752</td>\n",
       "      <td>-0.208317</td>\n",
       "      <td>-0.172928</td>\n",
       "      <td>-0.179446</td>\n",
       "      <td>-0.177088</td>\n",
       "      <td>-0.174730</td>\n",
       "      <td>-0.172940</td>\n",
       "      <td>-0.117592</td>\n",
       "      <td>0.615845</td>\n",
       "      <td>0.093197</td>\n",
       "      <td>-0.011716</td>\n",
       "    </tr>\n",
       "    <tr>\n",
       "      <th>Total Volume</th>\n",
       "      <td>-0.192752</td>\n",
       "      <td>1.000000</td>\n",
       "      <td>0.977863</td>\n",
       "      <td>0.974181</td>\n",
       "      <td>0.872202</td>\n",
       "      <td>0.963047</td>\n",
       "      <td>0.967238</td>\n",
       "      <td>0.880640</td>\n",
       "      <td>0.747157</td>\n",
       "      <td>-0.232434</td>\n",
       "      <td>0.017193</td>\n",
       "      <td>0.174176</td>\n",
       "    </tr>\n",
       "    <tr>\n",
       "      <th>4046</th>\n",
       "      <td>-0.208317</td>\n",
       "      <td>0.977863</td>\n",
       "      <td>1.000000</td>\n",
       "      <td>0.926110</td>\n",
       "      <td>0.833389</td>\n",
       "      <td>0.920057</td>\n",
       "      <td>0.925280</td>\n",
       "      <td>0.838645</td>\n",
       "      <td>0.699377</td>\n",
       "      <td>-0.225819</td>\n",
       "      <td>0.003353</td>\n",
       "      <td>0.192073</td>\n",
       "    </tr>\n",
       "    <tr>\n",
       "      <th>4225</th>\n",
       "      <td>-0.172928</td>\n",
       "      <td>0.974181</td>\n",
       "      <td>0.926110</td>\n",
       "      <td>1.000000</td>\n",
       "      <td>0.887855</td>\n",
       "      <td>0.905787</td>\n",
       "      <td>0.916031</td>\n",
       "      <td>0.810015</td>\n",
       "      <td>0.688809</td>\n",
       "      <td>-0.232289</td>\n",
       "      <td>-0.009559</td>\n",
       "      <td>0.145726</td>\n",
       "    </tr>\n",
       "    <tr>\n",
       "      <th>4770</th>\n",
       "      <td>-0.179446</td>\n",
       "      <td>0.872202</td>\n",
       "      <td>0.833389</td>\n",
       "      <td>0.887855</td>\n",
       "      <td>1.000000</td>\n",
       "      <td>0.792314</td>\n",
       "      <td>0.802733</td>\n",
       "      <td>0.698471</td>\n",
       "      <td>0.679861</td>\n",
       "      <td>-0.210027</td>\n",
       "      <td>-0.036531</td>\n",
       "      <td>0.095252</td>\n",
       "    </tr>\n",
       "    <tr>\n",
       "      <th>Total Bags</th>\n",
       "      <td>-0.177088</td>\n",
       "      <td>0.963047</td>\n",
       "      <td>0.920057</td>\n",
       "      <td>0.905787</td>\n",
       "      <td>0.792314</td>\n",
       "      <td>1.000000</td>\n",
       "      <td>0.994335</td>\n",
       "      <td>0.943009</td>\n",
       "      <td>0.804233</td>\n",
       "      <td>-0.217788</td>\n",
       "      <td>0.071552</td>\n",
       "      <td>0.175256</td>\n",
       "    </tr>\n",
       "    <tr>\n",
       "      <th>Small Bags</th>\n",
       "      <td>-0.174730</td>\n",
       "      <td>0.967238</td>\n",
       "      <td>0.925280</td>\n",
       "      <td>0.916031</td>\n",
       "      <td>0.802733</td>\n",
       "      <td>0.994335</td>\n",
       "      <td>1.000000</td>\n",
       "      <td>0.902589</td>\n",
       "      <td>0.806845</td>\n",
       "      <td>-0.220535</td>\n",
       "      <td>0.063915</td>\n",
       "      <td>0.164702</td>\n",
       "    </tr>\n",
       "    <tr>\n",
       "      <th>Large Bags</th>\n",
       "      <td>-0.172940</td>\n",
       "      <td>0.880640</td>\n",
       "      <td>0.838645</td>\n",
       "      <td>0.810015</td>\n",
       "      <td>0.698471</td>\n",
       "      <td>0.943009</td>\n",
       "      <td>0.902589</td>\n",
       "      <td>1.000000</td>\n",
       "      <td>0.710858</td>\n",
       "      <td>-0.193177</td>\n",
       "      <td>0.087891</td>\n",
       "      <td>0.198768</td>\n",
       "    </tr>\n",
       "    <tr>\n",
       "      <th>XLarge Bags</th>\n",
       "      <td>-0.117592</td>\n",
       "      <td>0.747157</td>\n",
       "      <td>0.699377</td>\n",
       "      <td>0.688809</td>\n",
       "      <td>0.679861</td>\n",
       "      <td>0.804233</td>\n",
       "      <td>0.806845</td>\n",
       "      <td>0.710858</td>\n",
       "      <td>1.000000</td>\n",
       "      <td>-0.175483</td>\n",
       "      <td>0.081033</td>\n",
       "      <td>0.082281</td>\n",
       "    </tr>\n",
       "    <tr>\n",
       "      <th>type</th>\n",
       "      <td>0.615845</td>\n",
       "      <td>-0.232434</td>\n",
       "      <td>-0.225819</td>\n",
       "      <td>-0.232289</td>\n",
       "      <td>-0.210027</td>\n",
       "      <td>-0.217788</td>\n",
       "      <td>-0.220535</td>\n",
       "      <td>-0.193177</td>\n",
       "      <td>-0.175483</td>\n",
       "      <td>1.000000</td>\n",
       "      <td>-0.000032</td>\n",
       "      <td>-0.000280</td>\n",
       "    </tr>\n",
       "    <tr>\n",
       "      <th>year</th>\n",
       "      <td>0.093197</td>\n",
       "      <td>0.017193</td>\n",
       "      <td>0.003353</td>\n",
       "      <td>-0.009559</td>\n",
       "      <td>-0.036531</td>\n",
       "      <td>0.071552</td>\n",
       "      <td>0.063915</td>\n",
       "      <td>0.087891</td>\n",
       "      <td>0.081033</td>\n",
       "      <td>-0.000032</td>\n",
       "      <td>1.000000</td>\n",
       "      <td>-0.000055</td>\n",
       "    </tr>\n",
       "    <tr>\n",
       "      <th>region</th>\n",
       "      <td>-0.011716</td>\n",
       "      <td>0.174176</td>\n",
       "      <td>0.192073</td>\n",
       "      <td>0.145726</td>\n",
       "      <td>0.095252</td>\n",
       "      <td>0.175256</td>\n",
       "      <td>0.164702</td>\n",
       "      <td>0.198768</td>\n",
       "      <td>0.082281</td>\n",
       "      <td>-0.000280</td>\n",
       "      <td>-0.000055</td>\n",
       "      <td>1.000000</td>\n",
       "    </tr>\n",
       "  </tbody>\n",
       "</table>\n",
       "</div>"
      ],
      "text/plain": [
       "              AveragePrice  Total Volume      4046      4225      4770  \\\n",
       "AveragePrice      1.000000     -0.192752 -0.208317 -0.172928 -0.179446   \n",
       "Total Volume     -0.192752      1.000000  0.977863  0.974181  0.872202   \n",
       "4046             -0.208317      0.977863  1.000000  0.926110  0.833389   \n",
       "4225             -0.172928      0.974181  0.926110  1.000000  0.887855   \n",
       "4770             -0.179446      0.872202  0.833389  0.887855  1.000000   \n",
       "Total Bags       -0.177088      0.963047  0.920057  0.905787  0.792314   \n",
       "Small Bags       -0.174730      0.967238  0.925280  0.916031  0.802733   \n",
       "Large Bags       -0.172940      0.880640  0.838645  0.810015  0.698471   \n",
       "XLarge Bags      -0.117592      0.747157  0.699377  0.688809  0.679861   \n",
       "type              0.615845     -0.232434 -0.225819 -0.232289 -0.210027   \n",
       "year              0.093197      0.017193  0.003353 -0.009559 -0.036531   \n",
       "region           -0.011716      0.174176  0.192073  0.145726  0.095252   \n",
       "\n",
       "              Total Bags  Small Bags  Large Bags  XLarge Bags      type  \\\n",
       "AveragePrice   -0.177088   -0.174730   -0.172940    -0.117592  0.615845   \n",
       "Total Volume    0.963047    0.967238    0.880640     0.747157 -0.232434   \n",
       "4046            0.920057    0.925280    0.838645     0.699377 -0.225819   \n",
       "4225            0.905787    0.916031    0.810015     0.688809 -0.232289   \n",
       "4770            0.792314    0.802733    0.698471     0.679861 -0.210027   \n",
       "Total Bags      1.000000    0.994335    0.943009     0.804233 -0.217788   \n",
       "Small Bags      0.994335    1.000000    0.902589     0.806845 -0.220535   \n",
       "Large Bags      0.943009    0.902589    1.000000     0.710858 -0.193177   \n",
       "XLarge Bags     0.804233    0.806845    0.710858     1.000000 -0.175483   \n",
       "type           -0.217788   -0.220535   -0.193177    -0.175483  1.000000   \n",
       "year            0.071552    0.063915    0.087891     0.081033 -0.000032   \n",
       "region          0.175256    0.164702    0.198768     0.082281 -0.000280   \n",
       "\n",
       "                  year    region  \n",
       "AveragePrice  0.093197 -0.011716  \n",
       "Total Volume  0.017193  0.174176  \n",
       "4046          0.003353  0.192073  \n",
       "4225         -0.009559  0.145726  \n",
       "4770         -0.036531  0.095252  \n",
       "Total Bags    0.071552  0.175256  \n",
       "Small Bags    0.063915  0.164702  \n",
       "Large Bags    0.087891  0.198768  \n",
       "XLarge Bags   0.081033  0.082281  \n",
       "type         -0.000032 -0.000280  \n",
       "year          1.000000 -0.000055  \n",
       "region       -0.000055  1.000000  "
      ]
     },
     "execution_count": 55,
     "metadata": {},
     "output_type": "execute_result"
    }
   ],
   "source": [
    "df.corr()"
   ]
  },
  {
   "cell_type": "code",
   "execution_count": 56,
   "id": "c52c3680",
   "metadata": {
    "scrolled": true
   },
   "outputs": [
    {
     "data": {
      "image/png": "[encoded data removed]",
      "text/plain": [
       "<Figure size 1080x720 with 2 Axes>"
      ]
     },
     "metadata": {
      "needs_background": "light"
     },
     "output_type": "display_data"
    }
   ],
   "source": [
    "corr_mat=df.corr()\n",
    "# Size of the canvas\n",
    "plt.figure(figsize=[15,10])\n",
    "#Plot Correlation Matrix\n",
    "sns.heatmap(corr_mat,annot=True) # annot represnts each value encoded in heatmap\n",
    "plt.title('Correlation Matrix')\n",
    "plt.show()"
   ]
  },
  {
   "cell_type": "code",
   "execution_count": 57,
   "id": "5f238453",
   "metadata": {
    "scrolled": true
   },
   "outputs": [
    {
     "data": {
      "image/png": "[encoded data removed]",
      "text/plain": [
       "<Figure size 720x720 with 12 Axes>"
      ]
     },
     "metadata": {
      "needs_background": "light"
     },
     "output_type": "display_data"
    }
   ],
   "source": [
    "#plot histogram data vizualization\n",
    "df.hist(bins=20,figsize=(10,10))\n",
    "#plot showing\n",
    "plt.show()"
   ]
  },
  {
   "cell_type": "markdown",
   "id": "fc7e2c12",
   "metadata": {},
   "source": [
    "- Average Price Prediction"
   ]
  },
  {
   "cell_type": "code",
   "execution_count": 19,
   "id": "75a61b06",
   "metadata": {},
   "outputs": [],
   "source": [
    "x=df.drop('AveragePrice',axis=1)\n",
    "y=df['AveragePrice']"
   ]
  },
  {
   "cell_type": "code",
   "execution_count": 20,
   "id": "ae8e6741",
   "metadata": {},
   "outputs": [
    {
     "data": {
      "text/plain": [
       "region           0.000030\n",
       "type             0.000329\n",
       "year             0.215339\n",
       "4046             8.648220\n",
       "4225             8.942466\n",
       "Total Volume     9.007687\n",
       "Small Bags       9.540660\n",
       "Total Bags       9.756072\n",
       "Large Bags       9.796455\n",
       "4770            10.159396\n",
       "XLarge Bags     13.139751\n",
       "dtype: float64"
      ]
     },
     "execution_count": 20,
     "metadata": {},
     "output_type": "execute_result"
    }
   ],
   "source": [
    "# Checking Skweness\n",
    "x.skew().sort_values()"
   ]
  },
  {
   "cell_type": "code",
   "execution_count": 21,
   "id": "1f97aa29",
   "metadata": {},
   "outputs": [],
   "source": [
    "# Remove the Skweness of the data\n",
    "from sklearn.preprocessing import power_transform\n",
    "x_new=power_transform(x)\n",
    "x=pd.DataFrame(x_new,columns=x.columns)"
   ]
  },
  {
   "cell_type": "code",
   "execution_count": 22,
   "id": "2715fa8f",
   "metadata": {},
   "outputs": [
    {
     "data": {
      "text/plain": [
       "region         -0.261443\n",
       "Large Bags     -0.073809\n",
       "4046           -0.022679\n",
       "4225           -0.017740\n",
       "Total Bags     -0.001626\n",
       "type            0.000329\n",
       "Small Bags      0.007058\n",
       "Total Volume    0.011171\n",
       "4770            0.032184\n",
       "year            0.213156\n",
       "XLarge Bags     0.793520\n",
       "dtype: float64"
      ]
     },
     "execution_count": 22,
     "metadata": {},
     "output_type": "execute_result"
    }
   ],
   "source": [
    "x.skew().sort_values()"
   ]
  },
  {
   "cell_type": "code",
   "execution_count": 23,
   "id": "0d897430",
   "metadata": {
    "scrolled": false
   },
   "outputs": [
    {
     "data": {
      "image/png": "[encoded data removed]",
      "text/plain": [
       "<Figure size 1440x720 with 1 Axes>"
      ]
     },
     "metadata": {
      "needs_background": "light"
     },
     "output_type": "display_data"
    }
   ],
   "source": [
    "# Plot boxplot\n",
    "x.boxplot(figsize=[20,10])\n",
    "plt.show()"
   ]
  },
  {
   "cell_type": "code",
   "execution_count": 24,
   "id": "d2547b42",
   "metadata": {},
   "outputs": [
    {
     "data": {
      "text/plain": [
       "(18249, 11)"
      ]
     },
     "execution_count": 24,
     "metadata": {},
     "output_type": "execute_result"
    }
   ],
   "source": [
    "from scipy.stats import zscore\n",
    "z=np.abs(zscore(x))\n",
    "z.shape"
   ]
  },
  {
   "cell_type": "code",
   "execution_count": 25,
   "id": "e4b89f08",
   "metadata": {},
   "outputs": [
    {
     "name": "stdout",
     "output_type": "stream",
     "text": [
      "(array([ 2652,  2652,  2652, ..., 16570, 16572, 16589], dtype=int64), array([2, 4, 5, ..., 2, 2, 2], dtype=int64))\n"
     ]
    }
   ],
   "source": [
    "threshold=2.5\n",
    "print(np.where(z>2.5))"
   ]
  },
  {
   "cell_type": "code",
   "execution_count": 26,
   "id": "3c3e4c74",
   "metadata": {},
   "outputs": [
    {
     "name": "stdout",
     "output_type": "stream",
     "text": [
      "(18249, 11)\n",
      "(17775, 11)\n"
     ]
    }
   ],
   "source": [
    "x_new=x[(z<2.5).all(axis=1)]\n",
    "print(x.shape)\n",
    "print(x_new.shape)"
   ]
  },
  {
   "cell_type": "code",
   "execution_count": 27,
   "id": "378ab76f",
   "metadata": {},
   "outputs": [
    {
     "name": "stdout",
     "output_type": "stream",
     "text": [
      "2.5974025974025974\n"
     ]
    }
   ],
   "source": [
    "# % data loss\n",
    "loss_percent=(18249-17775)/18249*100\n",
    "print(loss_percent)"
   ]
  },
  {
   "cell_type": "code",
   "execution_count": 28,
   "id": "b0931a79",
   "metadata": {
    "scrolled": false
   },
   "outputs": [
    {
     "data": {
      "image/png": "[encoded data removed]",
      "text/plain": [
       "<Figure size 1440x1080 with 1 Axes>"
      ]
     },
     "metadata": {
      "needs_background": "light"
     },
     "output_type": "display_data"
    }
   ],
   "source": [
    "# Plot boxplot - To Check outliers \n",
    "x_new.boxplot(figsize=[20,15])\n",
    "plt.subplots_adjust(bottom=0.25)\n",
    "plt.show()"
   ]
  },
  {
   "cell_type": "code",
   "execution_count": 29,
   "id": "913336f7",
   "metadata": {},
   "outputs": [
    {
     "data": {
      "text/plain": [
       "(18249,)"
      ]
     },
     "execution_count": 29,
     "metadata": {},
     "output_type": "execute_result"
    }
   ],
   "source": [
    "from scipy.stats import zscore\n",
    "z1=np.abs(zscore(y))\n",
    "z1.shape"
   ]
  },
  {
   "cell_type": "code",
   "execution_count": 30,
   "id": "0c3a6a66",
   "metadata": {},
   "outputs": [
    {
     "name": "stdout",
     "output_type": "stream",
     "text": [
      "(array([10031, 10033, 11314, 11320, 11321, 11322, 11323, 11324, 11325,\n",
      "       11326, 11327, 11328, 11329, 11330, 11331, 11332, 12253, 12254,\n",
      "       12819, 12820, 12821, 12823, 12824, 13033, 13035, 13037, 13038,\n",
      "       13086, 13395, 13396, 13603, 13657, 13661, 13662, 13813, 14015,\n",
      "       14016, 14017, 14018, 14019, 14020, 14021, 14072, 14073, 14074,\n",
      "       14117, 14118, 14119, 14120, 14121, 14122, 14123, 14124, 14125,\n",
      "       14126, 14128, 14129, 14177, 14385, 14394, 14697, 14699, 14701,\n",
      "       14702, 14806, 14807, 14808, 14809, 14810, 14811, 14812, 14911,\n",
      "       14912, 14913, 14914, 14915, 14916, 14917, 14918, 14919, 15031,\n",
      "       15032, 15033, 15034, 15035, 15036, 15077, 15124, 15125, 15126,\n",
      "       15127, 15128, 15129, 15130, 15131, 15142, 15143, 15144, 15147,\n",
      "       15148, 15510, 15511, 15514, 15667, 15668, 15669, 15671, 15672,\n",
      "       15673, 15674, 15675, 15676, 15678, 15680, 15681, 15682, 15684,\n",
      "       15690, 15691, 15692, 15693, 15694, 15812, 15814, 15815, 15816,\n",
      "       15818, 15819, 15820, 15870, 15871, 15872, 15873, 16024, 16050,\n",
      "       16054, 16055, 16056, 16057, 16250, 16251, 16395, 16399, 16401,\n",
      "       16421, 16657, 16658, 16659, 16660, 16661, 16662, 16663, 16664,\n",
      "       16665, 16666, 16667, 16668, 16713, 16714, 16715, 16717, 16718,\n",
      "       16719, 16720, 16721, 16723, 16733, 16734, 16735, 16736, 16737,\n",
      "       16738, 16879, 16889, 16890, 16891, 16892, 16894, 16895, 16901,\n",
      "       16902, 16904, 16932, 16933, 16985, 16986, 16987, 16990, 16992,\n",
      "       16993, 16994, 16995, 16996, 16997, 16998, 16999, 17000, 17001,\n",
      "       17002, 17003, 17004, 17005, 17006, 17007, 17008, 17009, 17010,\n",
      "       17011, 17012, 17013, 17015, 17017, 17018, 17019, 17029, 17031,\n",
      "       17032, 17033, 17034, 17035, 17036, 17037, 17038, 17039, 17040,\n",
      "       17041, 17042, 17043, 17044, 17047, 17240, 17241, 17243, 17244,\n",
      "       17245, 17246, 17247, 17248, 17249, 17250, 17251, 17252, 17253,\n",
      "       17255, 17256, 17258, 17259, 17299, 17300, 17301, 17302, 17303,\n",
      "       17304, 17364, 17365, 17366, 17402, 17428, 17433, 17434, 17510,\n",
      "       17513, 17514, 17515, 17516, 17568, 17569], dtype=int64),)\n"
     ]
    }
   ],
   "source": [
    "threshold=2.5\n",
    "print(np.where(z1>2.5))"
   ]
  },
  {
   "cell_type": "code",
   "execution_count": 31,
   "id": "3ccc560b",
   "metadata": {},
   "outputs": [
    {
     "name": "stdout",
     "output_type": "stream",
     "text": [
      "(18249,)\n",
      "(17775,)\n"
     ]
    }
   ],
   "source": [
    "y_new=y[(z<2.5).all(axis=1)]\n",
    "print(y.shape)\n",
    "print(y_new.shape)"
   ]
  },
  {
   "cell_type": "code",
   "execution_count": 32,
   "id": "9d6cb9dc",
   "metadata": {},
   "outputs": [],
   "source": [
    "# Training process\n",
    "# Min-max scaler\n",
    "from sklearn.preprocessing import MinMaxScaler\n",
    "mms=MinMaxScaler()\n",
    "from sklearn.linear_model import LinearRegression\n",
    "lr=LinearRegression()\n",
    "from sklearn.metrics import r2_score\n",
    "from sklearn.model_selection import train_test_split"
   ]
  },
  {
   "cell_type": "code",
   "execution_count": 33,
   "id": "e0f9351c",
   "metadata": {},
   "outputs": [
    {
     "name": "stdout",
     "output_type": "stream",
     "text": [
      "At Random State 0, the training accuracy is :- 0.5302173109498791\n",
      "At Random State 0, the training accuracy is :- 0.527561431140873\n",
      "\n",
      "\n",
      "At Random State 1, the training accuracy is :- 0.5296151163054776\n",
      "At Random State 1, the training accuracy is :- 0.5301237324898793\n",
      "\n",
      "\n",
      "At Random State 2, the training accuracy is :- 0.5297066407869984\n",
      "At Random State 2, the training accuracy is :- 0.5299361912003793\n",
      "\n",
      "\n",
      "At Random State 3, the training accuracy is :- 0.5305557145793145\n",
      "At Random State 3, the training accuracy is :- 0.526587121064241\n",
      "\n",
      "\n",
      "At Random State 4, the training accuracy is :- 0.5326980495204686\n",
      "At Random State 4, the training accuracy is :- 0.5178038580540534\n",
      "\n",
      "\n",
      "At Random State 5, the training accuracy is :- 0.5250301301426106\n",
      "At Random State 5, the training accuracy is :- 0.5485506989680704\n",
      "\n",
      "\n",
      "At Random State 6, the training accuracy is :- 0.5265551407140071\n",
      "At Random State 6, the training accuracy is :- 0.5414359612925963\n",
      "\n",
      "\n",
      "At Random State 7, the training accuracy is :- 0.5282862866633754\n",
      "At Random State 7, the training accuracy is :- 0.5356542983729543\n",
      "\n",
      "\n",
      "At Random State 8, the training accuracy is :- 0.5289036349643116\n",
      "At Random State 8, the training accuracy is :- 0.5327524387322364\n",
      "\n",
      "\n",
      "At Random State 9, the training accuracy is :- 0.5311400267547082\n",
      "At Random State 9, the training accuracy is :- 0.5239458641306489\n",
      "\n",
      "\n",
      "At Random State 10, the training accuracy is :- 0.529636759013618\n",
      "At Random State 10, the training accuracy is :- 0.5303151858545101\n",
      "\n",
      "\n",
      "At Random State 11, the training accuracy is :- 0.5311220374069096\n",
      "At Random State 11, the training accuracy is :- 0.5244257659893921\n",
      "\n",
      "\n",
      "At Random State 12, the training accuracy is :- 0.5280579357946564\n",
      "At Random State 12, the training accuracy is :- 0.5365469575436175\n",
      "\n",
      "\n",
      "At Random State 13, the training accuracy is :- 0.5326999436329285\n",
      "At Random State 13, the training accuracy is :- 0.5170883684087648\n",
      "\n",
      "\n",
      "At Random State 14, the training accuracy is :- 0.5277287728232749\n",
      "At Random State 14, the training accuracy is :- 0.5378524375650826\n",
      "\n",
      "\n",
      "At Random State 15, the training accuracy is :- 0.5281735608165614\n",
      "At Random State 15, the training accuracy is :- 0.5362402325180087\n",
      "\n",
      "\n",
      "At Random State 16, the training accuracy is :- 0.5280872626371187\n",
      "At Random State 16, the training accuracy is :- 0.5363929078908612\n",
      "\n",
      "\n",
      "At Random State 17, the training accuracy is :- 0.5285899891059478\n",
      "At Random State 17, the training accuracy is :- 0.5343940998900587\n",
      "\n",
      "\n",
      "At Random State 18, the training accuracy is :- 0.5295326448522037\n",
      "At Random State 18, the training accuracy is :- 0.5305488896986854\n",
      "\n",
      "\n",
      "At Random State 19, the training accuracy is :- 0.5283914642222791\n",
      "At Random State 19, the training accuracy is :- 0.5354694035735705\n",
      "\n",
      "\n",
      "At Random State 20, the training accuracy is :- 0.5274648317476547\n",
      "At Random State 20, the training accuracy is :- 0.5386741456328608\n",
      "\n",
      "\n",
      "At Random State 21, the training accuracy is :- 0.5323272633572449\n",
      "At Random State 21, the training accuracy is :- 0.5197165916783945\n",
      "\n",
      "\n",
      "At Random State 22, the training accuracy is :- 0.5275751185264426\n",
      "At Random State 22, the training accuracy is :- 0.5384845634591942\n",
      "\n",
      "\n",
      "At Random State 23, the training accuracy is :- 0.5291570880892138\n",
      "At Random State 23, the training accuracy is :- 0.5315598488996669\n",
      "\n",
      "\n",
      "At Random State 24, the training accuracy is :- 0.5297956914428557\n",
      "At Random State 24, the training accuracy is :- 0.529753083653511\n",
      "\n",
      "\n",
      "At Random State 25, the training accuracy is :- 0.5292349504909497\n",
      "At Random State 25, the training accuracy is :- 0.5317240656088102\n",
      "\n",
      "\n",
      "At Random State 26, the training accuracy is :- 0.5298695609197803\n",
      "At Random State 26, the training accuracy is :- 0.5292324314304586\n",
      "\n",
      "\n",
      "At Random State 27, the training accuracy is :- 0.5303344744538978\n",
      "At Random State 27, the training accuracy is :- 0.5274817023621531\n",
      "\n",
      "\n",
      "At Random State 28, the training accuracy is :- 0.5316652696053694\n",
      "At Random State 28, the training accuracy is :- 0.5221873086437993\n",
      "\n",
      "\n",
      "At Random State 29, the training accuracy is :- 0.530462148810684\n",
      "At Random State 29, the training accuracy is :- 0.5267001992300409\n",
      "\n",
      "\n",
      "At Random State 30, the training accuracy is :- 0.5255185562758068\n",
      "At Random State 30, the training accuracy is :- 0.5461297524138792\n",
      "\n",
      "\n",
      "At Random State 31, the training accuracy is :- 0.527409141750428\n",
      "At Random State 31, the training accuracy is :- 0.5391277587196276\n",
      "\n",
      "\n",
      "At Random State 32, the training accuracy is :- 0.5314395757823569\n",
      "At Random State 32, the training accuracy is :- 0.5222463309543266\n",
      "\n",
      "\n",
      "At Random State 33, the training accuracy is :- 0.535315136943022\n",
      "At Random State 33, the training accuracy is :- 0.5056756401580197\n",
      "\n",
      "\n",
      "At Random State 34, the training accuracy is :- 0.5314642219661709\n",
      "At Random State 34, the training accuracy is :- 0.5227584878733499\n",
      "\n",
      "\n",
      "At Random State 35, the training accuracy is :- 0.5284379141924731\n",
      "At Random State 35, the training accuracy is :- 0.5338085066955172\n",
      "\n",
      "\n",
      "At Random State 36, the training accuracy is :- 0.5297106988319393\n",
      "At Random State 36, the training accuracy is :- 0.5299827655931034\n",
      "\n",
      "\n",
      "At Random State 37, the training accuracy is :- 0.5336728899345412\n",
      "At Random State 37, the training accuracy is :- 0.5136583609682375\n",
      "\n",
      "\n",
      "At Random State 38, the training accuracy is :- 0.5339552030484482\n",
      "At Random State 38, the training accuracy is :- 0.5129822264183408\n",
      "\n",
      "\n",
      "At Random State 39, the training accuracy is :- 0.5302182104140172\n",
      "At Random State 39, the training accuracy is :- 0.5277085820650057\n",
      "\n",
      "\n",
      "At Random State 40, the training accuracy is :- 0.5313670674471032\n",
      "At Random State 40, the training accuracy is :- 0.5232725870837529\n",
      "\n",
      "\n",
      "At Random State 41, the training accuracy is :- 0.529344393244729\n",
      "At Random State 41, the training accuracy is :- 0.5310712228059216\n",
      "\n",
      "\n",
      "At Random State 42, the training accuracy is :- 0.5253673078359002\n",
      "At Random State 42, the training accuracy is :- 0.54740482022014\n",
      "\n",
      "\n",
      "At Random State 43, the training accuracy is :- 0.5304050367929338\n",
      "At Random State 43, the training accuracy is :- 0.5269274101577062\n",
      "\n",
      "\n",
      "At Random State 44, the training accuracy is :- 0.5325101223122638\n",
      "At Random State 44, the training accuracy is :- 0.5187661253877811\n",
      "\n",
      "\n",
      "At Random State 45, the training accuracy is :- 0.5308793708420876\n",
      "At Random State 45, the training accuracy is :- 0.5250929217333016\n",
      "\n",
      "\n",
      "At Random State 46, the training accuracy is :- 0.5283798469757618\n",
      "At Random State 46, the training accuracy is :- 0.5352358986561639\n",
      "\n",
      "\n",
      "At Random State 47, the training accuracy is :- 0.5318257821922534\n",
      "At Random State 47, the training accuracy is :- 0.5212816193216645\n",
      "\n",
      "\n",
      "At Random State 48, the training accuracy is :- 0.5330376562477123\n",
      "At Random State 48, the training accuracy is :- 0.516407051002052\n",
      "\n",
      "\n",
      "At Random State 49, the training accuracy is :- 0.5303946843048932\n",
      "At Random State 49, the training accuracy is :- 0.5269316889601252\n",
      "\n",
      "\n",
      "At Random State 50, the training accuracy is :- 0.5307988811975507\n",
      "At Random State 50, the training accuracy is :- 0.5253979974770107\n",
      "\n",
      "\n",
      "At Random State 51, the training accuracy is :- 0.5310559727874484\n",
      "At Random State 51, the training accuracy is :- 0.5248499815492147\n",
      "\n",
      "\n",
      "At Random State 52, the training accuracy is :- 0.5264638931308687\n",
      "At Random State 52, the training accuracy is :- 0.5424019870093406\n",
      "\n",
      "\n",
      "At Random State 53, the training accuracy is :- 0.5295516672847442\n",
      "At Random State 53, the training accuracy is :- 0.5307363175536037\n",
      "\n",
      "\n",
      "At Random State 54, the training accuracy is :- 0.5273280633179582\n",
      "At Random State 54, the training accuracy is :- 0.5382339035939788\n",
      "\n",
      "\n",
      "At Random State 55, the training accuracy is :- 0.5304152051379696\n",
      "At Random State 55, the training accuracy is :- 0.5272722813467118\n",
      "\n",
      "\n",
      "At Random State 56, the training accuracy is :- 0.5294096940131661\n",
      "At Random State 56, the training accuracy is :- 0.5310798860998647\n",
      "\n",
      "\n",
      "At Random State 57, the training accuracy is :- 0.5291614862647572\n",
      "At Random State 57, the training accuracy is :- 0.5321091754054237\n",
      "\n",
      "\n",
      "At Random State 58, the training accuracy is :- 0.5244612607372154\n",
      "At Random State 58, the training accuracy is :- 0.5496501536695981\n",
      "\n",
      "\n",
      "At Random State 59, the training accuracy is :- 0.5340157080906853\n",
      "At Random State 59, the training accuracy is :- 0.5124705730617677\n",
      "\n",
      "\n",
      "At Random State 60, the training accuracy is :- 0.5286441242207478\n",
      "At Random State 60, the training accuracy is :- 0.534369858552915\n",
      "\n",
      "\n",
      "At Random State 61, the training accuracy is :- 0.5301085457334889\n",
      "At Random State 61, the training accuracy is :- 0.5279450503976686\n",
      "\n",
      "\n",
      "At Random State 62, the training accuracy is :- 0.5297206708703386\n",
      "At Random State 62, the training accuracy is :- 0.5293657773912508\n",
      "\n",
      "\n",
      "At Random State 63, the training accuracy is :- 0.5280798940818434\n",
      "At Random State 63, the training accuracy is :- 0.5366638844047606\n",
      "\n",
      "\n",
      "At Random State 64, the training accuracy is :- 0.5231403247272564\n",
      "At Random State 64, the training accuracy is :- 0.5541877739406029\n",
      "\n",
      "\n",
      "At Random State 65, the training accuracy is :- 0.5300354783109675\n",
      "At Random State 65, the training accuracy is :- 0.5287905782053166\n",
      "\n",
      "\n",
      "At Random State 66, the training accuracy is :- 0.5293068182204457\n",
      "At Random State 66, the training accuracy is :- 0.5316752583945845\n",
      "\n",
      "\n",
      "At Random State 67, the training accuracy is :- 0.5291903637171562\n",
      "At Random State 67, the training accuracy is :- 0.5321788144021393\n",
      "\n",
      "\n",
      "At Random State 68, the training accuracy is :- 0.5328928096359793\n",
      "At Random State 68, the training accuracy is :- 0.5175754784671669\n",
      "\n",
      "\n",
      "At Random State 69, the training accuracy is :- 0.5297372880036941\n",
      "At Random State 69, the training accuracy is :- 0.5294858290608447\n",
      "\n",
      "\n",
      "At Random State 70, the training accuracy is :- 0.5297973990582527\n",
      "At Random State 70, the training accuracy is :- 0.5295121818364366\n",
      "\n",
      "\n",
      "At Random State 71, the training accuracy is :- 0.5303132032538267\n",
      "At Random State 71, the training accuracy is :- 0.5271411335126082\n",
      "\n",
      "\n",
      "At Random State 72, the training accuracy is :- 0.5286099589427118\n",
      "At Random State 72, the training accuracy is :- 0.5344646469120907\n",
      "\n",
      "\n",
      "At Random State 73, the training accuracy is :- 0.5271870242441238\n",
      "At Random State 73, the training accuracy is :- 0.5399119419259025\n",
      "\n",
      "\n",
      "At Random State 74, the training accuracy is :- 0.5299374947691551\n",
      "At Random State 74, the training accuracy is :- 0.528556938579686\n",
      "\n",
      "\n",
      "At Random State 75, the training accuracy is :- 0.5254437332483157\n",
      "At Random State 75, the training accuracy is :- 0.5468089113477009\n",
      "\n",
      "\n",
      "At Random State 76, the training accuracy is :- 0.5310533314895567\n",
      "At Random State 76, the training accuracy is :- 0.5247425960602751\n",
      "\n",
      "\n",
      "At Random State 77, the training accuracy is :- 0.5298951326277643\n",
      "At Random State 77, the training accuracy is :- 0.5292598809198634\n",
      "\n",
      "\n",
      "At Random State 78, the training accuracy is :- 0.5302819657461391\n",
      "At Random State 78, the training accuracy is :- 0.5275827531932569\n",
      "\n",
      "\n",
      "At Random State 79, the training accuracy is :- 0.5270978325946117\n",
      "At Random State 79, the training accuracy is :- 0.5400223683604796\n",
      "\n",
      "\n",
      "At Random State 80, the training accuracy is :- 0.5309883045127415\n",
      "At Random State 80, the training accuracy is :- 0.5250785071209936\n",
      "\n",
      "\n",
      "At Random State 81, the training accuracy is :- 0.5275241707180538\n",
      "At Random State 81, the training accuracy is :- 0.5381526750936552\n",
      "\n",
      "\n",
      "At Random State 82, the training accuracy is :- 0.5312968618396952\n",
      "At Random State 82, the training accuracy is :- 0.5233475751915235\n",
      "\n",
      "\n",
      "At Random State 83, the training accuracy is :- 0.5328508881686276\n",
      "At Random State 83, the training accuracy is :- 0.5172626094200323\n",
      "\n",
      "\n",
      "At Random State 84, the training accuracy is :- 0.5307683745761158\n",
      "At Random State 84, the training accuracy is :- 0.5254184784971283\n",
      "\n",
      "\n",
      "At Random State 85, the training accuracy is :- 0.5325985271066803\n",
      "At Random State 85, the training accuracy is :- 0.5181941525085928\n",
      "\n",
      "\n",
      "At Random State 86, the training accuracy is :- 0.5272273450062166\n",
      "At Random State 86, the training accuracy is :- 0.5392816211129229\n",
      "\n",
      "\n",
      "At Random State 87, the training accuracy is :- 0.5311417769946702\n",
      "At Random State 87, the training accuracy is :- 0.5243417563046576\n",
      "\n",
      "\n",
      "At Random State 88, the training accuracy is :- 0.5313785881244437\n",
      "At Random State 88, the training accuracy is :- 0.5234004699037214\n",
      "\n",
      "\n",
      "At Random State 89, the training accuracy is :- 0.5293004664989207\n",
      "At Random State 89, the training accuracy is :- 0.5316290782125465\n",
      "\n",
      "\n",
      "At Random State 90, the training accuracy is :- 0.5299444074731307\n",
      "At Random State 90, the training accuracy is :- 0.528991933676889\n",
      "\n",
      "\n",
      "At Random State 91, the training accuracy is :- 0.5325260535955887\n",
      "At Random State 91, the training accuracy is :- 0.5188201895070641\n",
      "\n",
      "\n",
      "At Random State 92, the training accuracy is :- 0.5281200019503729\n",
      "At Random State 92, the training accuracy is :- 0.536215146951619\n",
      "\n",
      "\n",
      "At Random State 93, the training accuracy is :- 0.5325446994583822\n",
      "At Random State 93, the training accuracy is :- 0.5185191654428256\n",
      "\n",
      "\n",
      "At Random State 94, the training accuracy is :- 0.5293235475813782\n",
      "At Random State 94, the training accuracy is :- 0.5311580693083955\n",
      "\n",
      "\n",
      "At Random State 95, the training accuracy is :- 0.5304608719376267\n",
      "At Random State 95, the training accuracy is :- 0.526809012517998\n",
      "\n",
      "\n",
      "At Random State 96, the training accuracy is :- 0.5290809596915276\n",
      "At Random State 96, the training accuracy is :- 0.5321296979240673\n",
      "\n",
      "\n",
      "At Random State 97, the training accuracy is :- 0.5321547310277996\n",
      "At Random State 97, the training accuracy is :- 0.5197503687299327\n",
      "\n",
      "\n",
      "At Random State 98, the training accuracy is :- 0.5292752716082748\n",
      "At Random State 98, the training accuracy is :- 0.531618795611174\n",
      "\n",
      "\n",
      "At Random State 99, the training accuracy is :- 0.5274637930567825\n",
      "At Random State 99, the training accuracy is :- 0.5385007094481598\n",
      "\n",
      "\n"
     ]
    }
   ],
   "source": [
    "for i in range(0,100):\n",
    "        x_train,x_test,y_train,y_test=train_test_split(x_new,y_new,test_size=.20,random_state=i)\n",
    "        lr.fit(x_train,y_train) # Fitting the data will train the model\n",
    "        pred_train=lr.predict(x_train) # Predicting the data # Predicted traget variable\n",
    "        pred_test=lr.predict(x_test)\n",
    "        print(f'At Random State {i}, the training accuracy is :- {r2_score(y_train,pred_train)}')\n",
    "        print(f'At Random State {i}, the training accuracy is :- {r2_score(y_test,pred_test)}')\n",
    "        print(\"\\n\")"
   ]
  },
  {
   "cell_type": "code",
   "execution_count": 34,
   "id": "bc1b9621",
   "metadata": {},
   "outputs": [
    {
     "name": "stdout",
     "output_type": "stream",
     "text": [
      "At cross fold 2 the cv score is  -18.704946232094205 and accuracy score for training is 0.5274637930567825 and accuracy score for testing is 0.5385007094481598\n",
      "\n",
      "\n",
      "At cross fold 3 the cv score is  0.1871966527073636 and accuracy score for training is 0.5274637930567825 and accuracy score for testing is 0.5385007094481598\n",
      "\n",
      "\n",
      "At cross fold 4 the cv score is  0.13258520172610336 and accuracy score for training is 0.5274637930567825 and accuracy score for testing is 0.5385007094481598\n",
      "\n",
      "\n",
      "At cross fold 5 the cv score is  0.2142179999954561 and accuracy score for training is 0.5274637930567825 and accuracy score for testing is 0.5385007094481598\n",
      "\n",
      "\n",
      "At cross fold 6 the cv score is  0.15259686041857973 and accuracy score for training is 0.5274637930567825 and accuracy score for testing is 0.5385007094481598\n",
      "\n",
      "\n",
      "At cross fold 7 the cv score is  0.17571646833744442 and accuracy score for training is 0.5274637930567825 and accuracy score for testing is 0.5385007094481598\n",
      "\n",
      "\n",
      "At cross fold 8 the cv score is  0.15432426474931898 and accuracy score for training is 0.5274637930567825 and accuracy score for testing is 0.5385007094481598\n",
      "\n",
      "\n",
      "At cross fold 9 the cv score is  0.18157176940645134 and accuracy score for training is 0.5274637930567825 and accuracy score for testing is 0.5385007094481598\n",
      "\n",
      "\n"
     ]
    }
   ],
   "source": [
    "# Cross Validation\n",
    "Train_accuracy = r2_score(y_train,pred_train)\n",
    "Test_accuracy = r2_score(y_test,pred_test)\n",
    "\n",
    "from sklearn.model_selection import cross_val_score\n",
    "for j in range(2,10):\n",
    "    cv_score=cross_val_score(lr,x_new,y_new,cv=j)\n",
    "    cv_mean=cv_score.mean()\n",
    "    print(f'At cross fold {j} the cv score is  {cv_mean} and accuracy score for training is {Train_accuracy} and accuracy score for testing is {Test_accuracy}')\n",
    "    print('\\n')"
   ]
  },
  {
   "cell_type": "code",
   "execution_count": 35,
   "id": "8a094567",
   "metadata": {},
   "outputs": [
    {
     "data": {
      "image/png": "[encoded data removed]",
      "text/plain": [
       "<Figure size 576x432 with 1 Axes>"
      ]
     },
     "metadata": {
      "needs_background": "light"
     },
     "output_type": "display_data"
    }
   ],
   "source": [
    "import matplotlib.pyplot as plt\n",
    "plt.figure(figsize=(8,6))\n",
    "plt.scatter(x=y_test,y=pred_test,color='green')\n",
    "plt.plot(y_test,y_test,color='b')\n",
    "plt.xlabel('Average price', fontsize=14)\n",
    "plt.ylabel('Predicted price', fontsize=14)\n",
    "plt.title('Linear Regression', fontsize=18)\n",
    "plt.show()"
   ]
  },
  {
   "cell_type": "code",
   "execution_count": 36,
   "id": "09bd4dcf",
   "metadata": {},
   "outputs": [
    {
     "name": "stdout",
     "output_type": "stream",
     "text": [
      "{'alpha': 0.0001, 'random_state': 0}\n"
     ]
    }
   ],
   "source": [
    "# Regularization\n",
    "from sklearn.model_selection import GridSearchCV\n",
    "from sklearn.model_selection import cross_val_score\n",
    "from sklearn.linear_model import Lasso\n",
    "parameters={'alpha':[.0001,.001,.01,.1,1,10],'random_state':list(range(0,20))}\n",
    "ls=Lasso()\n",
    "clf=GridSearchCV(ls,parameters)\n",
    "clf.fit(x_train,y_train)\n",
    "print(clf.best_params_)"
   ]
  },
  {
   "cell_type": "code",
   "execution_count": 37,
   "id": "5b2a7b88",
   "metadata": {},
   "outputs": [
    {
     "data": {
      "text/plain": [
       "0.5384332336103175"
      ]
     },
     "execution_count": 37,
     "metadata": {},
     "output_type": "execute_result"
    }
   ],
   "source": [
    "ls=Lasso(alpha=0.0001,random_state=0)\n",
    "ls.fit(x_train,y_train)\n",
    "ls.score(x_train,y_train)\n",
    "pred_ls=ls.predict(x_test)\n",
    "lss=r2_score(y_test,pred_ls)\n",
    "lss"
   ]
  },
  {
   "cell_type": "code",
   "execution_count": 38,
   "id": "10dbedbe",
   "metadata": {},
   "outputs": [
    {
     "data": {
      "text/plain": [
       "21.391304587650144"
      ]
     },
     "execution_count": 38,
     "metadata": {},
     "output_type": "execute_result"
    }
   ],
   "source": [
    "cv_score=cross_val_score(ls,x_new,y_new,cv=5)\n",
    "cv_mean=cv_score.mean()\n",
    "cv_mean*100"
   ]
  },
  {
   "cell_type": "code",
   "execution_count": 39,
   "id": "541cd569",
   "metadata": {},
   "outputs": [
    {
     "data": {
      "text/plain": [
       "0.4888331989165008"
      ]
     },
     "execution_count": 39,
     "metadata": {},
     "output_type": "execute_result"
    }
   ],
   "source": [
    "# Ensemble Technique\n",
    "from sklearn.ensemble import AdaBoostRegressor\n",
    "AD = AdaBoostRegressor()\n",
    "AD.fit(x_train,y_train)\n",
    "AD.score(x_test,y_test)"
   ]
  },
  {
   "cell_type": "code",
   "execution_count": 40,
   "id": "47e35153",
   "metadata": {},
   "outputs": [
    {
     "data": {
      "text/html": [
       "<div>\n",
       "<style scoped>\n",
       "    .dataframe tbody tr th:only-of-type {\n",
       "        vertical-align: middle;\n",
       "    }\n",
       "\n",
       "    .dataframe tbody tr th {\n",
       "        vertical-align: top;\n",
       "    }\n",
       "\n",
       "    .dataframe thead th {\n",
       "        text-align: right;\n",
       "    }\n",
       "</style>\n",
       "<table border=\"1\" class=\"dataframe\">\n",
       "  <thead>\n",
       "    <tr style=\"text-align: right;\">\n",
       "      <th></th>\n",
       "      <th>original</th>\n",
       "      <th>predicted</th>\n",
       "    </tr>\n",
       "  </thead>\n",
       "  <tbody>\n",
       "    <tr>\n",
       "      <th>0</th>\n",
       "      <td>2.13</td>\n",
       "      <td>2.041574</td>\n",
       "    </tr>\n",
       "    <tr>\n",
       "      <th>1</th>\n",
       "      <td>1.32</td>\n",
       "      <td>1.262892</td>\n",
       "    </tr>\n",
       "    <tr>\n",
       "      <th>2</th>\n",
       "      <td>1.10</td>\n",
       "      <td>1.033631</td>\n",
       "    </tr>\n",
       "    <tr>\n",
       "      <th>3</th>\n",
       "      <td>1.82</td>\n",
       "      <td>1.638285</td>\n",
       "    </tr>\n",
       "    <tr>\n",
       "      <th>4</th>\n",
       "      <td>1.83</td>\n",
       "      <td>1.784216</td>\n",
       "    </tr>\n",
       "    <tr>\n",
       "      <th>...</th>\n",
       "      <td>...</td>\n",
       "      <td>...</td>\n",
       "    </tr>\n",
       "    <tr>\n",
       "      <th>3550</th>\n",
       "      <td>2.27</td>\n",
       "      <td>1.741369</td>\n",
       "    </tr>\n",
       "    <tr>\n",
       "      <th>3551</th>\n",
       "      <td>1.48</td>\n",
       "      <td>1.113238</td>\n",
       "    </tr>\n",
       "    <tr>\n",
       "      <th>3552</th>\n",
       "      <td>2.06</td>\n",
       "      <td>1.619943</td>\n",
       "    </tr>\n",
       "    <tr>\n",
       "      <th>3553</th>\n",
       "      <td>0.53</td>\n",
       "      <td>0.934631</td>\n",
       "    </tr>\n",
       "    <tr>\n",
       "      <th>3554</th>\n",
       "      <td>1.10</td>\n",
       "      <td>1.219810</td>\n",
       "    </tr>\n",
       "  </tbody>\n",
       "</table>\n",
       "<p>3555 rows × 2 columns</p>\n",
       "</div>"
      ],
      "text/plain": [
       "      original  predicted\n",
       "0         2.13   2.041574\n",
       "1         1.32   1.262892\n",
       "2         1.10   1.033631\n",
       "3         1.82   1.638285\n",
       "4         1.83   1.784216\n",
       "...        ...        ...\n",
       "3550      2.27   1.741369\n",
       "3551      1.48   1.113238\n",
       "3552      2.06   1.619943\n",
       "3553      0.53   0.934631\n",
       "3554      1.10   1.219810\n",
       "\n",
       "[3555 rows x 2 columns]"
      ]
     },
     "execution_count": 40,
     "metadata": {},
     "output_type": "execute_result"
    }
   ],
   "source": [
    "# Conclusion:\n",
    "Data=np.array(y_test)\n",
    "predicted=np.array(lr.predict(x_test))\n",
    "df_1=pd.DataFrame({'original':Data,'predicted':predicted},index=range(len(Data)))\n",
    "df_1"
   ]
  },
  {
   "cell_type": "markdown",
   "id": "dc612dfd",
   "metadata": {},
   "source": [
    "----------------------------------------------------------------------------------------------------------------------"
   ]
  },
  {
   "cell_type": "markdown",
   "id": "13df42d5",
   "metadata": {},
   "source": [
    "- Region Prediction"
   ]
  },
  {
   "cell_type": "code",
   "execution_count": 58,
   "id": "0b084522",
   "metadata": {},
   "outputs": [],
   "source": [
    "x=df.drop('region',axis=1)\n",
    "y=df['region']"
   ]
  },
  {
   "cell_type": "code",
   "execution_count": 59,
   "id": "adc10865",
   "metadata": {},
   "outputs": [
    {
     "data": {
      "text/plain": [
       "type             0.000329\n",
       "year             0.215339\n",
       "AveragePrice     0.580303\n",
       "4046             8.648220\n",
       "4225             8.942466\n",
       "Total Volume     9.007687\n",
       "Small Bags       9.540660\n",
       "Total Bags       9.756072\n",
       "Large Bags       9.796455\n",
       "4770            10.159396\n",
       "XLarge Bags     13.139751\n",
       "dtype: float64"
      ]
     },
     "execution_count": 59,
     "metadata": {},
     "output_type": "execute_result"
    }
   ],
   "source": [
    "x.skew().sort_values()"
   ]
  },
  {
   "cell_type": "code",
   "execution_count": 60,
   "id": "f7851513",
   "metadata": {},
   "outputs": [],
   "source": [
    "# Remove the Skweness of the data\n",
    "from sklearn.preprocessing import power_transform\n",
    "x_new=power_transform(x)\n",
    "x=pd.DataFrame(x_new,columns=x.columns)"
   ]
  },
  {
   "cell_type": "code",
   "execution_count": 61,
   "id": "58877ee3",
   "metadata": {
    "scrolled": true
   },
   "outputs": [
    {
     "data": {
      "text/plain": [
       "XLarge Bags     0.793520\n",
       "year            0.213156\n",
       "4770            0.032184\n",
       "Total Volume    0.011171\n",
       "Small Bags      0.007058\n",
       "AveragePrice    0.005596\n",
       "type            0.000329\n",
       "Total Bags     -0.001626\n",
       "4225           -0.017740\n",
       "4046           -0.022679\n",
       "Large Bags     -0.073809\n",
       "dtype: float64"
      ]
     },
     "execution_count": 61,
     "metadata": {},
     "output_type": "execute_result"
    }
   ],
   "source": [
    "x.skew().sort_values(ascending=False) # For descending "
   ]
  },
  {
   "cell_type": "code",
   "execution_count": 62,
   "id": "b319dcc2",
   "metadata": {},
   "outputs": [
    {
     "data": {
      "text/plain": [
       "True"
      ]
     },
     "execution_count": 62,
     "metadata": {},
     "output_type": "execute_result"
    }
   ],
   "source": [
    "sk=x.skew()\n",
    "sk[np.abs(sk)>0.25].all()"
   ]
  },
  {
   "cell_type": "code",
   "execution_count": 63,
   "id": "a004ab63",
   "metadata": {},
   "outputs": [
    {
     "data": {
      "image/png": "[encoded data removed]",
      "text/plain": [
       "<Figure size 1440x576 with 1 Axes>"
      ]
     },
     "metadata": {
      "needs_background": "light"
     },
     "output_type": "display_data"
    }
   ],
   "source": [
    "# Checking Outliers\n",
    "x.boxplot(figsize=[20,8])\n",
    "plt.subplots_adjust(bottom=0.25)\n",
    "plt.show()"
   ]
  },
  {
   "cell_type": "code",
   "execution_count": 64,
   "id": "1e397392",
   "metadata": {},
   "outputs": [
    {
     "data": {
      "text/plain": [
       "(18249, 11)"
      ]
     },
     "execution_count": 64,
     "metadata": {},
     "output_type": "execute_result"
    }
   ],
   "source": [
    "from scipy.stats import zscore\n",
    "z=np.abs(zscore(x))\n",
    "z.shape"
   ]
  },
  {
   "cell_type": "code",
   "execution_count": 65,
   "id": "ccff1cbc",
   "metadata": {},
   "outputs": [
    {
     "name": "stdout",
     "output_type": "stream",
     "text": [
      "(array([ 1716,  1717,  1719,  1732,  1741,  1743,  1744,  1745,  1746,\n",
      "        1747,  1751,  1752,  1754,  1755,  1763,  2652,  2652,  2652,\n",
      "        2653,  2653,  2654,  2654,  2654,  2655,  2655,  2655,  2656,\n",
      "        2657,  2657,  2658,  2658,  2658,  2659,  2659,  2660,  2661,\n",
      "        2662,  2663,  2663,  2664,  2665,  2666,  2667,  2667,  2668,\n",
      "        2668,  2669,  2669,  2670,  2670,  2671,  2671,  2672,  2672,\n",
      "        2673,  2673,  2674,  2674,  2675,  2675,  2676,  2676,  2677,\n",
      "        2677,  2677,  2678,  2678,  2678,  2679,  2679,  2679,  2680,\n",
      "        2680,  2680,  2680,  2681,  2681,  2681,  2681,  2682,  2682,\n",
      "        2683,  2683,  2683,  2684,  2684,  2685,  2685,  2685,  2686,\n",
      "        2686,  2686,  2687,  2687,  2688,  2688,  2689,  2689,  2690,\n",
      "        2690,  2691,  2691,  2692,  2692,  2693,  2693,  2694,  2694,\n",
      "        2695,  2695,  2696,  2696,  2697,  2697,  2698,  2698,  2699,\n",
      "        2699,  2699,  2699,  2700,  2701,  2702,  2703,  2996,  3894,\n",
      "        3998,  4246,  4258,  4466,  4525,  4542,  4554,  4556,  4557,\n",
      "        4559,  4561,  4563,  4564,  4566,  4567,  4570,  5454,  5460,\n",
      "        5460,  5460,  5461,  5461,  5461,  5462,  5462,  5462,  5462,\n",
      "        5463,  5463,  5463,  5463,  5464,  5464,  5465,  5465,  5466,\n",
      "        5466,  5467,  5467,  5468,  5468,  5469,  5469,  5470,  5470,\n",
      "        5470,  5470,  5471,  5471,  5471,  5472,  5472,  5472,  5472,\n",
      "        5473,  5473,  5473,  5473,  5474,  5474,  5474,  5475,  5475,\n",
      "        5475,  5476,  5476,  5476,  5477,  5477,  5477,  5478,  5478,\n",
      "        5478,  5479,  5479,  5479,  5480,  5480,  5480,  5481,  5481,\n",
      "        5481,  5482,  5482,  5482,  5483,  5483,  5483,  5484,  5484,\n",
      "        5484,  5485,  5485,  5485,  5486,  5486,  5486,  5487,  5487,\n",
      "        5487,  5488,  5488,  5488,  5489,  5489,  5489,  5490,  5490,\n",
      "        5490,  5490,  5491,  5491,  5491,  5491,  5492,  5492,  5492,\n",
      "        5492,  5493,  5493,  5493,  5493,  5493,  5494,  5494,  5494,\n",
      "        5494,  5494,  5495,  5495,  5495,  5495,  5496,  5496,  5496,\n",
      "        5496,  5497,  5497,  5497,  5497,  5498,  5498,  5498,  5499,\n",
      "        5499,  5499,  5500,  5500,  5500,  5501,  5501,  5501,  5501,\n",
      "        5502,  5502,  5502,  5503,  5503,  5503,  5503,  5504,  5504,\n",
      "        5504,  5505,  5505,  5505,  5506,  5506,  5506,  5506,  5506,\n",
      "        5506,  5507,  5507,  5507,  5508,  5508,  5508,  5508,  5509,\n",
      "        5509,  5509,  5510,  5510,  5510,  5510,  5511,  5511,  5511,\n",
      "        6614,  6616,  6617,  6620,  6621,  6622,  6776,  6829,  7405,\n",
      "        7411,  7412,  7413,  7414,  8319,  8319,  8319,  8319,  8320,\n",
      "        8320,  8320,  8321,  8321,  8321,  8322,  8322,  8322,  8322,\n",
      "        8323,  8323,  8323,  8323,  8324,  8324,  8325,  8325,  8325,\n",
      "        8326,  8326,  8326,  8326,  8327,  8327,  8327,  8327,  8328,\n",
      "        8328,  8328,  8328,  8329,  8329,  8330,  8330,  8331,  8331,\n",
      "        8332,  8332,  8333,  8333,  8334,  8334,  8335,  8335,  8336,\n",
      "        8336,  8337,  8337,  8338,  8338,  8338,  8338,  8339,  8339,\n",
      "        8339,  8339,  8340,  8340,  8340,  8341,  8341,  8341,  8342,\n",
      "        8342,  8342,  8342,  8343,  8343,  8343,  8343,  8344,  8344,\n",
      "        8344,  8344,  8345,  8345,  8345,  8345,  8346,  8346,  8346,\n",
      "        8346,  8347,  8347,  8347,  8347,  8348,  8348,  8348,  8348,\n",
      "        8349,  8349,  8349,  8349,  8350,  8350,  8350,  8350,  8351,\n",
      "        8351,  8351,  8351,  8352,  8352,  8352,  8352,  8353,  8353,\n",
      "        8353,  8353,  8353,  8353,  8354,  8354,  8354,  8354,  8355,\n",
      "        8355,  8355,  8355,  8356,  8356,  8356,  8356,  8357,  8357,\n",
      "        8357,  8358,  8358,  8358,  8359,  8359,  8359,  8360,  8360,\n",
      "        8360,  8361,  8361,  8361,  8362,  8362,  8362,  8363,  8363,\n",
      "        8363,  8364,  8364,  8364,  8364,  8365,  8365,  8365,  8365,\n",
      "        8366,  8366,  8366,  8366,  8366,  8366,  8367,  8367,  8367,\n",
      "        8367,  8368,  8368,  8368,  8368,  8369,  8369,  8369,  8369,\n",
      "        8370,  8370,  8370,  8371,  8371,  8371,  8371,  8472,  8694,\n",
      "        8700,  8701,  8876,  9090,  9090,  9090,  9090,  9090,  9091,\n",
      "        9091,  9091,  9091,  9092,  9092,  9092,  9092,  9093,  9093,\n",
      "        9093,  9093,  9094,  9094,  9094,  9094,  9095,  9095,  9095,\n",
      "        9095,  9096,  9096,  9096,  9096,  9096,  9097,  9097,  9097,\n",
      "        9097,  9097,  9097,  9098,  9098,  9098,  9098,  9099,  9099,\n",
      "        9099,  9099,  9099,  9100,  9100,  9100,  9100,  9101,  9101,\n",
      "        9101,  9101,  9109,  9189,  9190,  9191,  9192,  9192,  9203,\n",
      "        9204,  9205,  9206,  9211,  9212,  9212,  9213,  9218,  9219,\n",
      "        9220,  9221,  9293,  9294,  9546,  9668,  9894, 10033, 10222,\n",
      "       10223, 10232, 10234, 10268, 10324, 10325, 10326, 10331, 10332,\n",
      "       10333, 10334, 10334, 10381, 10420, 10531, 10532, 10533, 10534,\n",
      "       10535, 10536, 10562, 10563, 10566, 11011, 11012, 11014, 11015,\n",
      "       11016, 11017, 11018, 11019, 11020, 11021, 11022, 11023, 11024,\n",
      "       11024, 11025, 11026, 11027, 11028, 11029, 11030, 11031, 11032,\n",
      "       11033, 11034, 11035, 11036, 11039, 11040, 11041, 11314, 11316,\n",
      "       11318, 11319, 11320, 11320, 11320, 11321, 11321, 11322, 11323,\n",
      "       11324, 11324, 11325, 11326, 11327, 11327, 11329, 11330, 11331,\n",
      "       11331, 11332, 11332, 11333, 11333, 11334, 11335, 11336, 11337,\n",
      "       11338, 11339, 11340, 11341, 11342, 11345, 11346, 11347, 11347,\n",
      "       11348, 11348, 11349, 11350, 11351, 11352, 11353, 11354, 11379,\n",
      "       11380, 11381, 11382, 11383, 11384, 11385, 11386, 11387, 11387,\n",
      "       11388, 11388, 11389, 11390, 11391, 11392, 11393, 11394, 11395,\n",
      "       11397, 11398, 11399, 11400, 11401, 11402, 11403, 11404, 11405,\n",
      "       11406, 11571, 11572, 11573, 11574, 11578, 11579, 11583, 11584,\n",
      "       11584, 11585, 11586, 11587, 11588, 11589, 11590, 11591, 11592,\n",
      "       11592, 11593, 11594, 11594, 11595, 11595, 11596, 11596, 11597,\n",
      "       11597, 11598, 11598, 11599, 11600, 11601, 11602, 11603, 11604,\n",
      "       11605, 11606, 11609, 11610, 11611, 11611, 11612, 11613, 11614,\n",
      "       11614, 11662, 11662, 11663, 11734, 11735, 11738, 11739, 11740,\n",
      "       11742, 11747, 11748, 11749, 11985, 11993, 12097, 12131, 12132,\n",
      "       12132, 12564, 12565, 12566, 12982, 13033, 13035, 13037, 13038,\n",
      "       13178, 13179, 13228, 13338, 13341, 13342, 13343, 13345, 13346,\n",
      "       13349, 13350, 13351, 13354, 13356, 13357, 13359, 13360, 13361,\n",
      "       13363, 13365, 13366, 13367, 13369, 13381, 13382, 13383, 13385,\n",
      "       13847, 13853, 14020, 14073, 14121, 14122, 14123, 14124, 14125,\n",
      "       14126, 14160, 14162, 14385, 14385, 14385, 14386, 14401, 14404,\n",
      "       14405, 14406, 14407, 14408, 14409, 14410, 14411, 14412, 14413,\n",
      "       14414, 14416, 14419, 14420, 14421, 14424, 14425, 14426, 14427,\n",
      "       14428, 14463, 14465, 14466, 14699, 14701, 14702, 14807, 14843,\n",
      "       14844, 14845, 14912, 14913, 14918, 15125, 15127, 15128, 15129,\n",
      "       15130, 15261, 15262, 15263, 15265, 15314, 15473, 15474, 15475,\n",
      "       15814, 16003, 16005, 16050, 16055, 16162, 16202, 16203, 16205,\n",
      "       16206, 16209, 16210, 16211, 16212, 16213, 16214, 16215, 16217,\n",
      "       16218, 16220, 16223, 16395, 16421, 16570, 16572, 16661, 16662,\n",
      "       16663, 16664, 16665, 16666, 16667, 16714, 16715, 16717, 16718,\n",
      "       16719, 16720, 16737, 16985, 16986, 16995, 16996, 17007, 17008,\n",
      "       17009, 17010, 17032, 17033, 17034, 17035, 17036, 17037, 17038,\n",
      "       17039, 17244, 17245, 17246, 17247, 17248, 17249, 17250, 17251,\n",
      "       17302, 17303, 17428], dtype=int64), array([0, 0, 0, 0, 0, 0, 0, 0, 0, 0, 0, 0, 0, 0, 0, 3, 5, 6, 3, 6, 3, 5,\n",
      "       6, 3, 5, 6, 3, 3, 6, 3, 5, 6, 3, 6, 3, 3, 3, 3, 6, 3, 3, 3, 3, 6,\n",
      "       3, 6, 3, 6, 3, 6, 3, 6, 3, 6, 3, 6, 3, 6, 3, 6, 3, 6, 3, 5, 6, 3,\n",
      "       5, 6, 3, 5, 6, 2, 3, 5, 6, 2, 3, 5, 6, 3, 6, 2, 3, 6, 3, 6, 2, 3,\n",
      "       6, 2, 3, 6, 3, 6, 3, 6, 3, 6, 3, 6, 3, 6, 3, 6, 3, 6, 3, 6, 3, 6,\n",
      "       3, 6, 3, 6, 3, 6, 1, 2, 3, 6, 3, 3, 3, 3, 0, 0, 0, 0, 0, 0, 0, 0,\n",
      "       0, 0, 0, 0, 0, 0, 0, 0, 0, 0, 0, 3, 5, 6, 3, 5, 6, 3, 5, 6, 7, 3,\n",
      "       5, 6, 7, 5, 6, 5, 6, 5, 6, 5, 6, 5, 6, 5, 6, 3, 5, 6, 7, 3, 5, 6,\n",
      "       3, 5, 6, 7, 3, 5, 6, 7, 3, 5, 6, 3, 5, 6, 3, 5, 6, 3, 5, 6, 3, 5,\n",
      "       6, 3, 5, 6, 3, 5, 6, 3, 5, 6, 3, 5, 6, 3, 5, 6, 3, 5, 6, 3, 5, 6,\n",
      "       3, 5, 6, 3, 5, 6, 3, 5, 6, 3, 5, 6, 3, 5, 6, 7, 3, 5, 6, 7, 3, 5,\n",
      "       6, 7, 1, 3, 5, 6, 7, 1, 3, 5, 6, 7, 3, 5, 6, 7, 3, 5, 6, 7, 3, 5,\n",
      "       6, 7, 3, 5, 6, 3, 5, 6, 3, 5, 6, 3, 5, 6, 7, 3, 5, 6, 3, 5, 6, 7,\n",
      "       3, 5, 6, 3, 5, 6, 1, 2, 3, 5, 6, 7, 3, 5, 6, 3, 5, 6, 7, 3, 5, 6,\n",
      "       3, 5, 6, 7, 3, 5, 6, 0, 0, 0, 0, 0, 0, 0, 0, 0, 0, 0, 0, 0, 3, 5,\n",
      "       6, 7, 3, 5, 6, 3, 5, 6, 3, 5, 6, 7, 3, 5, 6, 7, 5, 6, 5, 6, 7, 3,\n",
      "       5, 6, 7, 3, 5, 6, 7, 3, 5, 6, 7, 5, 6, 5, 6, 5, 6, 5, 6, 5, 6, 5,\n",
      "       6, 5, 6, 5, 6, 5, 6, 3, 5, 6, 7, 3, 5, 6, 7, 3, 5, 6, 3, 5, 6, 3,\n",
      "       5, 6, 7, 3, 5, 6, 7, 3, 5, 6, 7, 3, 5, 6, 7, 3, 5, 6, 7, 3, 5, 6,\n",
      "       7, 3, 5, 6, 7, 3, 5, 6, 7, 3, 5, 6, 7, 3, 5, 6, 7, 3, 5, 6, 7, 1,\n",
      "       2, 3, 5, 6, 7, 3, 5, 6, 7, 3, 5, 6, 7, 3, 5, 6, 7, 3, 5, 6, 3, 5,\n",
      "       6, 3, 5, 6, 3, 5, 6, 3, 5, 6, 3, 5, 6, 3, 5, 6, 3, 5, 6, 7, 3, 5,\n",
      "       6, 7, 1, 2, 3, 5, 6, 7, 3, 5, 6, 7, 3, 5, 6, 7, 3, 5, 6, 7, 3, 5,\n",
      "       6, 3, 5, 6, 7, 0, 0, 0, 0, 0, 1, 3, 5, 6, 7, 3, 5, 6, 7, 3, 5, 6,\n",
      "       7, 3, 5, 6, 7, 3, 5, 6, 7, 3, 5, 6, 7, 1, 3, 5, 6, 7, 1, 2, 3, 5,\n",
      "       6, 7, 3, 5, 6, 7, 1, 3, 5, 6, 7, 3, 5, 6, 7, 3, 5, 6, 7, 7, 6, 6,\n",
      "       6, 5, 6, 6, 6, 6, 6, 6, 5, 6, 6, 6, 6, 6, 6, 6, 6, 5, 6, 5, 5, 5,\n",
      "       5, 5, 6, 5, 6, 6, 6, 6, 6, 6, 5, 6, 1, 3, 3, 3, 3, 3, 3, 3, 3, 3,\n",
      "       3, 6, 6, 6, 6, 6, 6, 6, 6, 6, 6, 6, 6, 5, 6, 6, 6, 6, 6, 6, 6, 6,\n",
      "       6, 6, 6, 6, 6, 6, 6, 6, 5, 5, 5, 5, 0, 5, 6, 5, 6, 5, 0, 0, 5, 5,\n",
      "       5, 0, 5, 5, 5, 0, 5, 0, 5, 5, 6, 5, 5, 5, 5, 5, 5, 5, 5, 5, 5, 5,\n",
      "       5, 6, 5, 6, 5, 5, 5, 5, 5, 5, 6, 6, 6, 6, 6, 6, 6, 6, 5, 6, 5, 6,\n",
      "       6, 6, 6, 6, 6, 6, 6, 6, 6, 6, 6, 6, 6, 6, 6, 6, 6, 6, 6, 6, 6, 6,\n",
      "       6, 6, 5, 6, 6, 6, 6, 6, 6, 6, 6, 5, 6, 6, 5, 6, 5, 6, 5, 6, 5, 6,\n",
      "       5, 6, 6, 6, 6, 6, 6, 6, 6, 6, 6, 6, 5, 6, 6, 6, 5, 6, 5, 6, 5, 3,\n",
      "       3, 3, 3, 3, 3, 3, 3, 3, 6, 6, 6, 6, 5, 6, 6, 6, 6, 6, 0, 0, 0, 0,\n",
      "       6, 6, 3, 3, 3, 3, 3, 3, 3, 3, 3, 3, 3, 3, 3, 3, 3, 3, 3, 3, 3, 3,\n",
      "       3, 3, 3, 3, 3, 6, 6, 0, 0, 0, 0, 0, 0, 0, 0, 5, 5, 0, 5, 6, 6, 6,\n",
      "       5, 6, 6, 6, 6, 6, 6, 6, 6, 6, 6, 6, 6, 6, 6, 6, 6, 6, 6, 6, 6, 6,\n",
      "       0, 0, 0, 0, 0, 6, 6, 6, 0, 0, 0, 0, 0, 0, 0, 0, 0, 0, 0, 0, 0, 0,\n",
      "       0, 0, 0, 0, 0, 0, 0, 0, 3, 3, 3, 3, 3, 3, 3, 3, 3, 3, 3, 3, 3, 3,\n",
      "       3, 0, 0, 3, 3, 0, 0, 0, 0, 0, 0, 0, 0, 0, 0, 0, 0, 0, 0, 0, 0, 0,\n",
      "       0, 0, 0, 0, 0, 0, 0, 0, 0, 0, 0, 0, 0, 0, 0, 0, 0, 0, 0, 0, 0, 0,\n",
      "       0, 0], dtype=int64))\n"
     ]
    }
   ],
   "source": [
    "threshold=2.6\n",
    "print(np.where(z>2.6))"
   ]
  },
  {
   "cell_type": "code",
   "execution_count": 66,
   "id": "1e9474cd",
   "metadata": {},
   "outputs": [
    {
     "name": "stdout",
     "output_type": "stream",
     "text": [
      "(18249, 11)\n",
      "(17678, 11)\n"
     ]
    }
   ],
   "source": [
    "x_new=x[(z<2.6).all(axis=1)]\n",
    "print(x.shape)\n",
    "print(x_new.shape)"
   ]
  },
  {
   "cell_type": "code",
   "execution_count": 67,
   "id": "15d33e2b",
   "metadata": {},
   "outputs": [
    {
     "name": "stdout",
     "output_type": "stream",
     "text": [
      "3.1289385719765463\n"
     ]
    }
   ],
   "source": [
    "# % data loss\n",
    "loss_percent=(18249-17678)/18249*100\n",
    "print(loss_percent)"
   ]
  },
  {
   "cell_type": "code",
   "execution_count": 68,
   "id": "aa58a9f2",
   "metadata": {},
   "outputs": [
    {
     "data": {
      "image/png": "[encoded data removed]",
      "text/plain": [
       "<Figure size 1440x1080 with 1 Axes>"
      ]
     },
     "metadata": {
      "needs_background": "light"
     },
     "output_type": "display_data"
    }
   ],
   "source": [
    "# Plot boxplot - To Check outliers \n",
    "x_new.boxplot(figsize=[20,15])\n",
    "plt.subplots_adjust(bottom=0.25)\n",
    "plt.show()"
   ]
  },
  {
   "cell_type": "code",
   "execution_count": 69,
   "id": "847a4bf2",
   "metadata": {},
   "outputs": [
    {
     "data": {
      "text/plain": [
       "(18249,)"
      ]
     },
     "execution_count": 69,
     "metadata": {},
     "output_type": "execute_result"
    }
   ],
   "source": [
    "from scipy.stats import zscore\n",
    "z1=np.abs(zscore(y))\n",
    "z1.shape"
   ]
  },
  {
   "cell_type": "code",
   "execution_count": 70,
   "id": "6cdb9476",
   "metadata": {},
   "outputs": [
    {
     "name": "stdout",
     "output_type": "stream",
     "text": [
      "(array([], dtype=int64),)\n"
     ]
    }
   ],
   "source": [
    "threshold=2.6\n",
    "print(np.where(z1>2.6))"
   ]
  },
  {
   "cell_type": "code",
   "execution_count": 71,
   "id": "4a663d84",
   "metadata": {},
   "outputs": [
    {
     "name": "stdout",
     "output_type": "stream",
     "text": [
      "(18249,)\n",
      "(17678,)\n"
     ]
    }
   ],
   "source": [
    "y_new=y[(z<2.6).all(axis=1)]\n",
    "print(y.shape)\n",
    "print(y_new.shape)"
   ]
  },
  {
   "cell_type": "code",
   "execution_count": 74,
   "id": "c1ffffef",
   "metadata": {},
   "outputs": [],
   "source": [
    "from sklearn.model_selection import train_test_split\n",
    "from sklearn.metrics import accuracy_score\n",
    "from sklearn.metrics import confusion_matrix,classification_report\n",
    "x_train,x_test,y_train,y_test=train_test_split(x_new,y_new,test_size=.10,random_state=200)"
   ]
  },
  {
   "cell_type": "code",
   "execution_count": 75,
   "id": "79173f51",
   "metadata": {},
   "outputs": [
    {
     "name": "stdout",
     "output_type": "stream",
     "text": [
      "Accuracy 54.07239819004525\n",
      "[[24  0  0 ...  0  0  0]\n",
      " [ 0 18  0 ...  0  0  0]\n",
      " [ 0  0 19 ...  0  0  0]\n",
      " ...\n",
      " [ 0  0  0 ... 16  0  0]\n",
      " [ 0  0  0 ...  0 34  0]\n",
      " [ 0  2  0 ...  0  0  5]]\n",
      "              precision    recall  f1-score   support\n",
      "\n",
      "           0       0.65      0.67      0.66        36\n",
      "           1       0.32      0.47      0.38        38\n",
      "           2       0.68      0.66      0.67        29\n",
      "           3       0.43      0.43      0.43        21\n",
      "           4       0.53      0.43      0.48        37\n",
      "           5       0.45      0.45      0.45        31\n",
      "           6       0.88      0.84      0.86        44\n",
      "           7       0.55      0.55      0.55        29\n",
      "           8       0.62      0.90      0.73        29\n",
      "           9       0.57      0.80      0.67        35\n",
      "          10       0.45      0.48      0.47        31\n",
      "          11       0.55      0.71      0.62        34\n",
      "          12       0.50      0.37      0.42        30\n",
      "          13       0.42      0.28      0.33        36\n",
      "          14       0.61      0.71      0.66        28\n",
      "          15       0.53      0.63      0.58        30\n",
      "          16       0.50      0.46      0.48        28\n",
      "          17       0.48      0.57      0.52        35\n",
      "          18       0.32      0.48      0.38        27\n",
      "          19       0.62      0.74      0.67        38\n",
      "          20       0.43      0.54      0.48        35\n",
      "          21       0.59      0.32      0.41        41\n",
      "          22       0.59      0.71      0.65        31\n",
      "          23       0.79      0.61      0.69        36\n",
      "          24       0.05      0.03      0.03        39\n",
      "          25       0.54      0.71      0.61        31\n",
      "          26       0.24      0.11      0.15        37\n",
      "          27       0.37      0.46      0.41        28\n",
      "          28       0.70      0.72      0.71        29\n",
      "          29       0.88      0.74      0.81        39\n",
      "          30       0.48      0.52      0.50        27\n",
      "          31       0.39      0.33      0.36        39\n",
      "          32       0.51      0.71      0.59        31\n",
      "          33       0.41      0.51      0.46        41\n",
      "          34       0.22      0.26      0.24        31\n",
      "          35       0.71      0.59      0.65        51\n",
      "          36       0.53      0.32      0.40        31\n",
      "          37       0.63      0.56      0.59        39\n",
      "          38       0.54      0.48      0.51        31\n",
      "          39       0.52      0.52      0.52        33\n",
      "          40       0.64      0.83      0.72        30\n",
      "          41       0.36      0.35      0.35        26\n",
      "          42       0.77      0.85      0.81        20\n",
      "          43       0.48      0.50      0.49        26\n",
      "          44       0.46      0.56      0.51        32\n",
      "          45       0.87      0.87      0.87        31\n",
      "          46       0.79      0.65      0.71        46\n",
      "          47       0.40      0.45      0.43        22\n",
      "          48       0.50      0.18      0.26        39\n",
      "          49       0.46      0.64      0.53        33\n",
      "          50       0.26      0.16      0.20        37\n",
      "          51       1.00      1.00      1.00        16\n",
      "          52       0.87      0.97      0.92        35\n",
      "          53       0.29      0.17      0.22        29\n",
      "\n",
      "    accuracy                           0.54      1768\n",
      "   macro avg       0.54      0.55      0.53      1768\n",
      "weighted avg       0.54      0.54      0.53      1768\n",
      "\n"
     ]
    }
   ],
   "source": [
    "from sklearn.linear_model import LogisticRegression\n",
    "LR=LogisticRegression()\n",
    "LR.fit(x_train,y_train)\n",
    "predlr=LR.predict(x_test)\n",
    "print(\"Accuracy\",accuracy_score(y_test,predlr)*100)\n",
    "print(confusion_matrix(y_test,predlr))\n",
    "print(classification_report(y_test,predlr))"
   ]
  },
  {
   "cell_type": "code",
   "execution_count": 76,
   "id": "0e004e90",
   "metadata": {},
   "outputs": [
    {
     "name": "stdout",
     "output_type": "stream",
     "text": [
      "Accuracy 80.48642533936652\n",
      "[[25  0  0 ...  0  0  0]\n",
      " [ 0 33  0 ...  0  0  0]\n",
      " [ 0  0 25 ...  0  0  0]\n",
      " ...\n",
      " [ 0  0  0 ... 16  0  0]\n",
      " [ 0  0  0 ...  0 34  0]\n",
      " [ 0  0  0 ...  0  0 20]]\n",
      "              precision    recall  f1-score   support\n",
      "\n",
      "           0       0.81      0.69      0.75        36\n",
      "           1       0.77      0.87      0.81        38\n",
      "           2       0.96      0.86      0.91        29\n",
      "           3       0.56      0.67      0.61        21\n",
      "           4       0.91      0.86      0.89        37\n",
      "           5       0.69      0.77      0.73        31\n",
      "           6       0.93      0.95      0.94        44\n",
      "           7       0.81      0.72      0.76        29\n",
      "           8       0.96      0.90      0.93        29\n",
      "           9       0.94      0.86      0.90        35\n",
      "          10       0.64      0.68      0.66        31\n",
      "          11       0.86      0.88      0.87        34\n",
      "          12       0.89      0.83      0.86        30\n",
      "          13       0.82      0.75      0.78        36\n",
      "          14       0.74      0.93      0.83        28\n",
      "          15       0.88      0.93      0.90        30\n",
      "          16       0.91      0.75      0.82        28\n",
      "          17       0.89      0.71      0.79        35\n",
      "          18       0.89      0.89      0.89        27\n",
      "          19       0.84      0.71      0.77        38\n",
      "          20       0.90      0.80      0.85        35\n",
      "          21       0.78      0.71      0.74        41\n",
      "          22       0.88      0.94      0.91        31\n",
      "          23       0.77      0.83      0.80        36\n",
      "          24       0.61      0.56      0.59        39\n",
      "          25       0.93      0.87      0.90        31\n",
      "          26       0.73      0.73      0.73        37\n",
      "          27       0.75      0.75      0.75        28\n",
      "          28       0.74      0.90      0.81        29\n",
      "          29       0.93      0.97      0.95        39\n",
      "          30       0.79      1.00      0.89        27\n",
      "          31       0.75      0.77      0.76        39\n",
      "          32       0.72      0.90      0.80        31\n",
      "          33       0.78      0.76      0.77        41\n",
      "          34       0.78      0.81      0.79        31\n",
      "          35       0.90      0.86      0.88        51\n",
      "          36       0.64      0.68      0.66        31\n",
      "          37       0.72      0.74      0.73        39\n",
      "          38       0.79      0.71      0.75        31\n",
      "          39       0.84      0.94      0.89        33\n",
      "          40       0.88      0.77      0.82        30\n",
      "          41       0.72      0.88      0.79        26\n",
      "          42       0.85      0.85      0.85        20\n",
      "          43       0.79      0.73      0.76        26\n",
      "          44       0.69      0.84      0.76        32\n",
      "          45       0.82      0.87      0.84        31\n",
      "          46       0.93      0.85      0.89        46\n",
      "          47       0.70      0.64      0.67        22\n",
      "          48       0.73      0.69      0.71        39\n",
      "          49       0.83      0.76      0.79        33\n",
      "          50       0.54      0.57      0.55        37\n",
      "          51       1.00      1.00      1.00        16\n",
      "          52       1.00      0.97      0.99        35\n",
      "          53       0.74      0.69      0.71        29\n",
      "\n",
      "    accuracy                           0.80      1768\n",
      "   macro avg       0.81      0.81      0.81      1768\n",
      "weighted avg       0.81      0.80      0.80      1768\n",
      "\n"
     ]
    }
   ],
   "source": [
    "# Decision Tree Classifier\n",
    "from sklearn.tree import DecisionTreeClassifier\n",
    "dt=DecisionTreeClassifier()\n",
    "dt.fit(x_train,y_train)\n",
    "preddt=dt.predict(x_test)\n",
    "print(\"Accuracy\",accuracy_score(y_test,preddt)*100)\n",
    "print(confusion_matrix(y_test,preddt))\n",
    "print(classification_report(y_test,preddt))"
   ]
  },
  {
   "cell_type": "code",
   "execution_count": 78,
   "id": "244779c0",
   "metadata": {},
   "outputs": [
    {
     "name": "stdout",
     "output_type": "stream",
     "text": [
      "Accuracy 90.55429864253394\n",
      "[[33  0  0 ...  0  0  0]\n",
      " [ 0 34  0 ...  0  0  0]\n",
      " [ 0  0 29 ...  0  0  0]\n",
      " ...\n",
      " [ 0  0  0 ... 16  0  0]\n",
      " [ 0  0  0 ...  0 35  0]\n",
      " [ 0  0  0 ...  0  0 22]]\n",
      "              precision    recall  f1-score   support\n",
      "\n",
      "           0       0.87      0.92      0.89        36\n",
      "           1       0.89      0.89      0.89        38\n",
      "           2       0.94      1.00      0.97        29\n",
      "           3       0.90      0.86      0.88        21\n",
      "           4       0.95      1.00      0.97        37\n",
      "           5       0.86      0.81      0.83        31\n",
      "           6       1.00      0.93      0.96        44\n",
      "           7       0.93      0.90      0.91        29\n",
      "           8       1.00      0.97      0.98        29\n",
      "           9       0.97      0.86      0.91        35\n",
      "          10       0.82      0.87      0.84        31\n",
      "          11       0.92      0.97      0.94        34\n",
      "          12       0.94      0.97      0.95        30\n",
      "          13       0.88      0.83      0.86        36\n",
      "          14       0.90      0.96      0.93        28\n",
      "          15       0.91      1.00      0.95        30\n",
      "          16       1.00      0.89      0.94        28\n",
      "          17       0.94      0.89      0.91        35\n",
      "          18       0.93      0.93      0.93        27\n",
      "          19       0.90      0.92      0.91        38\n",
      "          20       1.00      0.91      0.96        35\n",
      "          21       0.88      0.90      0.89        41\n",
      "          22       0.94      0.97      0.95        31\n",
      "          23       0.90      1.00      0.95        36\n",
      "          24       0.76      0.67      0.71        39\n",
      "          25       1.00      1.00      1.00        31\n",
      "          26       0.76      0.84      0.79        37\n",
      "          27       0.86      0.86      0.86        28\n",
      "          28       0.91      1.00      0.95        29\n",
      "          29       1.00      0.97      0.99        39\n",
      "          30       0.90      1.00      0.95        27\n",
      "          31       0.76      0.67      0.71        39\n",
      "          32       0.88      0.97      0.92        31\n",
      "          33       0.93      0.90      0.91        41\n",
      "          34       0.94      0.97      0.95        31\n",
      "          35       0.96      1.00      0.98        51\n",
      "          36       0.83      0.81      0.82        31\n",
      "          37       0.95      0.90      0.92        39\n",
      "          38       1.00      0.97      0.98        31\n",
      "          39       0.92      1.00      0.96        33\n",
      "          40       0.90      0.87      0.88        30\n",
      "          41       0.89      0.96      0.93        26\n",
      "          42       0.91      1.00      0.95        20\n",
      "          43       0.88      0.88      0.88        26\n",
      "          44       0.94      0.97      0.95        32\n",
      "          45       0.88      0.94      0.91        31\n",
      "          46       0.98      0.93      0.96        46\n",
      "          47       1.00      0.82      0.90        22\n",
      "          48       0.81      0.77      0.79        39\n",
      "          49       0.85      0.88      0.87        33\n",
      "          50       0.57      0.62      0.60        37\n",
      "          51       1.00      1.00      1.00        16\n",
      "          52       1.00      1.00      1.00        35\n",
      "          53       0.96      0.76      0.85        29\n",
      "\n",
      "    accuracy                           0.91      1768\n",
      "   macro avg       0.91      0.91      0.91      1768\n",
      "weighted avg       0.91      0.91      0.90      1768\n",
      "\n"
     ]
    }
   ],
   "source": [
    "# Random Forest Classifier\n",
    "from sklearn.ensemble import RandomForestClassifier\n",
    "rf=RandomForestClassifier()\n",
    "rf.fit(x_train,y_train)\n",
    "predrf=rf.predict(x_test)\n",
    "print(\"Accuracy\",accuracy_score(y_test,predrf)*100)\n",
    "print(confusion_matrix(y_test,predrf))\n",
    "print(classification_report(y_test,predrf))"
   ]
  },
  {
   "cell_type": "code",
   "execution_count": 79,
   "id": "8f1aba21",
   "metadata": {},
   "outputs": [
    {
     "name": "stdout",
     "output_type": "stream",
     "text": [
      "Accuracy 81.33484162895928\n",
      "[[31  0  0 ...  0  0  0]\n",
      " [ 0 28  0 ...  0  0  0]\n",
      " [ 0  0 29 ...  0  0  0]\n",
      " ...\n",
      " [ 0  0  0 ... 16  0  0]\n",
      " [ 0  0  0 ...  0 35  0]\n",
      " [ 0  0  2 ...  0  0 19]]\n",
      "              precision    recall  f1-score   support\n",
      "\n",
      "           0       0.72      0.86      0.78        36\n",
      "           1       0.50      0.74      0.60        38\n",
      "           2       0.94      1.00      0.97        29\n",
      "           3       0.76      0.90      0.83        21\n",
      "           4       0.89      0.89      0.89        37\n",
      "           5       0.74      0.81      0.77        31\n",
      "           6       1.00      0.95      0.98        44\n",
      "           7       0.86      0.83      0.84        29\n",
      "           8       0.94      1.00      0.97        29\n",
      "           9       0.90      0.77      0.83        35\n",
      "          10       0.82      0.74      0.78        31\n",
      "          11       0.79      0.88      0.83        34\n",
      "          12       0.88      1.00      0.94        30\n",
      "          13       0.82      0.75      0.78        36\n",
      "          14       0.72      0.93      0.81        28\n",
      "          15       0.86      1.00      0.92        30\n",
      "          16       0.96      0.86      0.91        28\n",
      "          17       1.00      0.94      0.97        35\n",
      "          18       0.72      0.85      0.78        27\n",
      "          19       0.81      0.79      0.80        38\n",
      "          20       0.97      0.80      0.88        35\n",
      "          21       0.64      0.51      0.57        41\n",
      "          22       1.00      1.00      1.00        31\n",
      "          23       0.89      0.67      0.76        36\n",
      "          24       0.63      0.49      0.55        39\n",
      "          25       1.00      0.90      0.95        31\n",
      "          26       0.71      0.68      0.69        37\n",
      "          27       0.86      0.43      0.57        28\n",
      "          28       0.97      1.00      0.98        29\n",
      "          29       0.97      1.00      0.99        39\n",
      "          30       0.85      0.85      0.85        27\n",
      "          31       0.53      0.51      0.52        39\n",
      "          32       0.82      0.90      0.86        31\n",
      "          33       0.74      0.63      0.68        41\n",
      "          34       0.58      0.81      0.68        31\n",
      "          35       0.93      0.98      0.95        51\n",
      "          36       0.86      0.77      0.81        31\n",
      "          37       0.83      0.74      0.78        39\n",
      "          38       0.68      0.87      0.76        31\n",
      "          39       0.74      0.88      0.81        33\n",
      "          40       0.76      0.93      0.84        30\n",
      "          41       0.77      0.88      0.82        26\n",
      "          42       0.95      1.00      0.98        20\n",
      "          43       1.00      0.77      0.87        26\n",
      "          44       0.80      0.88      0.84        32\n",
      "          45       0.90      0.90      0.90        31\n",
      "          46       0.93      0.87      0.90        46\n",
      "          47       0.84      0.73      0.78        22\n",
      "          48       0.68      0.64      0.66        39\n",
      "          49       0.80      0.85      0.82        33\n",
      "          50       0.43      0.32      0.37        37\n",
      "          51       1.00      1.00      1.00        16\n",
      "          52       1.00      1.00      1.00        35\n",
      "          53       0.83      0.66      0.73        29\n",
      "\n",
      "    accuracy                           0.81      1768\n",
      "   macro avg       0.82      0.82      0.82      1768\n",
      "weighted avg       0.82      0.81      0.81      1768\n",
      "\n"
     ]
    }
   ],
   "source": [
    "# SVC - Support Vector Classifier\n",
    "from sklearn.svm import SVC\n",
    "svc=SVC()\n",
    "svc.fit(x_train,y_train)\n",
    "ad_pred=svc.predict(x_test)\n",
    "print(\"Accuracy\",accuracy_score(y_test,ad_pred)*100)\n",
    "print(confusion_matrix(y_test,ad_pred))\n",
    "print(classification_report(y_test,ad_pred))"
   ]
  },
  {
   "cell_type": "code",
   "execution_count": 80,
   "id": "81a4422a",
   "metadata": {
    "scrolled": true
   },
   "outputs": [
    {
     "name": "stdout",
     "output_type": "stream",
     "text": [
      "Cross Validation Score Of Logistic Regression Model : 0.3943872202346285\n",
      "Cross Validation Score Of  Decision Tree Model : 0.555484905310182\n",
      "Cross Validation Score Of Random Forest Model : 0.6812319596536254\n",
      "Cross Validation Score Of SVC Model : 0.6219494454293522\n"
     ]
    }
   ],
   "source": [
    "# Cross Validation\n",
    "from sklearn.model_selection import cross_val_score\n",
    "scr=cross_val_score(LR,x_new,y_new,cv=5)\n",
    "print(\"Cross Validation Score Of Logistic Regression Model :\",scr.mean())\n",
    "scr1=cross_val_score(dt,x_new,y_new,cv=5)\n",
    "print(\"Cross Validation Score Of  Decision Tree Model :\",scr1.mean())\n",
    "scr2=cross_val_score(rf,x_new,y_new,cv=5)\n",
    "print(\"Cross Validation Score Of Random Forest Model :\",scr2.mean())\n",
    "scr3=cross_val_score(svc,x_new,y_new,cv=5)\n",
    "print(\"Cross Validation Score Of SVC Model :\",scr3.mean())"
   ]
  },
  {
   "cell_type": "code",
   "execution_count": 82,
   "id": "3f5415ea",
   "metadata": {},
   "outputs": [],
   "source": [
    "from sklearn.model_selection import GridSearchCV\n",
    "# Create parameters list to pass in GridSearchCV\n",
    "parameters={'max_features':['auto','sqrt','log2'],'max_depth':[1,2,3],'criterion':['gini','entropy']}"
   ]
  },
  {
   "cell_type": "code",
   "execution_count": 83,
   "id": "bac4541a",
   "metadata": {},
   "outputs": [
    {
     "data": {
      "text/plain": [
       "{'criterion': 'entropy', 'max_depth': 3, 'max_features': 'auto'}"
      ]
     },
     "execution_count": 83,
     "metadata": {},
     "output_type": "execute_result"
    }
   ],
   "source": [
    "GCV=GridSearchCV(RandomForestClassifier(),parameters,cv=3,scoring=\"accuracy\")\n",
    "GCV.fit(x_train,y_train) # fitting the data in model\n",
    "GCV.best_params_ # Printing the best parameter found by GridSearchCV"
   ]
  },
  {
   "cell_type": "code",
   "execution_count": 84,
   "id": "4f212fdc",
   "metadata": {},
   "outputs": [
    {
     "data": {
      "text/plain": [
       "0.3930995475113122"
      ]
     },
     "execution_count": 84,
     "metadata": {},
     "output_type": "execute_result"
    }
   ],
   "source": [
    "GCV_pred=GCV.best_estimator_.predict(x_test) # predicting with best parameters\n",
    "accuracy_score(y_test,GCV_pred) # checking final accuracy"
   ]
  },
  {
   "cell_type": "code",
   "execution_count": 88,
   "id": "dfee5bc1",
   "metadata": {
    "collapsed": true
   },
   "outputs": [
    {
     "ename": "ValueError",
     "evalue": "RandomForestClassifier should be a binary classifier",
     "output_type": "error",
     "traceback": [
      "\u001b[1;31m---------------------------------------------------------------------------\u001b[0m",
      "\u001b[1;31mValueError\u001b[0m                                Traceback (most recent call last)",
      "\u001b[1;32m<ipython-input-88-7304a6f11d15>\u001b[0m in \u001b[0;36m<module>\u001b[1;34m\u001b[0m\n\u001b[0;32m      1\u001b[0m \u001b[1;32mfrom\u001b[0m \u001b[0msklearn\u001b[0m\u001b[1;33m.\u001b[0m\u001b[0mmetrics\u001b[0m \u001b[1;32mimport\u001b[0m \u001b[0mplot_roc_curve\u001b[0m\u001b[1;33m\u001b[0m\u001b[1;33m\u001b[0m\u001b[0m\n\u001b[1;32m----> 2\u001b[1;33m \u001b[0mplot_roc_curve\u001b[0m\u001b[1;33m(\u001b[0m\u001b[0mGCV\u001b[0m\u001b[1;33m.\u001b[0m\u001b[0mbest_estimator_\u001b[0m\u001b[1;33m,\u001b[0m\u001b[0mx_test\u001b[0m\u001b[1;33m,\u001b[0m\u001b[0my_test\u001b[0m\u001b[1;33m)\u001b[0m\u001b[1;33m\u001b[0m\u001b[1;33m\u001b[0m\u001b[0m\n\u001b[0m\u001b[0;32m      3\u001b[0m \u001b[0mplt\u001b[0m\u001b[1;33m.\u001b[0m\u001b[0mtitle\u001b[0m\u001b[1;33m(\u001b[0m\u001b[1;34m\"ROC AUC Plot\"\u001b[0m\u001b[1;33m)\u001b[0m\u001b[1;33m\u001b[0m\u001b[1;33m\u001b[0m\u001b[0m\n\u001b[0;32m      4\u001b[0m \u001b[0mplt\u001b[0m\u001b[1;33m.\u001b[0m\u001b[0mshow\u001b[0m\u001b[1;33m(\u001b[0m\u001b[1;33m)\u001b[0m\u001b[1;33m\u001b[0m\u001b[1;33m\u001b[0m\u001b[0m\n",
      "\u001b[1;32m~\\anaconda3\\lib\\site-packages\\sklearn\\utils\\validation.py\u001b[0m in \u001b[0;36minner_f\u001b[1;34m(*args, **kwargs)\u001b[0m\n\u001b[0;32m     61\u001b[0m             \u001b[0mextra_args\u001b[0m \u001b[1;33m=\u001b[0m \u001b[0mlen\u001b[0m\u001b[1;33m(\u001b[0m\u001b[0margs\u001b[0m\u001b[1;33m)\u001b[0m \u001b[1;33m-\u001b[0m \u001b[0mlen\u001b[0m\u001b[1;33m(\u001b[0m\u001b[0mall_args\u001b[0m\u001b[1;33m)\u001b[0m\u001b[1;33m\u001b[0m\u001b[1;33m\u001b[0m\u001b[0m\n\u001b[0;32m     62\u001b[0m             \u001b[1;32mif\u001b[0m \u001b[0mextra_args\u001b[0m \u001b[1;33m<=\u001b[0m \u001b[1;36m0\u001b[0m\u001b[1;33m:\u001b[0m\u001b[1;33m\u001b[0m\u001b[1;33m\u001b[0m\u001b[0m\n\u001b[1;32m---> 63\u001b[1;33m                 \u001b[1;32mreturn\u001b[0m \u001b[0mf\u001b[0m\u001b[1;33m(\u001b[0m\u001b[1;33m*\u001b[0m\u001b[0margs\u001b[0m\u001b[1;33m,\u001b[0m \u001b[1;33m**\u001b[0m\u001b[0mkwargs\u001b[0m\u001b[1;33m)\u001b[0m\u001b[1;33m\u001b[0m\u001b[1;33m\u001b[0m\u001b[0m\n\u001b[0m\u001b[0;32m     64\u001b[0m \u001b[1;33m\u001b[0m\u001b[0m\n\u001b[0;32m     65\u001b[0m             \u001b[1;31m# extra_args > 0\u001b[0m\u001b[1;33m\u001b[0m\u001b[1;33m\u001b[0m\u001b[1;33m\u001b[0m\u001b[0m\n",
      "\u001b[1;32m~\\anaconda3\\lib\\site-packages\\sklearn\\metrics\\_plot\\roc_curve.py\u001b[0m in \u001b[0;36mplot_roc_curve\u001b[1;34m(estimator, X, y, sample_weight, drop_intermediate, response_method, name, ax, pos_label, **kwargs)\u001b[0m\n\u001b[0;32m    210\u001b[0m     \u001b[0mcheck_matplotlib_support\u001b[0m\u001b[1;33m(\u001b[0m\u001b[1;34m'plot_roc_curve'\u001b[0m\u001b[1;33m)\u001b[0m\u001b[1;33m\u001b[0m\u001b[1;33m\u001b[0m\u001b[0m\n\u001b[0;32m    211\u001b[0m \u001b[1;33m\u001b[0m\u001b[0m\n\u001b[1;32m--> 212\u001b[1;33m     y_pred, pos_label = _get_response(\n\u001b[0m\u001b[0;32m    213\u001b[0m         X, estimator, response_method, pos_label=pos_label)\n\u001b[0;32m    214\u001b[0m \u001b[1;33m\u001b[0m\u001b[0m\n",
      "\u001b[1;32m~\\anaconda3\\lib\\site-packages\\sklearn\\metrics\\_plot\\base.py\u001b[0m in \u001b[0;36m_get_response\u001b[1;34m(X, estimator, response_method, pos_label)\u001b[0m\n\u001b[0;32m     99\u001b[0m     \u001b[1;32mif\u001b[0m \u001b[0my_pred\u001b[0m\u001b[1;33m.\u001b[0m\u001b[0mndim\u001b[0m \u001b[1;33m!=\u001b[0m \u001b[1;36m1\u001b[0m\u001b[1;33m:\u001b[0m  \u001b[1;31m# `predict_proba`\u001b[0m\u001b[1;33m\u001b[0m\u001b[1;33m\u001b[0m\u001b[0m\n\u001b[0;32m    100\u001b[0m         \u001b[1;32mif\u001b[0m \u001b[0my_pred\u001b[0m\u001b[1;33m.\u001b[0m\u001b[0mshape\u001b[0m\u001b[1;33m[\u001b[0m\u001b[1;36m1\u001b[0m\u001b[1;33m]\u001b[0m \u001b[1;33m!=\u001b[0m \u001b[1;36m2\u001b[0m\u001b[1;33m:\u001b[0m\u001b[1;33m\u001b[0m\u001b[1;33m\u001b[0m\u001b[0m\n\u001b[1;32m--> 101\u001b[1;33m             \u001b[1;32mraise\u001b[0m \u001b[0mValueError\u001b[0m\u001b[1;33m(\u001b[0m\u001b[0mclassification_error\u001b[0m\u001b[1;33m)\u001b[0m\u001b[1;33m\u001b[0m\u001b[1;33m\u001b[0m\u001b[0m\n\u001b[0m\u001b[0;32m    102\u001b[0m         \u001b[1;32mif\u001b[0m \u001b[0mpos_label\u001b[0m \u001b[1;32mis\u001b[0m \u001b[1;32mNone\u001b[0m\u001b[1;33m:\u001b[0m\u001b[1;33m\u001b[0m\u001b[1;33m\u001b[0m\u001b[0m\n\u001b[0;32m    103\u001b[0m             \u001b[0mpos_label\u001b[0m \u001b[1;33m=\u001b[0m \u001b[0mestimator\u001b[0m\u001b[1;33m.\u001b[0m\u001b[0mclasses_\u001b[0m\u001b[1;33m[\u001b[0m\u001b[1;36m1\u001b[0m\u001b[1;33m]\u001b[0m\u001b[1;33m\u001b[0m\u001b[1;33m\u001b[0m\u001b[0m\n",
      "\u001b[1;31mValueError\u001b[0m: RandomForestClassifier should be a binary classifier"
     ]
    }
   ],
   "source": [
    "from sklearn.metrics import plot_roc_curve\n",
    "plot_roc_curve(GCV.best_estimator_,x_test,y_test)\n",
    "plt.title(\"ROC AUC Plot\")\n",
    "plt.show()"
   ]
  },
  {
   "cell_type": "code",
   "execution_count": 89,
   "id": "e2373a2e",
   "metadata": {
    "scrolled": true
   },
   "outputs": [
    {
     "data": {
      "text/html": [
       "<div>\n",
       "<style scoped>\n",
       "    .dataframe tbody tr th:only-of-type {\n",
       "        vertical-align: middle;\n",
       "    }\n",
       "\n",
       "    .dataframe tbody tr th {\n",
       "        vertical-align: top;\n",
       "    }\n",
       "\n",
       "    .dataframe thead th {\n",
       "        text-align: right;\n",
       "    }\n",
       "</style>\n",
       "<table border=\"1\" class=\"dataframe\">\n",
       "  <thead>\n",
       "    <tr style=\"text-align: right;\">\n",
       "      <th></th>\n",
       "      <th>original</th>\n",
       "      <th>predicted</th>\n",
       "    </tr>\n",
       "  </thead>\n",
       "  <tbody>\n",
       "    <tr>\n",
       "      <th>0</th>\n",
       "      <td>44</td>\n",
       "      <td>13</td>\n",
       "    </tr>\n",
       "    <tr>\n",
       "      <th>1</th>\n",
       "      <td>9</td>\n",
       "      <td>9</td>\n",
       "    </tr>\n",
       "    <tr>\n",
       "      <th>2</th>\n",
       "      <td>2</td>\n",
       "      <td>8</td>\n",
       "    </tr>\n",
       "    <tr>\n",
       "      <th>3</th>\n",
       "      <td>29</td>\n",
       "      <td>29</td>\n",
       "    </tr>\n",
       "    <tr>\n",
       "      <th>4</th>\n",
       "      <td>17</td>\n",
       "      <td>17</td>\n",
       "    </tr>\n",
       "    <tr>\n",
       "      <th>...</th>\n",
       "      <td>...</td>\n",
       "      <td>...</td>\n",
       "    </tr>\n",
       "    <tr>\n",
       "      <th>1763</th>\n",
       "      <td>28</td>\n",
       "      <td>28</td>\n",
       "    </tr>\n",
       "    <tr>\n",
       "      <th>1764</th>\n",
       "      <td>7</td>\n",
       "      <td>7</td>\n",
       "    </tr>\n",
       "    <tr>\n",
       "      <th>1765</th>\n",
       "      <td>32</td>\n",
       "      <td>32</td>\n",
       "    </tr>\n",
       "    <tr>\n",
       "      <th>1766</th>\n",
       "      <td>0</td>\n",
       "      <td>0</td>\n",
       "    </tr>\n",
       "    <tr>\n",
       "      <th>1767</th>\n",
       "      <td>23</td>\n",
       "      <td>23</td>\n",
       "    </tr>\n",
       "  </tbody>\n",
       "</table>\n",
       "<p>1768 rows × 2 columns</p>\n",
       "</div>"
      ],
      "text/plain": [
       "      original  predicted\n",
       "0           44         13\n",
       "1            9          9\n",
       "2            2          8\n",
       "3           29         29\n",
       "4           17         17\n",
       "...        ...        ...\n",
       "1763        28         28\n",
       "1764         7          7\n",
       "1765        32         32\n",
       "1766         0          0\n",
       "1767        23         23\n",
       "\n",
       "[1768 rows x 2 columns]"
      ]
     },
     "execution_count": 89,
     "metadata": {},
     "output_type": "execute_result"
    }
   ],
   "source": [
    "# Conclusion:\n",
    "a=np.array(y_test)\n",
    "predicted=np.array(LR.predict(x_test))\n",
    "df_1=pd.DataFrame({'original':a,'predicted':predicted},index=range(len(a)))\n",
    "df_1"
   ]
  },
  {
   "cell_type": "code",
   "execution_count": 90,
   "id": "d3d68db9",
   "metadata": {},
   "outputs": [],
   "source": [
    "# Model Saving\n",
    "import pickle\n",
    "filename = 'AvacadoProject.pkl'\n",
    "pickle.dump(LR,open(filename,'wb'))"
   ]
  },
  {
   "cell_type": "markdown",
   "id": "cc9b9f89",
   "metadata": {},
   "source": [
    "# Thank You...!!!"
   ]
  }
 ],
 "metadata": {
  "kernelspec": {
   "display_name": "Python 3",
   "language": "python",
   "name": "python3"
  },
  "language_info": {
   "codemirror_mode": {
    "name": "ipython",
    "version": 3
   },
   "file_extension": ".py",
   "mimetype": "text/x-python",
   "name": "python",
   "nbconvert_exporter": "python",
   "pygments_lexer": "ipython3",
   "version": "3.8.8"
  }
 },
 "nbformat": 4,
 "nbformat_minor": 5
}
